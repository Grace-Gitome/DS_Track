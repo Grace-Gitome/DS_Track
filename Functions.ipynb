{
  "nbformat": 4,
  "nbformat_minor": 0,
  "metadata": {
    "colab": {
      "provenance": [],
      "authorship_tag": "ABX9TyOiMBSHQzbKzgSRvehKtMJr",
      "include_colab_link": true
    },
    "kernelspec": {
      "name": "python3",
      "display_name": "Python 3"
    },
    "language_info": {
      "name": "python"
    }
  },
  "cells": [
    {
      "cell_type": "markdown",
      "metadata": {
        "id": "view-in-github",
        "colab_type": "text"
      },
      "source": [
        "<a href=\"https://colab.research.google.com/github/Grace-Gitome/DS_Track/blob/main/Functions.ipynb\" target=\"_parent\"><img src=\"https://colab.research.google.com/assets/colab-badge.svg\" alt=\"Open In Colab\"/></a>"
      ]
    },
    {
      "cell_type": "markdown",
      "source": [
        "Resource:https://cs.nyu.edu/courses/summer16/CSCI-UA.0002-002/slides/Python_Functions.pdf\n",
        "\n",
        "\n",
        "A function is a group of statement that exist within a program for the purpose of performing a specific task.\n",
        "\n",
        "```\n",
        "#Defining functions\n",
        "\n",
        "def myFunction():\n",
        "   function_block\n",
        "   retun[expression]\n",
        "\n",
        "\n",
        "#function call\n",
        "myFunction()\n",
        "\n",
        "```\n",
        "More specialized functions are stored in a series of files called modules\n",
        "\n",
        "\n",
        "Types of fuctions <br>\n",
        "1. Built - in functions(python library functions)\n",
        "\n",
        "2. Functions defined within modules.\n",
        "\n",
        "3. Used defined functions.\n",
        "\n"
      ],
      "metadata": {
        "id": "6ChPODvobMM7"
      }
    },
    {
      "cell_type": "code",
      "execution_count": 10,
      "metadata": {
        "colab": {
          "base_uri": "https://localhost:8080/"
        },
        "id": "NCQsoWOIbCCL",
        "outputId": "c73eee4c-c7cd-4f77-8c51-3f8d29b044da"
      },
      "outputs": [
        {
          "name": "stdout",
          "output_type": "stream",
          "text": [
            "Enter a: 3\n",
            "Enter b: 4\n"
          ]
        },
        {
          "output_type": "execute_result",
          "data": {
            "text/plain": [
              "7"
            ]
          },
          "metadata": {},
          "execution_count": 10
        }
      ],
      "source": [
        "#function to calculate sum of two variables\n",
        "\n",
        "#function definition\n",
        "def sum(a,b):\n",
        "  return a + b;\n",
        "\n",
        "#inputting arguments\n",
        "a = int(input(\"Enter a: \"))\n",
        "b = int(input(\"Enter b: \"))\n",
        "\n",
        "#function call\n",
        "sum(a,b)"
      ]
    },
    {
      "cell_type": "markdown",
      "source": [
        "Types of parmeters\n",
        "\n",
        "Values passed through a function call statement are called arguments or actual parameters.\n",
        "\n",
        "Values written in the function definition are called formal parameters"
      ],
      "metadata": {
        "id": "mJE4yWH5i-ux"
      }
    },
    {
      "cell_type": "code",
      "source": [],
      "metadata": {
        "id": "EjPM1iCljkst"
      },
      "execution_count": null,
      "outputs": []
    }
  ]
}