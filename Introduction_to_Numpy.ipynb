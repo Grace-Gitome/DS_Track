{
  "nbformat": 4,
  "nbformat_minor": 0,
  "metadata": {
    "colab": {
      "provenance": [],
      "authorship_tag": "ABX9TyMmwVcDzSUOBuhMT2+Uap4w",
      "include_colab_link": true
    },
    "kernelspec": {
      "name": "python3",
      "display_name": "Python 3"
    },
    "language_info": {
      "name": "python"
    }
  },
  "cells": [
    {
      "cell_type": "markdown",
      "metadata": {
        "id": "view-in-github",
        "colab_type": "text"
      },
      "source": [
        "<a href=\"https://colab.research.google.com/github/Grace-Gitome/DS_Track/blob/main/Introduction_to_Numpy.ipynb\" target=\"_parent\"><img src=\"https://colab.research.google.com/assets/colab-badge.svg\" alt=\"Open In Colab\"/></a>"
      ]
    },
    {
      "cell_type": "code",
      "execution_count": null,
      "metadata": {
        "id": "PK7ApNF-DBC0"
      },
      "outputs": [],
      "source": [
        "#Source: Python Data Science Handbook by Jake Vanders\n",
        "#Numpy is short for Numerical python."
      ]
    },
    {
      "cell_type": "markdown",
      "source": [
        "### Understanding data types in python\n",
        "\n",
        "Python is easy to use due to dynamic typing <br>\n",
        "\n",
        "In statically-typed languages like C or Jave each variable is explicity declared.<br>\n",
        "\n",
        "```C\n",
        "/* C code */\n",
        "int result = 0;\n",
        "for(int i=0; i<100; i++){\n",
        "    result += i;\n",
        "}\n",
        "```\n",
        "\n",
        "In python the data types are dynamically inferred meaning we can assign any data to any variable.<br>\n",
        "\n",
        "```python\n",
        "# Python code\n",
        "result = 0\n",
        "for i in range(100):\n",
        "  result += i\n",
        "\n",
        "```"
      ],
      "metadata": {
        "id": "zh3N6NLuF2mc"
      }
    },
    {
      "cell_type": "code",
      "source": [
        "#List of integers.\n",
        "L= list(range(10))\n",
        "L\n"
      ],
      "metadata": {
        "colab": {
          "base_uri": "https://localhost:8080/"
        },
        "id": "fzAZ4GbKDI-z",
        "outputId": "907a05c8-e689-412f-9a52-c1391fe28928"
      },
      "execution_count": 5,
      "outputs": [
        {
          "output_type": "execute_result",
          "data": {
            "text/plain": [
              "[0, 1, 2, 3, 4, 5, 6, 7, 8, 9]"
            ]
          },
          "metadata": {},
          "execution_count": 5
        }
      ]
    },
    {
      "cell_type": "code",
      "source": [
        "type(L)\n"
      ],
      "metadata": {
        "colab": {
          "base_uri": "https://localhost:8080/"
        },
        "id": "R8uGA6L7JHEt",
        "outputId": "011e6344-5a25-429e-b389-2ddfa57fe812"
      },
      "execution_count": 7,
      "outputs": [
        {
          "output_type": "execute_result",
          "data": {
            "text/plain": [
              "list"
            ]
          },
          "metadata": {},
          "execution_count": 7
        }
      ]
    },
    {
      "cell_type": "code",
      "source": [
        "type(L[0])"
      ],
      "metadata": {
        "colab": {
          "base_uri": "https://localhost:8080/"
        },
        "id": "3HzSj5lnJXCn",
        "outputId": "8c93a676-9280-4e54-ae09-475a76c34d97"
      },
      "execution_count": 8,
      "outputs": [
        {
          "output_type": "execute_result",
          "data": {
            "text/plain": [
              "int"
            ]
          },
          "metadata": {},
          "execution_count": 8
        }
      ]
    },
    {
      "cell_type": "code",
      "source": [
        "#List of strings\n",
        "L2 = [str(c) for c in L]\n",
        "print(L2)"
      ],
      "metadata": {
        "colab": {
          "base_uri": "https://localhost:8080/"
        },
        "id": "WO_IegvBJas7",
        "outputId": "8ad406f6-621c-458d-9cd8-9ca864bc508f"
      },
      "execution_count": 10,
      "outputs": [
        {
          "output_type": "stream",
          "name": "stdout",
          "text": [
            "['0', '1', '2', '3', '4', '5', '6', '7', '8', '9']\n"
          ]
        }
      ]
    },
    {
      "cell_type": "code",
      "source": [
        "type(L2[0])"
      ],
      "metadata": {
        "colab": {
          "base_uri": "https://localhost:8080/"
        },
        "id": "sLMudAsdJuBU",
        "outputId": "0a64fe99-6953-4134-9117-229ac1eaf7df"
      },
      "execution_count": 11,
      "outputs": [
        {
          "output_type": "execute_result",
          "data": {
            "text/plain": [
              "str"
            ]
          },
          "metadata": {},
          "execution_count": 11
        }
      ]
    },
    {
      "cell_type": "code",
      "source": [
        "#heterogeneous strring\n",
        "L3 = [True, \"2\", 3.0,4]\n",
        "[type(item) for item in L3]"
      ],
      "metadata": {
        "colab": {
          "base_uri": "https://localhost:8080/"
        },
        "id": "6H_d9DKtJyeO",
        "outputId": "abb59da3-bd0c-4dee-bacb-a30616fc073b"
      },
      "execution_count": 12,
      "outputs": [
        {
          "output_type": "execute_result",
          "data": {
            "text/plain": [
              "[bool, str, float, int]"
            ]
          },
          "metadata": {},
          "execution_count": 12
        }
      ]
    },
    {
      "cell_type": "code",
      "source": [
        "#Python list is that each item in the lit must contain its own type info,reference etc resultng to redundancy.\n",
        "#fixed-type(Numpy-style) array contains a single pointer to each block of data. It is much for efficient in storing and manipulating data."
      ],
      "metadata": {
        "id": "BS88Z4yIKn2Q"
      },
      "execution_count": 14,
      "outputs": []
    },
    {
      "cell_type": "code",
      "source": [
        "#Fixed array in python\n",
        "\n",
        "import array\n",
        "L = list(range(10))\n",
        "A = array.array('i',L)  # i is a typecode indicating contents are integers.\n",
        "A"
      ],
      "metadata": {
        "colab": {
          "base_uri": "https://localhost:8080/"
        },
        "id": "EBE-jHDuLHmy",
        "outputId": "46438d8b-bed1-4709-db0a-a4f46fc01980"
      },
      "execution_count": 16,
      "outputs": [
        {
          "output_type": "execute_result",
          "data": {
            "text/plain": [
              "array('i', [0, 1, 2, 3, 4, 5, 6, 7, 8, 9])"
            ]
          },
          "metadata": {},
          "execution_count": 16
        }
      ]
    },
    {
      "cell_type": "markdown",
      "source": [
        "### Creating arrays from lists"
      ],
      "metadata": {
        "id": "q7S1aK6VUtb4"
      }
    },
    {
      "cell_type": "code",
      "source": [
        "#Creating array from python lists\n",
        "import numpy as np\n",
        "np.array([1,2,3,4,5])\n",
        "\n",
        "#unlike python lists, Numpy is constrained to arrays that contain the same type."
      ],
      "metadata": {
        "colab": {
          "base_uri": "https://localhost:8080/"
        },
        "id": "ULv7fExtKo7G",
        "outputId": "c68ca34a-9aad-4eaf-a421-53a050dbad84"
      },
      "execution_count": 18,
      "outputs": [
        {
          "output_type": "execute_result",
          "data": {
            "text/plain": [
              "array([1, 2, 3, 4, 5])"
            ]
          },
          "metadata": {},
          "execution_count": 18
        }
      ]
    },
    {
      "cell_type": "code",
      "source": [
        "#if datatypes dont match,Numpy will upcast\n",
        "np.array([1,2,3,4.7,5])"
      ],
      "metadata": {
        "colab": {
          "base_uri": "https://localhost:8080/"
        },
        "id": "MD7dl-spKpZ_",
        "outputId": "f4cbbf09-cc33-4abf-92f9-91587b60fc45"
      },
      "execution_count": 19,
      "outputs": [
        {
          "output_type": "execute_result",
          "data": {
            "text/plain": [
              "array([1. , 2. , 3. , 4.7, 5. ])"
            ]
          },
          "metadata": {},
          "execution_count": 19
        }
      ]
    },
    {
      "cell_type": "code",
      "source": [
        "#setting the data type use dtype\n",
        "np.array([1,2,3,4,5], dtype = 'float32')"
      ],
      "metadata": {
        "colab": {
          "base_uri": "https://localhost:8080/"
        },
        "id": "SqxZmowPKqqw",
        "outputId": "2a42fc81-42d1-4b71-f934-141fbcb4f153"
      },
      "execution_count": 20,
      "outputs": [
        {
          "output_type": "execute_result",
          "data": {
            "text/plain": [
              "array([1., 2., 3., 4., 5.], dtype=float32)"
            ]
          },
          "metadata": {},
          "execution_count": 20
        }
      ]
    },
    {
      "cell_type": "code",
      "source": [
        "# nested lists result in multi-dimensional arrays\n",
        "np.array([range(i, i + 3) for i in [2, 4, 6]]) #inner list are treated as rows"
      ],
      "metadata": {
        "colab": {
          "base_uri": "https://localhost:8080/"
        },
        "id": "TUv9OMRkKqnl",
        "outputId": "93f8ffcb-8594-41cd-cf90-5434639b1020"
      },
      "execution_count": 21,
      "outputs": [
        {
          "output_type": "execute_result",
          "data": {
            "text/plain": [
              "array([[2, 3, 4],\n",
              "       [4, 5, 6],\n",
              "       [6, 7, 8]])"
            ]
          },
          "metadata": {},
          "execution_count": 21
        }
      ]
    },
    {
      "cell_type": "markdown",
      "source": [
        "### Creating arrays from scratch using Numpy"
      ],
      "metadata": {
        "id": "z1mUe5NfUUBj"
      }
    },
    {
      "cell_type": "code",
      "source": [
        "#Creating arrays from scratch\n",
        "np.zeros(10, dtype = int)"
      ],
      "metadata": {
        "colab": {
          "base_uri": "https://localhost:8080/"
        },
        "id": "vQHunyBKKqlE",
        "outputId": "03043851-69b7-4c80-b782-62bdb5de2eca"
      },
      "execution_count": 22,
      "outputs": [
        {
          "output_type": "execute_result",
          "data": {
            "text/plain": [
              "array([0, 0, 0, 0, 0, 0, 0, 0, 0, 0])"
            ]
          },
          "metadata": {},
          "execution_count": 22
        }
      ]
    },
    {
      "cell_type": "code",
      "source": [
        "np.ones(6, dtype = int)"
      ],
      "metadata": {
        "colab": {
          "base_uri": "https://localhost:8080/"
        },
        "id": "z0vWm3wmKqi4",
        "outputId": "882f8246-aeb3-4045-d2bd-ade6a07d83ea"
      },
      "execution_count": 24,
      "outputs": [
        {
          "output_type": "execute_result",
          "data": {
            "text/plain": [
              "array([1, 1, 1, 1, 1, 1])"
            ]
          },
          "metadata": {},
          "execution_count": 24
        }
      ]
    },
    {
      "cell_type": "code",
      "source": [
        "#3x5 floating array\n",
        "np.ones((3,5), dtype = float)"
      ],
      "metadata": {
        "colab": {
          "base_uri": "https://localhost:8080/"
        },
        "id": "Eb6dkL8tKqgi",
        "outputId": "05ad81ff-1135-414f-ac9c-56da52ede2b2"
      },
      "execution_count": 25,
      "outputs": [
        {
          "output_type": "execute_result",
          "data": {
            "text/plain": [
              "array([[1., 1., 1., 1., 1.],\n",
              "       [1., 1., 1., 1., 1.],\n",
              "       [1., 1., 1., 1., 1.]])"
            ]
          },
          "metadata": {},
          "execution_count": 25
        }
      ]
    },
    {
      "cell_type": "code",
      "source": [
        "#filled with 7\n",
        "np.full((4,4),7)"
      ],
      "metadata": {
        "colab": {
          "base_uri": "https://localhost:8080/"
        },
        "id": "8la4xaDEKqes",
        "outputId": "17b9614c-09f8-4941-c8dd-23971406d21e"
      },
      "execution_count": 27,
      "outputs": [
        {
          "output_type": "execute_result",
          "data": {
            "text/plain": [
              "array([[7, 7, 7, 7],\n",
              "       [7, 7, 7, 7],\n",
              "       [7, 7, 7, 7],\n",
              "       [7, 7, 7, 7]])"
            ]
          },
          "metadata": {},
          "execution_count": 27
        }
      ]
    },
    {
      "cell_type": "code",
      "source": [
        "#an array filled with a linear sequence\n",
        "#arange() function\n",
        "np.arange(0,20,2)"
      ],
      "metadata": {
        "colab": {
          "base_uri": "https://localhost:8080/"
        },
        "id": "zrXr9qXeKqbn",
        "outputId": "4c8aa1cc-c028-4963-80ba-9431f136c53f"
      },
      "execution_count": 29,
      "outputs": [
        {
          "output_type": "execute_result",
          "data": {
            "text/plain": [
              "array([ 0,  2,  4,  6,  8, 10, 12, 14, 16, 18])"
            ]
          },
          "metadata": {},
          "execution_count": 29
        }
      ]
    },
    {
      "cell_type": "code",
      "source": [
        "#an array of 6 values that are evely spaced between 0 and 1\n",
        "np.linspace(0,1,6)"
      ],
      "metadata": {
        "colab": {
          "base_uri": "https://localhost:8080/"
        },
        "id": "bcUrfw37PJic",
        "outputId": "c6f8622d-2112-4c15-ef34-c2b240b40023"
      },
      "execution_count": 34,
      "outputs": [
        {
          "output_type": "execute_result",
          "data": {
            "text/plain": [
              "array([0. , 0.2, 0.4, 0.6, 0.8, 1. ])"
            ]
          },
          "metadata": {},
          "execution_count": 34
        }
      ]
    },
    {
      "cell_type": "code",
      "source": [
        "#3x3 uniformly distributed matrix\n",
        "np.random.random((3,3))"
      ],
      "metadata": {
        "colab": {
          "base_uri": "https://localhost:8080/"
        },
        "id": "a6JUJhX0KqYh",
        "outputId": "7a85a7c9-b470-46df-e486-a55e6af6f8c7"
      },
      "execution_count": 37,
      "outputs": [
        {
          "output_type": "execute_result",
          "data": {
            "text/plain": [
              "array([[0.86855642, 0.36223354, 0.63583489],\n",
              "       [0.59142507, 0.19945668, 0.63726193],\n",
              "       [0.49246362, 0.82741902, 0.60743784]])"
            ]
          },
          "metadata": {},
          "execution_count": 37
        }
      ]
    },
    {
      "cell_type": "code",
      "source": [
        "# Create a 3x3 array of normally distributed random values\n",
        "# with mean 0 and standard deviation 1\n",
        "np.random.normal (0,1 ,(3,3))"
      ],
      "metadata": {
        "colab": {
          "base_uri": "https://localhost:8080/"
        },
        "id": "k5IUoc7sKqVu",
        "outputId": "992ad515-dac5-4509-b3a2-b5b4567e6026"
      },
      "execution_count": 40,
      "outputs": [
        {
          "output_type": "execute_result",
          "data": {
            "text/plain": [
              "array([[ 0.27045742, -1.72160056, -1.41415948],\n",
              "       [ 0.28856881,  0.83491786, -0.37570108],\n",
              "       [ 0.16082327, -1.04877146,  1.1162039 ]])"
            ]
          },
          "metadata": {},
          "execution_count": 40
        }
      ]
    },
    {
      "cell_type": "code",
      "source": [
        "# Create a 3x3 array of random integers in the interval [0, 10)\n",
        "np.random.randint(0,10,(3,3))"
      ],
      "metadata": {
        "colab": {
          "base_uri": "https://localhost:8080/"
        },
        "id": "KWPV7uiaQoQX",
        "outputId": "67f35e4d-74c0-4408-d0fb-81e9ba4a71ab"
      },
      "execution_count": 42,
      "outputs": [
        {
          "output_type": "execute_result",
          "data": {
            "text/plain": [
              "array([[0, 2, 2],\n",
              "       [4, 4, 0],\n",
              "       [3, 9, 9]])"
            ]
          },
          "metadata": {},
          "execution_count": 42
        }
      ]
    },
    {
      "cell_type": "code",
      "source": [
        "#identity matrix\n",
        "np.identity(3)"
      ],
      "metadata": {
        "colab": {
          "base_uri": "https://localhost:8080/"
        },
        "id": "SkO3NCFuQoT0",
        "outputId": "9353e91e-d335-4b3c-ebdd-85781928e881"
      },
      "execution_count": 43,
      "outputs": [
        {
          "output_type": "execute_result",
          "data": {
            "text/plain": [
              "array([[1., 0., 0.],\n",
              "       [0., 1., 0.],\n",
              "       [0., 0., 1.]])"
            ]
          },
          "metadata": {},
          "execution_count": 43
        }
      ]
    },
    {
      "cell_type": "markdown",
      "source": [
        "### Numpy Data Types\n",
        "\n",
        "| Data type\t    | Description |\n",
        "|---------------|-------------|\n",
        "| ``bool_``     | Boolean (True or False) stored as a byte |\n",
        "| ``int_``      | Default integer type (same as C ``long``; normally either ``int64`` or ``int32``)| \n",
        "| ``intc``      | Identical to C ``int`` (normally ``int32`` or ``int64``)| \n",
        "| ``intp``      | Integer used for indexing (same as C ``ssize_t``; normally either ``int32`` or ``int64``)| \n",
        "| ``int8``      | Byte (-128 to 127)| \n",
        "| ``int16``     | Integer (-32768 to 32767)|\n",
        "| ``int32``     | Integer (-2147483648 to 2147483647)|\n",
        "| ``int64``     | Integer (-9223372036854775808 to 9223372036854775807)| \n",
        "| ``uint8``     | Unsigned integer (0 to 255)| \n",
        "| ``uint16``    | Unsigned integer (0 to 65535)| \n",
        "| ``uint32``    | Unsigned integer (0 to 4294967295)| \n",
        "| ``uint64``    | Unsigned integer (0 to 18446744073709551615)| \n",
        "| ``float_``    | Shorthand for ``float64``.| \n",
        "| ``float16``   | Half precision float: sign bit, 5 bits exponent, 10 bits mantissa| \n",
        "| ``float32``   | Single precision float: sign bit, 8 bits exponent, 23 bits mantissa| \n",
        "| ``float64``   | Double precision float: sign bit, 11 bits exponent, 52 bits mantissa| \n",
        "| ``complex_``  | Shorthand for ``complex128``.| \n",
        "| ``complex64`` | Complex number, represented by two 32-bit floats| \n",
        "| ``complex128``| Complex number, represented by two 64-bit floats| "
      ],
      "metadata": {
        "id": "XxzsGpweRn-7"
      }
    },
    {
      "cell_type": "markdown",
      "source": [
        "#The Basics of Numpy Arrays"
      ],
      "metadata": {
        "id": "AURmTqdlWGzc"
      }
    },
    {
      "cell_type": "markdown",
      "source": [
        "#### Numpy array attributes\n"
      ],
      "metadata": {
        "id": "pmtN8uYbWf85"
      }
    },
    {
      "cell_type": "code",
      "source": [],
      "metadata": {
        "id": "a5ewCBuQQoZw"
      },
      "execution_count": null,
      "outputs": []
    },
    {
      "cell_type": "code",
      "source": [],
      "metadata": {
        "id": "9r8baVFOQocD"
      },
      "execution_count": null,
      "outputs": []
    },
    {
      "cell_type": "code",
      "source": [],
      "metadata": {
        "id": "ZJFyySqsQoej"
      },
      "execution_count": null,
      "outputs": []
    },
    {
      "cell_type": "code",
      "source": [],
      "metadata": {
        "id": "6ykE3DazQog7"
      },
      "execution_count": null,
      "outputs": []
    },
    {
      "cell_type": "code",
      "source": [],
      "metadata": {
        "id": "jtNtk94uQojX"
      },
      "execution_count": null,
      "outputs": []
    },
    {
      "cell_type": "code",
      "source": [],
      "metadata": {
        "id": "czWof6opQomQ"
      },
      "execution_count": null,
      "outputs": []
    },
    {
      "cell_type": "code",
      "source": [],
      "metadata": {
        "id": "3sqDJc5vKqR1"
      },
      "execution_count": null,
      "outputs": []
    },
    {
      "cell_type": "code",
      "source": [],
      "metadata": {
        "id": "EDAj8-brKqFj"
      },
      "execution_count": null,
      "outputs": []
    },
    {
      "cell_type": "code",
      "source": [],
      "metadata": {
        "id": "HLWF-2FeKqCY"
      },
      "execution_count": null,
      "outputs": []
    }
  ]
}