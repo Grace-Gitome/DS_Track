{
  "nbformat": 4,
  "nbformat_minor": 0,
  "metadata": {
    "colab": {
      "provenance": [],
      "authorship_tag": "ABX9TyO5DEkVA2k91ArDTeVg1Jbn",
      "include_colab_link": true
    },
    "kernelspec": {
      "name": "python3",
      "display_name": "Python 3"
    },
    "language_info": {
      "name": "python"
    }
  },
  "cells": [
    {
      "cell_type": "markdown",
      "metadata": {
        "id": "view-in-github",
        "colab_type": "text"
      },
      "source": [
        "<a href=\"https://colab.research.google.com/github/Grace-Gitome/DS_Track/blob/main/Introduction_to_Python_for_Machine_Learning.ipynb\" target=\"_parent\"><img src=\"https://colab.research.google.com/assets/colab-badge.svg\" alt=\"Open In Colab\"/></a>"
      ]
    },
    {
      "cell_type": "markdown",
      "source": [
        "### Getting started with Python & Data Analysis\n",
        "Data science pipleline can be described as an end-to-end process in which every step contributes to the final insights. <br>\n",
        "Step 1: Data scooping <br>\n",
        "Collection of data from various sources i.e downloading from internet, questionnaires and surveys. <br>\n",
        "\n",
        "Step 2: Data review <br>\n",
        "Data wrangling, reviewing and transforming data from a messy form into a more appropriate state for ease of use.<br>\n",
        "\n",
        "Step 3: Feature engineering <br>\n",
        "Conducting Exploratory Data Analysis (EDA) on the cleaned data using visualizations and statistical methods. <br>\n",
        "\n",
        "Step 4: Feature review <br>\n",
        "Step 5 Model selection and review <br>\n",
        "Modelling involves using statistical and ML methods for classifying and clustering the processed data to create predictive modles.\n",
        "\n",
        "Step 6: Model evaluation and insights <br>\n",
        "Several evaluation methods are employed to compare the performance of these moels and continuously improve before a final model is selected.<br>\n",
        "\n",
        "Step 7: Interaction/production <br>\n",
        "Presentation of finding from analysis through visualisations and clear reporting.<br>\n",
        "\n",
        "Step 8: Feedback <br>\n",
        "This is an iterative process"
      ],
      "metadata": {
        "id": "sXrRvnpz54Rj"
      }
    },
    {
      "cell_type": "markdown",
      "source": [
        "### Numpy array and vectorization\n",
        "NumPy - Numeric Python Library <br>\n",
        "Pandas - toolkit inbuild in NumPy with datastructures called dataframes.<br>"
      ],
      "metadata": {
        "id": "lcvdXuy19uWl"
      }
    },
    {
      "cell_type": "code",
      "source": [
        "import numpy as np\n",
        "\n",
        "arr = [6,7,8,9]\n",
        "print(type(arr))   #type() function  indicates the object type\n",
        "\n",
        "a = np.array(arr)\n",
        "print(a.shape)      #indicates number of items in the array (row,column)\n",
        "\n",
        "print(a.dtype)\n",
        "\n",
        "print(a.ndim)       #indicates the dimension of the array"
      ],
      "metadata": {
        "colab": {
          "base_uri": "https://localhost:8080/"
        },
        "id": "lcSV6CIm7hvS",
        "outputId": "c8202cd3-8ec3-48d5-844f-bd2e440f5d9d"
      },
      "execution_count": null,
      "outputs": [
        {
          "output_type": "stream",
          "name": "stdout",
          "text": [
            "<class 'list'>\n",
            "(4,)\n",
            "int64\n",
            "1\n"
          ]
        }
      ]
    },
    {
      "cell_type": "code",
      "source": [
        "import numpy as np\n",
        "b = np.array([[1,2,3],[4,5,6]]) \n",
        "\n",
        "print(b)\n",
        "\n",
        "print(b.ndim) #array dimension\n",
        "\n",
        "print(b.shape) # (row,column) =(2,3)"
      ],
      "metadata": {
        "colab": {
          "base_uri": "https://localhost:8080/"
        },
        "id": "Wi1wt0q1_6YV",
        "outputId": "07017103-214c-4a09-9eb6-2662711642be"
      },
      "execution_count": null,
      "outputs": [
        {
          "output_type": "stream",
          "name": "stdout",
          "text": [
            "[[1 2 3]\n",
            " [4 5 6]]\n",
            "2\n",
            "(2, 3)\n"
          ]
        }
      ]
    },
    {
      "cell_type": "code",
      "source": [
        "import numpy as np\n",
        "\n",
        "#There are some inbuild functions that can be used to initialize numpy\n",
        "\n",
        "np.random.random((2,3))\n",
        "\n"
      ],
      "metadata": {
        "colab": {
          "base_uri": "https://localhost:8080/"
        },
        "id": "-CKrKLHjApxz",
        "outputId": "1f81dcf5-9ebf-40a7-d81d-970ce4a7bc8e"
      },
      "execution_count": null,
      "outputs": [
        {
          "output_type": "execute_result",
          "data": {
            "text/plain": [
              "array([[0.34183446, 0.65520718, 0.63396355],\n",
              "       [0.5341236 , 0.26290275, 0.19144274]])"
            ]
          },
          "metadata": {},
          "execution_count": 11
        }
      ]
    },
    {
      "cell_type": "code",
      "source": [
        "import numpy as numpy\n",
        "\n",
        "np.zeros ((2,3))"
      ],
      "metadata": {
        "colab": {
          "base_uri": "https://localhost:8080/"
        },
        "id": "X3F2HFvPBhld",
        "outputId": "2981ff04-7875-449d-d81e-b4755e2a131a"
      },
      "execution_count": null,
      "outputs": [
        {
          "output_type": "execute_result",
          "data": {
            "text/plain": [
              "array([[0., 0., 0.],\n",
              "       [0., 0., 0.]])"
            ]
          },
          "metadata": {},
          "execution_count": 13
        }
      ]
    },
    {
      "cell_type": "code",
      "source": [
        "import numpy as np\n",
        "\n",
        "np.ones((3,3))"
      ],
      "metadata": {
        "colab": {
          "base_uri": "https://localhost:8080/"
        },
        "id": "ffRty3WzBs3n",
        "outputId": "a98085a0-c171-4987-e044-3b5f140ede82"
      },
      "execution_count": null,
      "outputs": [
        {
          "output_type": "execute_result",
          "data": {
            "text/plain": [
              "array([[1., 1., 1.],\n",
              "       [1., 1., 1.],\n",
              "       [1., 1., 1.]])"
            ]
          },
          "metadata": {},
          "execution_count": 14
        }
      ]
    },
    {
      "cell_type": "code",
      "source": [
        "import numpy as np\n",
        "\n",
        "np.identity(3)"
      ],
      "metadata": {
        "id": "vtdgvjb6DJyx",
        "colab": {
          "base_uri": "https://localhost:8080/"
        },
        "outputId": "24d036b4-0a67-4ac9-cf09-3bff0e6f56bb"
      },
      "execution_count": 16,
      "outputs": [
        {
          "output_type": "execute_result",
          "data": {
            "text/plain": [
              "array([[1., 0., 0.],\n",
              "       [0., 1., 0.],\n",
              "       [0., 0., 1.]])"
            ]
          },
          "metadata": {},
          "execution_count": 16
        }
      ]
    },
    {
      "cell_type": "markdown",
      "source": [
        "Interoperability of arrays and scalars <br>\n",
        "Vector - an object that has both magnitude and direction <br>\n",
        "\n",
        "Scalar - a physical quanitity that is completely described by its magnitude <br>\n",
        "\n",
        "Vectorisation in numpy arrays allows for faster processing by eliminating loops while dealing with arrays of equal shape."
      ],
      "metadata": {
        "id": "78w2Zp6tCS_B"
      }
    },
    {
      "cell_type": "code",
      "source": [
        "import numpy as np\n",
        "\n",
        "c=np.array([[1.0,2.0,3.0],[4.0,5.0,6.0]])\n",
        "d=np.array([[7.0,8.0,9.0],[10.0,11.0,12.0]])\n",
        "\n",
        "print(c+d)\n",
        "\n",
        "print(c**2) #pow 2"
      ],
      "metadata": {
        "id": "Aie8rQGLAROH",
        "colab": {
          "base_uri": "https://localhost:8080/"
        },
        "outputId": "4771a3e5-9930-4609-bfd4-ec72cc353a5a"
      },
      "execution_count": 17,
      "outputs": [
        {
          "output_type": "stream",
          "name": "stdout",
          "text": [
            "[[ 8. 10. 12.]\n",
            " [14. 16. 18.]]\n",
            "[[ 1.  4.  9.]\n",
            " [16. 25. 36.]]\n"
          ]
        }
      ]
    },
    {
      "cell_type": "code",
      "source": [
        "import numpy as np\n",
        "\n",
        "e = np.array([[10,11,12],[13,14,15],[16,17,18],[19,20,21]])\n",
        "\n",
        "#slicing array\n",
        "print (e[:3,:2] )\n",
        "\n",
        " "
      ],
      "metadata": {
        "id": "qdYc7caVEdMj",
        "colab": {
          "base_uri": "https://localhost:8080/"
        },
        "outputId": "e76b53d9-90e5-45a2-bdd8-6a267a057f23"
      },
      "execution_count": 29,
      "outputs": [
        {
          "output_type": "stream",
          "name": "stdout",
          "text": [
            "[[10 11]\n",
            " [13 14]\n",
            " [16 17]]\n",
            "[[10 11 12]\n",
            " [13 14 15]\n",
            " [16 17 18]\n",
            " [19 20 21]]\n"
          ]
        }
      ]
    },
    {
      "cell_type": "code",
      "source": [
        "import numpy as np\n",
        "\n",
        "e = np.array([[10,11,12],[13,14,15],[16,17,18],[19,20,21]])\n",
        "\n",
        "print( e[e>15])"
      ],
      "metadata": {
        "id": "i7KqbqipAMXx",
        "colab": {
          "base_uri": "https://localhost:8080/"
        },
        "outputId": "5846cb10-3420-47ea-94ce-60cb865be153"
      },
      "execution_count": 28,
      "outputs": [
        {
          "output_type": "stream",
          "name": "stdout",
          "text": [
            "[16 17 18 19 20 21]\n"
          ]
        }
      ]
    },
    {
      "cell_type": "markdown",
      "source": [
        "### Introducing Pandas data structures: Series, dataFrames and Index objects\n",
        "\n"
      ],
      "metadata": {
        "id": "DhHDoILWInj0"
      }
    },
    {
      "cell_type": "markdown",
      "source": [
        "SERIES\n",
        "\n",
        "One dimensional array with homogeneous elements of different types."
      ],
      "metadata": {
        "id": "wf9EzwydI9lS"
      }
    },
    {
      "cell_type": "code",
      "source": [
        "import pandas as pd\n",
        "days = pd.Series([\"Monday\",\"Tuesday\",\"Wednesday\"])\n",
        "print(days)"
      ],
      "metadata": {
        "colab": {
          "base_uri": "https://localhost:8080/"
        },
        "id": "QB4AsLb-JCRF",
        "outputId": "979c1926-04d2-4d82-e5d2-e53df7882b66"
      },
      "execution_count": 30,
      "outputs": [
        {
          "output_type": "stream",
          "name": "stdout",
          "text": [
            "0       Monday\n",
            "1      Tuesday\n",
            "2    Wednesday\n",
            "dtype: object\n"
          ]
        }
      ]
    },
    {
      "cell_type": "code",
      "source": [
        "#creating series with numpy array\n",
        "import numpy as np\n",
        "import pandas as pd\n",
        "\n",
        "DaysList = np.array ([\"Monday\",\"Tuesday\",\"Wednesday\"])\n",
        "NumpyDays = pd.Series(DaysList)\n",
        "print(NumpyDays)"
      ],
      "metadata": {
        "colab": {
          "base_uri": "https://localhost:8080/"
        },
        "id": "kVhJHVsKJcY5",
        "outputId": "d2cb49cf-21e0-4ac8-d938-8bf206004887"
      },
      "execution_count": 32,
      "outputs": [
        {
          "output_type": "stream",
          "name": "stdout",
          "text": [
            "0       Monday\n",
            "1      Tuesday\n",
            "2    Wednesday\n",
            "dtype: object\n"
          ]
        }
      ]
    },
    {
      "cell_type": "code",
      "source": [
        "import pandas as pd\n",
        "days = pd.Series([\"Monday\",\"Tuesday\",\"Wednesday\"])\n",
        "\n",
        "print(days[0])\n",
        "\n",
        "print(days[1:])\n",
        "\n",
        "\n"
      ],
      "metadata": {
        "colab": {
          "base_uri": "https://localhost:8080/"
        },
        "id": "ctpHctrjJAFO",
        "outputId": "513098f6-7bdc-4a13-f3a6-d57b21d40c97"
      },
      "execution_count": 36,
      "outputs": [
        {
          "output_type": "stream",
          "name": "stdout",
          "text": [
            "Monday\n",
            "1      Tuesday\n",
            "2    Wednesday\n",
            "dtype: object\n"
          ]
        }
      ]
    },
    {
      "cell_type": "markdown",
      "source": [
        "DATA FRAMES\n",
        "\n",
        "can be described as a table (2 dimensions) <br>\n",
        "It is made up of many series with the same index"
      ],
      "metadata": {
        "id": "yW8YNNBDK-Wa"
      }
    },
    {
      "cell_type": "code",
      "source": [],
      "metadata": {
        "id": "C90DhRICLBcD"
      },
      "execution_count": null,
      "outputs": []
    },
    {
      "cell_type": "code",
      "source": [],
      "metadata": {
        "id": "kCWsZMn-K4vE"
      },
      "execution_count": null,
      "outputs": []
    },
    {
      "cell_type": "code",
      "source": [],
      "metadata": {
        "id": "IKcjoRJAK1aA"
      },
      "execution_count": null,
      "outputs": []
    },
    {
      "cell_type": "code",
      "source": [],
      "metadata": {
        "id": "p35XDMaJ_zlZ"
      },
      "execution_count": null,
      "outputs": []
    },
    {
      "cell_type": "code",
      "execution_count": null,
      "metadata": {
        "id": "eGpf865H5AAe"
      },
      "outputs": [],
      "source": []
    }
  ]
}