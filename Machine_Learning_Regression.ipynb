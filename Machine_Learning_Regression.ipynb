{
  "cells": [
    {
      "cell_type": "markdown",
      "metadata": {
        "id": "view-in-github",
        "colab_type": "text"
      },
      "source": [
        "<a href=\"https://colab.research.google.com/github/Grace-Gitome/DS_Track/blob/main/Machine_Learning_Regression.ipynb\" target=\"_parent\"><img src=\"https://colab.research.google.com/assets/colab-badge.svg\" alt=\"Open In Colab\"/></a>"
      ]
    },
    {
      "cell_type": "markdown",
      "metadata": {
        "id": "qURYEzQHDC_h"
      },
      "source": [
        "##Predicting energy Efficiency of buildings.\n",
        "\n",
        "Regression is a statistical method that attempts to dtermine the strength and character of relationship between one independent variable and a series of dependent variables."
      ]
    },
    {
      "cell_type": "markdown",
      "metadata": {
        "id": "hhA9V_MHDlxf"
      },
      "source": [
        "### Simple linear regression\n",
        "\n",
        "A simple linear regression model estimates the relationship between two quantitative variables where one is referred to as the independent variable and the other the dependent variable."
      ]
    },
    {
      "cell_type": "code",
      "execution_count": 17,
      "metadata": {
        "colab": {
          "base_uri": "https://localhost:8080/",
          "height": 73
        },
        "id": "wwUfMB2UZ9Hj",
        "outputId": "2782e2f7-9130-4d62-b90d-8c8a27ee2820"
      },
      "outputs": [
        {
          "output_type": "display_data",
          "data": {
            "text/plain": [
              "<IPython.core.display.HTML object>"
            ],
            "text/html": [
              "\n",
              "     <input type=\"file\" id=\"files-3899cfb4-c706-4c66-8302-56a0d65c9395\" name=\"files[]\" multiple disabled\n",
              "        style=\"border:none\" />\n",
              "     <output id=\"result-3899cfb4-c706-4c66-8302-56a0d65c9395\">\n",
              "      Upload widget is only available when the cell has been executed in the\n",
              "      current browser session. Please rerun this cell to enable.\n",
              "      </output>\n",
              "      <script>// Copyright 2017 Google LLC\n",
              "//\n",
              "// Licensed under the Apache License, Version 2.0 (the \"License\");\n",
              "// you may not use this file except in compliance with the License.\n",
              "// You may obtain a copy of the License at\n",
              "//\n",
              "//      http://www.apache.org/licenses/LICENSE-2.0\n",
              "//\n",
              "// Unless required by applicable law or agreed to in writing, software\n",
              "// distributed under the License is distributed on an \"AS IS\" BASIS,\n",
              "// WITHOUT WARRANTIES OR CONDITIONS OF ANY KIND, either express or implied.\n",
              "// See the License for the specific language governing permissions and\n",
              "// limitations under the License.\n",
              "\n",
              "/**\n",
              " * @fileoverview Helpers for google.colab Python module.\n",
              " */\n",
              "(function(scope) {\n",
              "function span(text, styleAttributes = {}) {\n",
              "  const element = document.createElement('span');\n",
              "  element.textContent = text;\n",
              "  for (const key of Object.keys(styleAttributes)) {\n",
              "    element.style[key] = styleAttributes[key];\n",
              "  }\n",
              "  return element;\n",
              "}\n",
              "\n",
              "// Max number of bytes which will be uploaded at a time.\n",
              "const MAX_PAYLOAD_SIZE = 100 * 1024;\n",
              "\n",
              "function _uploadFiles(inputId, outputId) {\n",
              "  const steps = uploadFilesStep(inputId, outputId);\n",
              "  const outputElement = document.getElementById(outputId);\n",
              "  // Cache steps on the outputElement to make it available for the next call\n",
              "  // to uploadFilesContinue from Python.\n",
              "  outputElement.steps = steps;\n",
              "\n",
              "  return _uploadFilesContinue(outputId);\n",
              "}\n",
              "\n",
              "// This is roughly an async generator (not supported in the browser yet),\n",
              "// where there are multiple asynchronous steps and the Python side is going\n",
              "// to poll for completion of each step.\n",
              "// This uses a Promise to block the python side on completion of each step,\n",
              "// then passes the result of the previous step as the input to the next step.\n",
              "function _uploadFilesContinue(outputId) {\n",
              "  const outputElement = document.getElementById(outputId);\n",
              "  const steps = outputElement.steps;\n",
              "\n",
              "  const next = steps.next(outputElement.lastPromiseValue);\n",
              "  return Promise.resolve(next.value.promise).then((value) => {\n",
              "    // Cache the last promise value to make it available to the next\n",
              "    // step of the generator.\n",
              "    outputElement.lastPromiseValue = value;\n",
              "    return next.value.response;\n",
              "  });\n",
              "}\n",
              "\n",
              "/**\n",
              " * Generator function which is called between each async step of the upload\n",
              " * process.\n",
              " * @param {string} inputId Element ID of the input file picker element.\n",
              " * @param {string} outputId Element ID of the output display.\n",
              " * @return {!Iterable<!Object>} Iterable of next steps.\n",
              " */\n",
              "function* uploadFilesStep(inputId, outputId) {\n",
              "  const inputElement = document.getElementById(inputId);\n",
              "  inputElement.disabled = false;\n",
              "\n",
              "  const outputElement = document.getElementById(outputId);\n",
              "  outputElement.innerHTML = '';\n",
              "\n",
              "  const pickedPromise = new Promise((resolve) => {\n",
              "    inputElement.addEventListener('change', (e) => {\n",
              "      resolve(e.target.files);\n",
              "    });\n",
              "  });\n",
              "\n",
              "  const cancel = document.createElement('button');\n",
              "  inputElement.parentElement.appendChild(cancel);\n",
              "  cancel.textContent = 'Cancel upload';\n",
              "  const cancelPromise = new Promise((resolve) => {\n",
              "    cancel.onclick = () => {\n",
              "      resolve(null);\n",
              "    };\n",
              "  });\n",
              "\n",
              "  // Wait for the user to pick the files.\n",
              "  const files = yield {\n",
              "    promise: Promise.race([pickedPromise, cancelPromise]),\n",
              "    response: {\n",
              "      action: 'starting',\n",
              "    }\n",
              "  };\n",
              "\n",
              "  cancel.remove();\n",
              "\n",
              "  // Disable the input element since further picks are not allowed.\n",
              "  inputElement.disabled = true;\n",
              "\n",
              "  if (!files) {\n",
              "    return {\n",
              "      response: {\n",
              "        action: 'complete',\n",
              "      }\n",
              "    };\n",
              "  }\n",
              "\n",
              "  for (const file of files) {\n",
              "    const li = document.createElement('li');\n",
              "    li.append(span(file.name, {fontWeight: 'bold'}));\n",
              "    li.append(span(\n",
              "        `(${file.type || 'n/a'}) - ${file.size} bytes, ` +\n",
              "        `last modified: ${\n",
              "            file.lastModifiedDate ? file.lastModifiedDate.toLocaleDateString() :\n",
              "                                    'n/a'} - `));\n",
              "    const percent = span('0% done');\n",
              "    li.appendChild(percent);\n",
              "\n",
              "    outputElement.appendChild(li);\n",
              "\n",
              "    const fileDataPromise = new Promise((resolve) => {\n",
              "      const reader = new FileReader();\n",
              "      reader.onload = (e) => {\n",
              "        resolve(e.target.result);\n",
              "      };\n",
              "      reader.readAsArrayBuffer(file);\n",
              "    });\n",
              "    // Wait for the data to be ready.\n",
              "    let fileData = yield {\n",
              "      promise: fileDataPromise,\n",
              "      response: {\n",
              "        action: 'continue',\n",
              "      }\n",
              "    };\n",
              "\n",
              "    // Use a chunked sending to avoid message size limits. See b/62115660.\n",
              "    let position = 0;\n",
              "    do {\n",
              "      const length = Math.min(fileData.byteLength - position, MAX_PAYLOAD_SIZE);\n",
              "      const chunk = new Uint8Array(fileData, position, length);\n",
              "      position += length;\n",
              "\n",
              "      const base64 = btoa(String.fromCharCode.apply(null, chunk));\n",
              "      yield {\n",
              "        response: {\n",
              "          action: 'append',\n",
              "          file: file.name,\n",
              "          data: base64,\n",
              "        },\n",
              "      };\n",
              "\n",
              "      let percentDone = fileData.byteLength === 0 ?\n",
              "          100 :\n",
              "          Math.round((position / fileData.byteLength) * 100);\n",
              "      percent.textContent = `${percentDone}% done`;\n",
              "\n",
              "    } while (position < fileData.byteLength);\n",
              "  }\n",
              "\n",
              "  // All done.\n",
              "  yield {\n",
              "    response: {\n",
              "      action: 'complete',\n",
              "    }\n",
              "  };\n",
              "}\n",
              "\n",
              "scope.google = scope.google || {};\n",
              "scope.google.colab = scope.google.colab || {};\n",
              "scope.google.colab._files = {\n",
              "  _uploadFiles,\n",
              "  _uploadFilesContinue,\n",
              "};\n",
              "})(self);\n",
              "</script> "
            ]
          },
          "metadata": {}
        },
        {
          "output_type": "stream",
          "name": "stdout",
          "text": [
            "Saving ENB2012_data.xlsx to ENB2012_data.xlsx\n"
          ]
        }
      ],
      "source": [
        "from google.colab import files\n",
        "uploaded = files.upload()"
      ]
    },
    {
      "cell_type": "code",
      "execution_count": 18,
      "metadata": {
        "colab": {
          "base_uri": "https://localhost:8080/"
        },
        "id": "zNmFVdlEJa0O",
        "outputId": "7efbcb64-20d5-40a3-a6db-98302775832b"
      },
      "outputs": [
        {
          "output_type": "stream",
          "name": "stdout",
          "text": [
            "Looking in indexes: https://pypi.org/simple, https://us-python.pkg.dev/colab-wheels/public/simple/\n",
            "Requirement already satisfied: pandas in /usr/local/lib/python3.8/dist-packages (1.3.5)\n",
            "Requirement already satisfied: pytz>=2017.3 in /usr/local/lib/python3.8/dist-packages (from pandas) (2022.6)\n",
            "Requirement already satisfied: numpy>=1.17.3 in /usr/local/lib/python3.8/dist-packages (from pandas) (1.21.6)\n",
            "Requirement already satisfied: python-dateutil>=2.7.3 in /usr/local/lib/python3.8/dist-packages (from pandas) (2.8.2)\n",
            "Requirement already satisfied: six>=1.5 in /usr/local/lib/python3.8/dist-packages (from python-dateutil>=2.7.3->pandas) (1.15.0)\n"
          ]
        }
      ],
      "source": [
        "pip install pandas"
      ]
    },
    {
      "cell_type": "code",
      "execution_count": 19,
      "metadata": {
        "id": "oJ7EVHgbIwLt"
      },
      "outputs": [],
      "source": [
        "import numpy as np\n",
        "import pandas as pd\n",
        "import seaborn as sns"
      ]
    },
    {
      "cell_type": "code",
      "execution_count": 20,
      "metadata": {
        "id": "83IX08BVZieM"
      },
      "outputs": [],
      "source": [
        "df = pd.read_excel('ENB2012_data.xlsx')"
      ]
    },
    {
      "cell_type": "code",
      "execution_count": 21,
      "metadata": {
        "id": "Mu5cFDzrbAId"
      },
      "outputs": [],
      "source": [
        "#renaming columns\n",
        "columnNames ={'X1':'Relative Compactness',\n",
        "               'X2':'Surface Area',\n",
        "               'X3':'Wall Area',\n",
        "               'X4':'Roof Area',\n",
        "               'X5':'Overall Height',\n",
        "               'X6':'Orientation',\n",
        "               'X7':'Glazing Area',\n",
        "               'X8':'Glazing Area Distribution',\n",
        "               'Y1':'Heating Load',\n",
        "               'Y2':'Cooling Load'}\n",
        "               \n",
        "df = df.rename(columns = columnNames)"
      ]
    },
    {
      "cell_type": "code",
      "execution_count": 22,
      "metadata": {
        "colab": {
          "base_uri": "https://localhost:8080/",
          "height": 250
        },
        "id": "CNClEEMedFn2",
        "outputId": "8c29d297-2b0e-446d-8aee-0644f6c66c86"
      },
      "outputs": [
        {
          "output_type": "execute_result",
          "data": {
            "text/plain": [
              "   Relative Compactness  Surface Area  Wall Area  Roof Area  Overall Height  \\\n",
              "0                  0.98         514.5      294.0     110.25             7.0   \n",
              "1                  0.98         514.5      294.0     110.25             7.0   \n",
              "2                  0.98         514.5      294.0     110.25             7.0   \n",
              "3                  0.98         514.5      294.0     110.25             7.0   \n",
              "4                  0.90         563.5      318.5     122.50             7.0   \n",
              "\n",
              "   Orientation  Glazing Area  Glazing Area Distribution  Heating Load  \\\n",
              "0            2           0.0                          0         15.55   \n",
              "1            3           0.0                          0         15.55   \n",
              "2            4           0.0                          0         15.55   \n",
              "3            5           0.0                          0         15.55   \n",
              "4            2           0.0                          0         20.84   \n",
              "\n",
              "   Cooling Load  \n",
              "0         21.33  \n",
              "1         21.33  \n",
              "2         21.33  \n",
              "3         21.33  \n",
              "4         28.28  "
            ],
            "text/html": [
              "\n",
              "  <div id=\"df-5658140b-e8d7-492c-8ef1-067f278c8ee3\">\n",
              "    <div class=\"colab-df-container\">\n",
              "      <div>\n",
              "<style scoped>\n",
              "    .dataframe tbody tr th:only-of-type {\n",
              "        vertical-align: middle;\n",
              "    }\n",
              "\n",
              "    .dataframe tbody tr th {\n",
              "        vertical-align: top;\n",
              "    }\n",
              "\n",
              "    .dataframe thead th {\n",
              "        text-align: right;\n",
              "    }\n",
              "</style>\n",
              "<table border=\"1\" class=\"dataframe\">\n",
              "  <thead>\n",
              "    <tr style=\"text-align: right;\">\n",
              "      <th></th>\n",
              "      <th>Relative Compactness</th>\n",
              "      <th>Surface Area</th>\n",
              "      <th>Wall Area</th>\n",
              "      <th>Roof Area</th>\n",
              "      <th>Overall Height</th>\n",
              "      <th>Orientation</th>\n",
              "      <th>Glazing Area</th>\n",
              "      <th>Glazing Area Distribution</th>\n",
              "      <th>Heating Load</th>\n",
              "      <th>Cooling Load</th>\n",
              "    </tr>\n",
              "  </thead>\n",
              "  <tbody>\n",
              "    <tr>\n",
              "      <th>0</th>\n",
              "      <td>0.98</td>\n",
              "      <td>514.5</td>\n",
              "      <td>294.0</td>\n",
              "      <td>110.25</td>\n",
              "      <td>7.0</td>\n",
              "      <td>2</td>\n",
              "      <td>0.0</td>\n",
              "      <td>0</td>\n",
              "      <td>15.55</td>\n",
              "      <td>21.33</td>\n",
              "    </tr>\n",
              "    <tr>\n",
              "      <th>1</th>\n",
              "      <td>0.98</td>\n",
              "      <td>514.5</td>\n",
              "      <td>294.0</td>\n",
              "      <td>110.25</td>\n",
              "      <td>7.0</td>\n",
              "      <td>3</td>\n",
              "      <td>0.0</td>\n",
              "      <td>0</td>\n",
              "      <td>15.55</td>\n",
              "      <td>21.33</td>\n",
              "    </tr>\n",
              "    <tr>\n",
              "      <th>2</th>\n",
              "      <td>0.98</td>\n",
              "      <td>514.5</td>\n",
              "      <td>294.0</td>\n",
              "      <td>110.25</td>\n",
              "      <td>7.0</td>\n",
              "      <td>4</td>\n",
              "      <td>0.0</td>\n",
              "      <td>0</td>\n",
              "      <td>15.55</td>\n",
              "      <td>21.33</td>\n",
              "    </tr>\n",
              "    <tr>\n",
              "      <th>3</th>\n",
              "      <td>0.98</td>\n",
              "      <td>514.5</td>\n",
              "      <td>294.0</td>\n",
              "      <td>110.25</td>\n",
              "      <td>7.0</td>\n",
              "      <td>5</td>\n",
              "      <td>0.0</td>\n",
              "      <td>0</td>\n",
              "      <td>15.55</td>\n",
              "      <td>21.33</td>\n",
              "    </tr>\n",
              "    <tr>\n",
              "      <th>4</th>\n",
              "      <td>0.90</td>\n",
              "      <td>563.5</td>\n",
              "      <td>318.5</td>\n",
              "      <td>122.50</td>\n",
              "      <td>7.0</td>\n",
              "      <td>2</td>\n",
              "      <td>0.0</td>\n",
              "      <td>0</td>\n",
              "      <td>20.84</td>\n",
              "      <td>28.28</td>\n",
              "    </tr>\n",
              "  </tbody>\n",
              "</table>\n",
              "</div>\n",
              "      <button class=\"colab-df-convert\" onclick=\"convertToInteractive('df-5658140b-e8d7-492c-8ef1-067f278c8ee3')\"\n",
              "              title=\"Convert this dataframe to an interactive table.\"\n",
              "              style=\"display:none;\">\n",
              "        \n",
              "  <svg xmlns=\"http://www.w3.org/2000/svg\" height=\"24px\"viewBox=\"0 0 24 24\"\n",
              "       width=\"24px\">\n",
              "    <path d=\"M0 0h24v24H0V0z\" fill=\"none\"/>\n",
              "    <path d=\"M18.56 5.44l.94 2.06.94-2.06 2.06-.94-2.06-.94-.94-2.06-.94 2.06-2.06.94zm-11 1L8.5 8.5l.94-2.06 2.06-.94-2.06-.94L8.5 2.5l-.94 2.06-2.06.94zm10 10l.94 2.06.94-2.06 2.06-.94-2.06-.94-.94-2.06-.94 2.06-2.06.94z\"/><path d=\"M17.41 7.96l-1.37-1.37c-.4-.4-.92-.59-1.43-.59-.52 0-1.04.2-1.43.59L10.3 9.45l-7.72 7.72c-.78.78-.78 2.05 0 2.83L4 21.41c.39.39.9.59 1.41.59.51 0 1.02-.2 1.41-.59l7.78-7.78 2.81-2.81c.8-.78.8-2.07 0-2.86zM5.41 20L4 18.59l7.72-7.72 1.47 1.35L5.41 20z\"/>\n",
              "  </svg>\n",
              "      </button>\n",
              "      \n",
              "  <style>\n",
              "    .colab-df-container {\n",
              "      display:flex;\n",
              "      flex-wrap:wrap;\n",
              "      gap: 12px;\n",
              "    }\n",
              "\n",
              "    .colab-df-convert {\n",
              "      background-color: #E8F0FE;\n",
              "      border: none;\n",
              "      border-radius: 50%;\n",
              "      cursor: pointer;\n",
              "      display: none;\n",
              "      fill: #1967D2;\n",
              "      height: 32px;\n",
              "      padding: 0 0 0 0;\n",
              "      width: 32px;\n",
              "    }\n",
              "\n",
              "    .colab-df-convert:hover {\n",
              "      background-color: #E2EBFA;\n",
              "      box-shadow: 0px 1px 2px rgba(60, 64, 67, 0.3), 0px 1px 3px 1px rgba(60, 64, 67, 0.15);\n",
              "      fill: #174EA6;\n",
              "    }\n",
              "\n",
              "    [theme=dark] .colab-df-convert {\n",
              "      background-color: #3B4455;\n",
              "      fill: #D2E3FC;\n",
              "    }\n",
              "\n",
              "    [theme=dark] .colab-df-convert:hover {\n",
              "      background-color: #434B5C;\n",
              "      box-shadow: 0px 1px 3px 1px rgba(0, 0, 0, 0.15);\n",
              "      filter: drop-shadow(0px 1px 2px rgba(0, 0, 0, 0.3));\n",
              "      fill: #FFFFFF;\n",
              "    }\n",
              "  </style>\n",
              "\n",
              "      <script>\n",
              "        const buttonEl =\n",
              "          document.querySelector('#df-5658140b-e8d7-492c-8ef1-067f278c8ee3 button.colab-df-convert');\n",
              "        buttonEl.style.display =\n",
              "          google.colab.kernel.accessAllowed ? 'block' : 'none';\n",
              "\n",
              "        async function convertToInteractive(key) {\n",
              "          const element = document.querySelector('#df-5658140b-e8d7-492c-8ef1-067f278c8ee3');\n",
              "          const dataTable =\n",
              "            await google.colab.kernel.invokeFunction('convertToInteractive',\n",
              "                                                     [key], {});\n",
              "          if (!dataTable) return;\n",
              "\n",
              "          const docLinkHtml = 'Like what you see? Visit the ' +\n",
              "            '<a target=\"_blank\" href=https://colab.research.google.com/notebooks/data_table.ipynb>data table notebook</a>'\n",
              "            + ' to learn more about interactive tables.';\n",
              "          element.innerHTML = '';\n",
              "          dataTable['output_type'] = 'display_data';\n",
              "          await google.colab.output.renderOutput(dataTable, element);\n",
              "          const docLink = document.createElement('div');\n",
              "          docLink.innerHTML = docLinkHtml;\n",
              "          element.appendChild(docLink);\n",
              "        }\n",
              "      </script>\n",
              "    </div>\n",
              "  </div>\n",
              "  "
            ]
          },
          "metadata": {},
          "execution_count": 22
        }
      ],
      "source": [
        "df.head()"
      ]
    },
    {
      "cell_type": "code",
      "execution_count": 23,
      "metadata": {
        "colab": {
          "base_uri": "https://localhost:8080/",
          "height": 520
        },
        "id": "Vj_0fM-VcglA",
        "outputId": "7f1ef140-8671-4a3f-87c1-9e70a7206356"
      },
      "outputs": [
        {
          "output_type": "execute_result",
          "data": {
            "text/plain": [
              "     Relative Compactness  Cooling Load\n",
              "158                  0.82         25.35\n",
              "251                  0.86         31.28\n",
              "631                  0.90         33.31\n",
              "757                  0.66         17.79\n",
              "689                  0.79         47.59\n",
              "573                  0.62         17.21\n",
              "553                  0.74         17.25\n",
              "728                  0.86         29.69\n",
              "183                  0.66         13.83\n",
              "515                  0.69         14.60\n",
              "460                  0.71         14.67\n",
              "143                  0.62         14.24\n",
              "258                  0.79         43.14\n",
              "682                  0.86         36.21\n",
              "62                   0.82         24.61"
            ],
            "text/html": [
              "\n",
              "  <div id=\"df-056af8cc-f8f3-4a50-a365-257d46f2aa3f\">\n",
              "    <div class=\"colab-df-container\">\n",
              "      <div>\n",
              "<style scoped>\n",
              "    .dataframe tbody tr th:only-of-type {\n",
              "        vertical-align: middle;\n",
              "    }\n",
              "\n",
              "    .dataframe tbody tr th {\n",
              "        vertical-align: top;\n",
              "    }\n",
              "\n",
              "    .dataframe thead th {\n",
              "        text-align: right;\n",
              "    }\n",
              "</style>\n",
              "<table border=\"1\" class=\"dataframe\">\n",
              "  <thead>\n",
              "    <tr style=\"text-align: right;\">\n",
              "      <th></th>\n",
              "      <th>Relative Compactness</th>\n",
              "      <th>Cooling Load</th>\n",
              "    </tr>\n",
              "  </thead>\n",
              "  <tbody>\n",
              "    <tr>\n",
              "      <th>158</th>\n",
              "      <td>0.82</td>\n",
              "      <td>25.35</td>\n",
              "    </tr>\n",
              "    <tr>\n",
              "      <th>251</th>\n",
              "      <td>0.86</td>\n",
              "      <td>31.28</td>\n",
              "    </tr>\n",
              "    <tr>\n",
              "      <th>631</th>\n",
              "      <td>0.90</td>\n",
              "      <td>33.31</td>\n",
              "    </tr>\n",
              "    <tr>\n",
              "      <th>757</th>\n",
              "      <td>0.66</td>\n",
              "      <td>17.79</td>\n",
              "    </tr>\n",
              "    <tr>\n",
              "      <th>689</th>\n",
              "      <td>0.79</td>\n",
              "      <td>47.59</td>\n",
              "    </tr>\n",
              "    <tr>\n",
              "      <th>573</th>\n",
              "      <td>0.62</td>\n",
              "      <td>17.21</td>\n",
              "    </tr>\n",
              "    <tr>\n",
              "      <th>553</th>\n",
              "      <td>0.74</td>\n",
              "      <td>17.25</td>\n",
              "    </tr>\n",
              "    <tr>\n",
              "      <th>728</th>\n",
              "      <td>0.86</td>\n",
              "      <td>29.69</td>\n",
              "    </tr>\n",
              "    <tr>\n",
              "      <th>183</th>\n",
              "      <td>0.66</td>\n",
              "      <td>13.83</td>\n",
              "    </tr>\n",
              "    <tr>\n",
              "      <th>515</th>\n",
              "      <td>0.69</td>\n",
              "      <td>14.60</td>\n",
              "    </tr>\n",
              "    <tr>\n",
              "      <th>460</th>\n",
              "      <td>0.71</td>\n",
              "      <td>14.67</td>\n",
              "    </tr>\n",
              "    <tr>\n",
              "      <th>143</th>\n",
              "      <td>0.62</td>\n",
              "      <td>14.24</td>\n",
              "    </tr>\n",
              "    <tr>\n",
              "      <th>258</th>\n",
              "      <td>0.79</td>\n",
              "      <td>43.14</td>\n",
              "    </tr>\n",
              "    <tr>\n",
              "      <th>682</th>\n",
              "      <td>0.86</td>\n",
              "      <td>36.21</td>\n",
              "    </tr>\n",
              "    <tr>\n",
              "      <th>62</th>\n",
              "      <td>0.82</td>\n",
              "      <td>24.61</td>\n",
              "    </tr>\n",
              "  </tbody>\n",
              "</table>\n",
              "</div>\n",
              "      <button class=\"colab-df-convert\" onclick=\"convertToInteractive('df-056af8cc-f8f3-4a50-a365-257d46f2aa3f')\"\n",
              "              title=\"Convert this dataframe to an interactive table.\"\n",
              "              style=\"display:none;\">\n",
              "        \n",
              "  <svg xmlns=\"http://www.w3.org/2000/svg\" height=\"24px\"viewBox=\"0 0 24 24\"\n",
              "       width=\"24px\">\n",
              "    <path d=\"M0 0h24v24H0V0z\" fill=\"none\"/>\n",
              "    <path d=\"M18.56 5.44l.94 2.06.94-2.06 2.06-.94-2.06-.94-.94-2.06-.94 2.06-2.06.94zm-11 1L8.5 8.5l.94-2.06 2.06-.94-2.06-.94L8.5 2.5l-.94 2.06-2.06.94zm10 10l.94 2.06.94-2.06 2.06-.94-2.06-.94-.94-2.06-.94 2.06-2.06.94z\"/><path d=\"M17.41 7.96l-1.37-1.37c-.4-.4-.92-.59-1.43-.59-.52 0-1.04.2-1.43.59L10.3 9.45l-7.72 7.72c-.78.78-.78 2.05 0 2.83L4 21.41c.39.39.9.59 1.41.59.51 0 1.02-.2 1.41-.59l7.78-7.78 2.81-2.81c.8-.78.8-2.07 0-2.86zM5.41 20L4 18.59l7.72-7.72 1.47 1.35L5.41 20z\"/>\n",
              "  </svg>\n",
              "      </button>\n",
              "      \n",
              "  <style>\n",
              "    .colab-df-container {\n",
              "      display:flex;\n",
              "      flex-wrap:wrap;\n",
              "      gap: 12px;\n",
              "    }\n",
              "\n",
              "    .colab-df-convert {\n",
              "      background-color: #E8F0FE;\n",
              "      border: none;\n",
              "      border-radius: 50%;\n",
              "      cursor: pointer;\n",
              "      display: none;\n",
              "      fill: #1967D2;\n",
              "      height: 32px;\n",
              "      padding: 0 0 0 0;\n",
              "      width: 32px;\n",
              "    }\n",
              "\n",
              "    .colab-df-convert:hover {\n",
              "      background-color: #E2EBFA;\n",
              "      box-shadow: 0px 1px 2px rgba(60, 64, 67, 0.3), 0px 1px 3px 1px rgba(60, 64, 67, 0.15);\n",
              "      fill: #174EA6;\n",
              "    }\n",
              "\n",
              "    [theme=dark] .colab-df-convert {\n",
              "      background-color: #3B4455;\n",
              "      fill: #D2E3FC;\n",
              "    }\n",
              "\n",
              "    [theme=dark] .colab-df-convert:hover {\n",
              "      background-color: #434B5C;\n",
              "      box-shadow: 0px 1px 3px 1px rgba(0, 0, 0, 0.15);\n",
              "      filter: drop-shadow(0px 1px 2px rgba(0, 0, 0, 0.3));\n",
              "      fill: #FFFFFF;\n",
              "    }\n",
              "  </style>\n",
              "\n",
              "      <script>\n",
              "        const buttonEl =\n",
              "          document.querySelector('#df-056af8cc-f8f3-4a50-a365-257d46f2aa3f button.colab-df-convert');\n",
              "        buttonEl.style.display =\n",
              "          google.colab.kernel.accessAllowed ? 'block' : 'none';\n",
              "\n",
              "        async function convertToInteractive(key) {\n",
              "          const element = document.querySelector('#df-056af8cc-f8f3-4a50-a365-257d46f2aa3f');\n",
              "          const dataTable =\n",
              "            await google.colab.kernel.invokeFunction('convertToInteractive',\n",
              "                                                     [key], {});\n",
              "          if (!dataTable) return;\n",
              "\n",
              "          const docLinkHtml = 'Like what you see? Visit the ' +\n",
              "            '<a target=\"_blank\" href=https://colab.research.google.com/notebooks/data_table.ipynb>data table notebook</a>'\n",
              "            + ' to learn more about interactive tables.';\n",
              "          element.innerHTML = '';\n",
              "          dataTable['output_type'] = 'display_data';\n",
              "          await google.colab.output.renderOutput(dataTable, element);\n",
              "          const docLink = document.createElement('div');\n",
              "          docLink.innerHTML = docLinkHtml;\n",
              "          element.appendChild(docLink);\n",
              "        }\n",
              "      </script>\n",
              "    </div>\n",
              "  </div>\n",
              "  "
            ]
          },
          "metadata": {},
          "execution_count": 23
        }
      ],
      "source": [
        "#Select a sample of the dataset\n",
        "\n",
        "simpleLinearRegressionDF =df[['Relative Compactness','Cooling Load']].sample(15, random_state = 2)\n",
        "simpleLinearRegressionDF"
      ]
    },
    {
      "cell_type": "code",
      "execution_count": 24,
      "metadata": {
        "colab": {
          "base_uri": "https://localhost:8080/",
          "height": 296
        },
        "id": "vULTnyUZck98",
        "outputId": "d73bc517-85fd-4e26-ac63-a45ae6280eb7"
      },
      "outputs": [
        {
          "output_type": "execute_result",
          "data": {
            "text/plain": [
              "<matplotlib.axes._subplots.AxesSubplot at 0x7fe0137ed610>"
            ]
          },
          "metadata": {},
          "execution_count": 24
        },
        {
          "output_type": "display_data",
          "data": {
            "text/plain": [
              "<Figure size 432x288 with 1 Axes>"
            ],
            "image/png": "[encoded data removed]"
          },
          "metadata": {
            "needs_background": "light"
          }
        }
      ],
      "source": [
        "#regression plot\n",
        "sns.regplot(x='Relative Compactness',\n",
        "            y ='Cooling Load',\n",
        "            data = simpleLinearRegressionDF)"
      ]
    },
    {
      "cell_type": "markdown",
      "metadata": {
        "id": "5D4qfJrWeaEY"
      },
      "source": [
        "Collinearity and assumptions for linear regression.\n",
        " 1. Linearity - the relationship between the variables s linear such that a straight line is the best of fit.<br>\n",
        "\n",
        "2. Homescedasticity - the residuals or prediction error are of equal or constance variance.<br>\n",
        "\n",
        "3. Normality - the residuals are of a normal distribution.<br>\n",
        "\n",
        "4. Independence of observations.<br>\n",
        "In multiple linear regression where there are more predictors, it is assumed that the variables are independent of each other without any strong correlation between them.<br>\n",
        "\n",
        "5. Residual sum of squares and minimizing the cost function.<br>\n",
        "Cost function is a measure of the performance of a model - how far or close the predicted values are to the real values.<br> In linear regression, the cost function can be defined as the sum of squared errors in a training set.<br>\n",
        "\n",
        "6. Gradient descent and coordinate descent algorithm.<br>\n",
        "Gradient descent is an optimzation algorithm that mnimizes a cost function by specifying the direction to move towards to obtain a local or global minima.This is done by initially starting with random values then iteratively updating the values until the minimum cost is obtained.  A learning rate is usually chosen to determine the step size to be taken for each iteration. It is important to carefully select this parameter because, if a small step is chosen, it will take a long time to converge to the minimum cost while if too large, it can result in an overshoot surpassing the location of the minimum cost.\n"
      ]
    },
    {
      "cell_type": "markdown",
      "metadata": {
        "id": "q7wcZLKsDI1a"
      },
      "source": [
        "# Multiple Linear Regression.\n",
        "\n",
        "COLLINEARITY<br>\n",
        "Correlation is a measure used to describe the linear relationship between two variables.<br>\n",
        "\n",
        "Correlation values range from -1 for a perfect negative correlation (an increase in one variable causes a decrease in the other variable) to +1 for a perfect positive correlation (both variables increase or decrease together).<br>\n",
        "\n",
        "A correlation value of 0 indicates that there is absolutely no correlation between both variables.<br>\n",
        "<br>\n",
        "\n",
        "MULTICOLLINEARITY<br>\n",
        "A situation where two or more of the predictors have a strong correlation.<br>\n",
        "\n",
        "Since predictors are expected to be independent, when multicollinearity occurs, the correlated variables cannot independently contribute to predicting the value of the response variable.<br>\n",
        "\n",
        "POLYNOMIAL REGRESSION<BR>\n",
        "\n",
        "A polynomial regression model is considered a linear regression model that can be used when a curvilinear relationship exists between the predictors and the response variable.<BR>\n",
        "\n",
        "\n"
      ]
    },
    {
      "cell_type": "markdown",
      "metadata": {
        "id": "bkH_sTrqQTB4"
      },
      "source": [
        "#Measuring Regression Performance\n",
        "\n",
        "How well a regression model performs can be obtained by how close the predicated value is to the ground truth.<br>\n",
        "\n",
        "Evaluation metrics for performance:<br>\n",
        "1. Mean Absolute Error (MAE) <br>\n",
        "This is the sum of the average of the absolute error between the predicted values and true values.\n",
        "The smaller the MAE the better the model.\n",
        "If the MAE is 0, the model is perfect and accurately predicts the results which is almost impossible."
      ]
    },
    {
      "cell_type": "code",
      "execution_count": 25,
      "metadata": {
        "colab": {
          "base_uri": "https://localhost:8080/"
        },
        "id": "kxM9boTgDHD3",
        "outputId": "1355bda6-f499-41a7-9971-a1c4e2dc0407"
      },
      "outputs": [
        {
          "output_type": "execute_result",
          "data": {
            "text/plain": [
              "0.063"
            ]
          },
          "metadata": {},
          "execution_count": 25
        }
      ],
      "source": [
        "#Mean Absolute Error.\n",
        "\n",
        "#scikit-learn /sklearn library for machine learning in python.\n",
        "#First normalize our dataset to a common scale using min max scaler.\n",
        "from sklearn.preprocessing import MinMaxScaler\n",
        "scaler = MinMaxScaler()\n",
        "normalised_df = pd.DataFrame(scaler.fit_transform(df),columns =df.columns)\n",
        "features_df = normalised_df.drop(columns = ['Heating Load','Cooling Load'])\n",
        "heating_target = normalised_df['Heating Load']\n",
        "\n",
        "#Now we split our dataset into training and testing dataset.\n",
        "#Recall that we had earlier segmented the features and target variables.\n",
        "from sklearn.model_selection import train_test_split\n",
        "x_train,x_test,y_train,y_test = train_test_split(features_df, heating_target, test_size = 0.3, random_state=1)\n",
        "\n",
        "from sklearn.linear_model import LinearRegression\n",
        "linear_model = LinearRegression()\n",
        "\n",
        "#fit the model to the training dataset\n",
        "linear_model.fit(x_train,y_train)\n",
        "\n",
        "#obtain the predictions\n",
        "predicted_values =linear_model.predict(x_test)\n",
        "\n",
        "#Mean Absolute Error\n",
        "from sklearn.metrics import mean_absolute_error\n",
        "mae = mean_absolute_error(y_test,predicted_values)\n",
        "round(mae,3)\n"
      ]
    },
    {
      "cell_type": "markdown",
      "metadata": {
        "id": "R1UwEH-oZxPW"
      },
      "source": [
        "2. Residual Square of sums (RSS)\n",
        "\n",
        "This metric explains the variance in the representation of the dataset. <br>\n",
        "It measures how well  the model approximates the data.<br>\n",
        "Residual error - This is the difference between the nth true value and the nth predicted value by the model.<br>\n",
        "RSS is the sum of the square of errors between the residual model."
      ]
    },
    {
      "cell_type": "code",
      "execution_count": 26,
      "metadata": {
        "colab": {
          "base_uri": "https://localhost:8080/"
        },
        "id": "PjeeED0Gofb5",
        "outputId": "e72677b9-3de3-4db9-987a-6d9245ffe722"
      },
      "outputs": [
        {
          "output_type": "execute_result",
          "data": {
            "text/plain": [
              "0.251"
            ]
          },
          "metadata": {},
          "execution_count": 26
        }
      ],
      "source": [
        "from sklearn.metrics import mean_squared_error\n",
        "rss = np.sqrt(mean_absolute_error(y_test, predicted_values))\n",
        "round(rss,3)"
      ]
    },
    {
      "cell_type": "markdown",
      "metadata": {
        "id": "TR75jH1xpmmR"
      },
      "source": [
        "3. R-squared.\n",
        "Also known as the coefficients of determination, r-squared is a metric used in regression to determine the goodness of fit of the model.<br>\n",
        "With values ranging form 0 to1 , it ggives information on the percentage of the response variablle explained by the model.<br>\n",
        "Mostly, the higher the value the better the model."
      ]
    },
    {
      "cell_type": "code",
      "execution_count": 27,
      "metadata": {
        "colab": {
          "base_uri": "https://localhost:8080/"
        },
        "id": "DyqHWpJhp4d5",
        "outputId": "2ddcca32-9841-45bf-cee0-16dc505a5bd6"
      },
      "outputs": [
        {
          "output_type": "execute_result",
          "data": {
            "text/plain": [
              "0.893"
            ]
          },
          "metadata": {},
          "execution_count": 27
        }
      ],
      "source": [
        "from sklearn.metrics import r2_score\n",
        "r2_score = r2_score(y_test, predicted_values)\n",
        "round(r2_score,3)"
      ]
    },
    {
      "cell_type": "markdown",
      "metadata": {
        "id": "7HlskO26rPb4"
      },
      "source": [
        "##Model complexity, Underfitting and Overfitting\n",
        "Model complexity - number of input features used to train a model and the algorithimic learning complexity.<br><br>\n",
        "\n",
        "An overly complex can be difficult to interpret, prone to overfitting and require more computing.<br><br>\n",
        "\n",
        "An overfit model will perform well on the training data and poorly and on unseen data.<br>\n",
        "\n",
        "While a model is required to learn the actual relationship of the variables in the training set, an overfit model learns the training set, fits the noise, outliers and irrelevant information, then makes predictions based on the noise.<br><br>\n",
        "\n",
        "On the other hand, when a model is too simple (underfitting), it can be a result of having very few features not sufficient enough to learn details and relationships in the data.\n",
        "\n",
        "### The Bias-Variance trade off\n",
        "Bias is a measure of correctness of a model.<br><br>\n",
        "\n",
        "While high bias results in an increase in the error by making assumptions which prevent the model from capturing relevant relationships between the predictors and response variable, low bias gives lower error and also prevents underfitting by capturing important relationships.<br><br>\n",
        "\n",
        "Variance tells how much the values estimated by a model will vary across different training data<br>\n",
        "\n",
        "Required - low bias & low variance"
      ]
    },
    {
      "cell_type": "markdown",
      "metadata": {
        "id": "hqWGCjpx1-p0"
      },
      "source": [
        "# Penalization Methods.\n",
        "\n",
        "Regularization is a method used to make complex models simpler by penalising coefficients to reduce their magnitude, variance in the training set and in turn, reduce overfitting in the model.<br>\n",
        "Regularization occurs by shrinking the coefficients in the model towards zero such that the complexity term added to the model will result in a bigger loss for models with a higher complexity . <br>\n",
        "There are two types of regression techniques such as Ridge and Lasso regression\n",
        "\n"
      ]
    },
    {
      "cell_type": "markdown",
      "metadata": {
        "id": "84ga_9uw3bAY"
      },
      "source": [
        "### Ridge regression\n",
        "L2 Regularisation, this is a technique that uses a penalty term to shrink the magnitude of coefficients towards zero without eliminating them.<br>\n",
        "\n",
        "The shrinkage prevents overfitting caused by the complexity of the model or  collinearity.<br>"
      ]
    },
    {
      "cell_type": "code",
      "execution_count": 28,
      "metadata": {
        "colab": {
          "base_uri": "https://localhost:8080/"
        },
        "id": "MqJcExGFoVBh",
        "outputId": "6beeeba3-b029-4806-a434-3bd99a0065ee"
      },
      "outputs": [
        {
          "output_type": "stream",
          "name": "stdout",
          "text": [
            "Ridge(alpha=0.5)\n"
          ]
        }
      ],
      "source": [
        "#L2 regularisation\n",
        "from sklearn.linear_model import Ridge\n",
        "ridge_reg = Ridge(alpha = 0.5)\n",
        "print(ridge_reg.fit(x_train, y_train))\n"
      ]
    },
    {
      "cell_type": "markdown",
      "metadata": {
        "id": "OAOBYxiD_xji"
      },
      "source": [
        "### Feature selection and lasso regression.\n",
        "\n",
        "Feature selection<br>\n",
        "Some datasets can be high dimensional with a very high number of features and some of them not contributing towards predicting the response variable. As a result, it becomes more computationally expensive to train a model and can also introduce noise causing the model to perform poorly. The process of selecting significant features that contribute the most in obtaining high performing models is known as feature selection.\n",
        "\n",
        "Lasso regression(L2 regularisation)\n",
        "\n",
        "Lasso regression (Least Absolute Shrinkage and Selection Operator) reduces overfitting of the dataset by penalising the coefficients such that some coefficients are shrunk to zero and, indirectly performs feature selection by selecting only a subset of features leaving only relevant variables that minimize prediction errors.\n",
        "\n",
        "\n",
        "Elastic Net Regression<br>\n",
        "A combination of the L1 and L2 penalties from ridge and also lasso regression."
      ]
    },
    {
      "cell_type": "code",
      "execution_count": 29,
      "metadata": {
        "colab": {
          "base_uri": "https://localhost:8080/"
        },
        "id": "CC-9KPCI15sE",
        "outputId": "ce3c08c3-c609-4350-bf30-675e0f6eb0e0"
      },
      "outputs": [
        {
          "output_type": "execute_result",
          "data": {
            "text/plain": [
              "Lasso(alpha=0.001)"
            ]
          },
          "metadata": {},
          "execution_count": 29
        }
      ],
      "source": [
        "#Lasso regression /L2 regularisation\n",
        "from sklearn.linear_model import Lasso\n",
        "lasso_reg = Lasso (alpha = 0.001)\n",
        "lasso_reg.fit(x_train, y_train)"
      ]
    },
    {
      "cell_type": "code",
      "execution_count": 41,
      "metadata": {
        "colab": {
          "base_uri": "https://localhost:8080/",
          "height": 235
        },
        "id": "Tol9Jupt5q2_",
        "outputId": "963ec50d-7031-4ee3-c1ee-173a3a1305d5"
      },
      "outputs": [
        {
          "output_type": "error",
          "ename": "NameError",
          "evalue": "ignored",
          "traceback": [
            "\u001b[0;31m---------------------------------------------------------------------------\u001b[0m",
            "\u001b[0;31mNameError\u001b[0m                                 Traceback (most recent call last)",
            "\u001b[0;32m<ipython-input-41-fec547eef0f0>\u001b[0m in \u001b[0;36m<module>\u001b[0;34m\u001b[0m\n\u001b[1;32m      9\u001b[0m   \u001b[0;32mreturn\u001b[0m \u001b[0mweights_df\u001b[0m\u001b[0;34m\u001b[0m\u001b[0;34m\u001b[0m\u001b[0m\n\u001b[1;32m     10\u001b[0m \u001b[0;34m\u001b[0m\u001b[0m\n\u001b[0;32m---> 11\u001b[0;31m \u001b[0mlinear_model_weights\u001b[0m \u001b[0;34m=\u001b[0m \u001b[0mget_weights_df\u001b[0m\u001b[0;34m(\u001b[0m\u001b[0mmodel\u001b[0m\u001b[0;34m,\u001b[0m \u001b[0mx_train\u001b[0m\u001b[0;34m,\u001b[0m \u001b[0;34m'Linear_Model_Weight'\u001b[0m\u001b[0;34m)\u001b[0m\u001b[0;34m\u001b[0m\u001b[0;34m\u001b[0m\u001b[0m\n\u001b[0m\u001b[1;32m     12\u001b[0m \u001b[0;34m\u001b[0m\u001b[0m\n\u001b[1;32m     13\u001b[0m \u001b[0mridge_weights_df\u001b[0m \u001b[0;34m=\u001b[0m \u001b[0mget_weights_df\u001b[0m\u001b[0;34m(\u001b[0m\u001b[0mridge_reg\u001b[0m\u001b[0;34m,\u001b[0m \u001b[0mx_train\u001b[0m\u001b[0;34m,\u001b[0m \u001b[0;34m'Ridge_Weight'\u001b[0m\u001b[0;34m)\u001b[0m\u001b[0;34m\u001b[0m\u001b[0;34m\u001b[0m\u001b[0m\n",
            "\u001b[0;31mNameError\u001b[0m: name 'model' is not defined"
          ]
        }
      ],
      "source": [
        "#Comparing the effects of regularisation\n",
        "\n",
        "#this function returns the weight of every feature\n",
        "def get_weights_df(model, feat, col_name):\n",
        "  weights = pd.Series(model.coef_, feat.columns).sort_values()\n",
        "  weights_df =pd.DataFrame(weights).reset_index()\n",
        "  weights_df.columns =['Features,col_name']\n",
        "  weight_df[col_name].round(3)\n",
        "  return weights_df\n",
        "\n",
        "linear_model_weights = get_weights_df(model, x_train, 'Linear_Model_Weight')\n",
        "\n",
        "ridge_weights_df = get_weights_df(ridge_reg, x_train, 'Ridge_Weight')\n",
        "lasso_weights_df = get_weights_df(lasso_reg, x_train, 'Lasso_weight')\n",
        "\n",
        "final_weights = pd.merge(linear_model_weights, ridge_weights_df, on='Features')\n",
        "final_weights = pd.merge(final_weights, lasso_weights_df, on='Features')\n",
        "\n",
        "\n",
        "\n",
        "\n"
      ]
    },
    {
      "cell_type": "markdown",
      "metadata": {
        "id": "Ac5u5so_KC_Z"
      },
      "source": [
        "# Non- Linear Rergession methods and Other Recommendations\n",
        "\n",
        "Machine learning models are parameterized such that there has to be a search for the combination of parameters that will result in the optimal performance of the model.\n",
        "\n",
        "<br>\n",
        "Hyperparameters<br>\n",
        "The parameters that define the model architecture.\n",
        "Hyperparameter tuning - process of exploring range of values.<br>\n",
        "\n",
        "<br>\n",
        "Model parameters<br>\n",
        "These are parameters that are learnt during the training phase while setting the hyperparameters.<br>\n",
        "\n",
        "Grid search and random search are two common strategies for tuning hyperparameters.<br>\n",
        "\n",
        "<br>\n",
        "Grid Search\n",
        "\n",
        "Grid search explores the combination of a grid of parameters such that for every combination of parameters, a model is built and evaluated then the model with the best result selected and its corresponding parameters. While it is computationally expensive, setting up a grid search is quite easy.\n",
        "\n",
        "<br>\n",
        "Random Search\n",
        "\n",
        "As opposed to grid search, random search randomly combines parameter values in the grid to build and evaluate models. It does not sequentially combine all parameters as in grid search instead, it allows for a quick exploration of the entire action space to reach optimal values.\n",
        "\n"
      ]
    },
    {
      "cell_type": "code",
      "execution_count": null,
      "metadata": {
        "id": "s9TcM2LieZXp"
      },
      "outputs": [],
      "source": []
    },
    {
      "cell_type": "code",
      "execution_count": null,
      "metadata": {
        "id": "QcUbzjGnck6k"
      },
      "outputs": [],
      "source": []
    },
    {
      "cell_type": "markdown",
      "metadata": {
        "id": "jh3DEJ2sRZgn"
      },
      "source": [
        "# Learning Model Building in Sckikit-Learn: A python machine learning library\n",
        "<br>\n",
        "Components of a dataset.\n",
        "\n",
        "1. Features (predictors, inputs or attributes.)\n",
        "They can be more than one and hence represented by a feature matrix.\n",
        "x is a common notation to represent feature matrix.\n",
        "A list of all the features  is named as feature names.\n",
        "\n",
        "2. Response (target, label, output).\n",
        "x is a common notation to represent a response vector.\n",
        "All the possible values taken by a response vector are termed target names."
      ]
    },
    {
      "cell_type": "code",
      "execution_count": 42,
      "metadata": {
        "colab": {
          "base_uri": "https://localhost:8080/"
        },
        "id": "JVfemf15KLfS",
        "outputId": "b27484b7-17e6-4bec-f02b-d74171139cd2"
      },
      "outputs": [
        {
          "output_type": "stream",
          "name": "stdout",
          "text": [
            "Feature names: ['sepal length (cm)', 'sepal width (cm)', 'petal length (cm)', 'petal width (cm)']\n",
            "Target names: ['setosa' 'versicolor' 'virginica']\n",
            "\n",
            " Type of X is:  <class 'numpy.ndarray'>\n",
            "\n",
            " First 5 rows of X:\n",
            " [[5.1 3.5 1.4 0.2]\n",
            " [4.9 3.  1.4 0.2]\n",
            " [4.7 3.2 1.3 0.2]\n",
            " [4.6 3.1 1.5 0.2]\n",
            " [5.  3.6 1.4 0.2]]\n"
          ]
        }
      ],
      "source": [
        "#Loading exemplar datasets\n",
        "#Exemplar dataset - scikit-learn loaded datasets.\n",
        "\n",
        "#load the iris dataset\n",
        "from sklearn.datasets import load_iris\n",
        "iris = load_iris()\n",
        "\n",
        "#store the feature matrix (X) and response vector 9y)\n",
        "X =iris.data\n",
        "y =iris.target\n",
        "\n",
        "#store the feature and target names\n",
        "feature_names = iris.feature_names\n",
        "target_names = iris.target_names\n",
        "\n",
        "#printing features and target names of our dataset\n",
        "print(\"Feature names:\",feature_names)\n",
        "print(\"Target names:\",target_names)\n",
        "#X and y are numpy arrays\n",
        "print(\"\\n Type of X is: \", type(X))\n",
        "\n",
        "#printing first 5 input rows\n",
        "print(\"\\n First 5 rows of X:\\n\",X[:5])"
      ]
    },
    {
      "cell_type": "code",
      "execution_count": 43,
      "metadata": {
        "colab": {
          "base_uri": "https://localhost:8080/"
        },
        "id": "XgmbtqWtck4d",
        "outputId": "0dd44910-dd9f-4ffe-86d9-16ce55f2671d"
      },
      "outputs": [
        {
          "output_type": "stream",
          "name": "stdout",
          "text": [
            "(90, 4)\n",
            "(60, 4)\n",
            "(90,)\n",
            "(60,)\n"
          ]
        }
      ],
      "source": [
        "#Splitting the dataset.\n",
        "# One important aspect of all machine learning models is to determinr their accuracy.\n",
        "# In order to determine their accuracy, one can train the model using the given dataset and predict the response values for the same dataset using the model hence find the accuracy of the model.\n",
        "\n",
        "#load iris dataset\n",
        "from sklearn.datasets import load_iris\n",
        "iris = load_iris()\n",
        "\n",
        "#store the feature matrix (X) and response vector (y)\n",
        "X = iris.data\n",
        "y = iris.target\n",
        "\n",
        "#splitting X and Y into training and testing sets\n",
        "from sklearn.model_selection import train_test_split\n",
        "X_train, X_test, y_train, y_test = train_test_split(X, y, test_size = 0.4, random_state = 1)\n",
        "\n",
        "#printing the shapes of the new X objects\n",
        "print(X_train.shape)\n",
        "print(X_test.shape)\n",
        "\n",
        "#printing the shapes of the new y objects\n",
        "print(y_train.shape)\n",
        "print(y_test.shape)\n"
      ]
    },
    {
      "cell_type": "markdown",
      "metadata": {
        "id": "xg0vCyJYaRLX"
      },
      "source": [
        "X, y - they are the feature matrix and response vector which need to be split.\n",
        "\n",
        "test_size -ratio of test data to the given data. Example setting test size = 0.4 for 150 rows of X produces test data of 150 * 0.4 = 60 rows\n",
        "\n",
        "random state - f you use random_state = some_number, then you can guarantee that your split will be always the same. This is useful if you want reproducible results, for example in testing for consistency in the documentation (so that everybody can see the same numbers)."
      ]
    },
    {
      "cell_type": "code",
      "execution_count": null,
      "metadata": {
        "id": "x2ezQBBGck2G"
      },
      "outputs": [],
      "source": [
        "#Training the model\n"
      ]
    },
    {
      "cell_type": "markdown",
      "metadata": {
        "id": "JLM1ZYnAcrwL"
      },
      "source": [
        "# Regression and Classification | Supervised Machine Learning\n",
        "\n",
        "<br>\n",
        "What is regression and classification in ML\n",
        "<br>\n",
        "At a high level, these different algorithms can be classified into two groups based on the way they “learn” about data to make predictions: supervised and unsupervised learning.\n",
        "\n",
        "<br>\n",
        "Supervised ML - Supervised learning is where you have input variables (x) and an output variable (Y) and you use an algorithm to learn the mapping function from the input to the output Y = f(X) .\n",
        "\n",
        "<br>\n",
        "Techniques of Supervised Machine Learning algorithms include linear and logistic regression, multi-class classification, Decision Trees and support vector machines.\n",
        "\n"
      ]
    },
    {
      "cell_type": "markdown",
      "metadata": {
        "id": "-jvjJA_Gd60U"
      },
      "source": [
        "##### Simple linear regression of a housing dataset."
      ]
    },
    {
      "cell_type": "code",
      "execution_count": 44,
      "metadata": {
        "colab": {
          "base_uri": "https://localhost:8080/",
          "height": 73
        },
        "id": "MSXDGVW9ckzq",
        "outputId": "f0f2fd05-0dc0-4476-ba41-c675fe2dfc91"
      },
      "outputs": [
        {
          "output_type": "display_data",
          "data": {
            "text/plain": [
              "<IPython.core.display.HTML object>"
            ],
            "text/html": [
              "\n",
              "     <input type=\"file\" id=\"files-cc6fa1fa-314b-42e1-b196-2c2a43d8b8a7\" name=\"files[]\" multiple disabled\n",
              "        style=\"border:none\" />\n",
              "     <output id=\"result-cc6fa1fa-314b-42e1-b196-2c2a43d8b8a7\">\n",
              "      Upload widget is only available when the cell has been executed in the\n",
              "      current browser session. Please rerun this cell to enable.\n",
              "      </output>\n",
              "      <script>// Copyright 2017 Google LLC\n",
              "//\n",
              "// Licensed under the Apache License, Version 2.0 (the \"License\");\n",
              "// you may not use this file except in compliance with the License.\n",
              "// You may obtain a copy of the License at\n",
              "//\n",
              "//      http://www.apache.org/licenses/LICENSE-2.0\n",
              "//\n",
              "// Unless required by applicable law or agreed to in writing, software\n",
              "// distributed under the License is distributed on an \"AS IS\" BASIS,\n",
              "// WITHOUT WARRANTIES OR CONDITIONS OF ANY KIND, either express or implied.\n",
              "// See the License for the specific language governing permissions and\n",
              "// limitations under the License.\n",
              "\n",
              "/**\n",
              " * @fileoverview Helpers for google.colab Python module.\n",
              " */\n",
              "(function(scope) {\n",
              "function span(text, styleAttributes = {}) {\n",
              "  const element = document.createElement('span');\n",
              "  element.textContent = text;\n",
              "  for (const key of Object.keys(styleAttributes)) {\n",
              "    element.style[key] = styleAttributes[key];\n",
              "  }\n",
              "  return element;\n",
              "}\n",
              "\n",
              "// Max number of bytes which will be uploaded at a time.\n",
              "const MAX_PAYLOAD_SIZE = 100 * 1024;\n",
              "\n",
              "function _uploadFiles(inputId, outputId) {\n",
              "  const steps = uploadFilesStep(inputId, outputId);\n",
              "  const outputElement = document.getElementById(outputId);\n",
              "  // Cache steps on the outputElement to make it available for the next call\n",
              "  // to uploadFilesContinue from Python.\n",
              "  outputElement.steps = steps;\n",
              "\n",
              "  return _uploadFilesContinue(outputId);\n",
              "}\n",
              "\n",
              "// This is roughly an async generator (not supported in the browser yet),\n",
              "// where there are multiple asynchronous steps and the Python side is going\n",
              "// to poll for completion of each step.\n",
              "// This uses a Promise to block the python side on completion of each step,\n",
              "// then passes the result of the previous step as the input to the next step.\n",
              "function _uploadFilesContinue(outputId) {\n",
              "  const outputElement = document.getElementById(outputId);\n",
              "  const steps = outputElement.steps;\n",
              "\n",
              "  const next = steps.next(outputElement.lastPromiseValue);\n",
              "  return Promise.resolve(next.value.promise).then((value) => {\n",
              "    // Cache the last promise value to make it available to the next\n",
              "    // step of the generator.\n",
              "    outputElement.lastPromiseValue = value;\n",
              "    return next.value.response;\n",
              "  });\n",
              "}\n",
              "\n",
              "/**\n",
              " * Generator function which is called between each async step of the upload\n",
              " * process.\n",
              " * @param {string} inputId Element ID of the input file picker element.\n",
              " * @param {string} outputId Element ID of the output display.\n",
              " * @return {!Iterable<!Object>} Iterable of next steps.\n",
              " */\n",
              "function* uploadFilesStep(inputId, outputId) {\n",
              "  const inputElement = document.getElementById(inputId);\n",
              "  inputElement.disabled = false;\n",
              "\n",
              "  const outputElement = document.getElementById(outputId);\n",
              "  outputElement.innerHTML = '';\n",
              "\n",
              "  const pickedPromise = new Promise((resolve) => {\n",
              "    inputElement.addEventListener('change', (e) => {\n",
              "      resolve(e.target.files);\n",
              "    });\n",
              "  });\n",
              "\n",
              "  const cancel = document.createElement('button');\n",
              "  inputElement.parentElement.appendChild(cancel);\n",
              "  cancel.textContent = 'Cancel upload';\n",
              "  const cancelPromise = new Promise((resolve) => {\n",
              "    cancel.onclick = () => {\n",
              "      resolve(null);\n",
              "    };\n",
              "  });\n",
              "\n",
              "  // Wait for the user to pick the files.\n",
              "  const files = yield {\n",
              "    promise: Promise.race([pickedPromise, cancelPromise]),\n",
              "    response: {\n",
              "      action: 'starting',\n",
              "    }\n",
              "  };\n",
              "\n",
              "  cancel.remove();\n",
              "\n",
              "  // Disable the input element since further picks are not allowed.\n",
              "  inputElement.disabled = true;\n",
              "\n",
              "  if (!files) {\n",
              "    return {\n",
              "      response: {\n",
              "        action: 'complete',\n",
              "      }\n",
              "    };\n",
              "  }\n",
              "\n",
              "  for (const file of files) {\n",
              "    const li = document.createElement('li');\n",
              "    li.append(span(file.name, {fontWeight: 'bold'}));\n",
              "    li.append(span(\n",
              "        `(${file.type || 'n/a'}) - ${file.size} bytes, ` +\n",
              "        `last modified: ${\n",
              "            file.lastModifiedDate ? file.lastModifiedDate.toLocaleDateString() :\n",
              "                                    'n/a'} - `));\n",
              "    const percent = span('0% done');\n",
              "    li.appendChild(percent);\n",
              "\n",
              "    outputElement.appendChild(li);\n",
              "\n",
              "    const fileDataPromise = new Promise((resolve) => {\n",
              "      const reader = new FileReader();\n",
              "      reader.onload = (e) => {\n",
              "        resolve(e.target.result);\n",
              "      };\n",
              "      reader.readAsArrayBuffer(file);\n",
              "    });\n",
              "    // Wait for the data to be ready.\n",
              "    let fileData = yield {\n",
              "      promise: fileDataPromise,\n",
              "      response: {\n",
              "        action: 'continue',\n",
              "      }\n",
              "    };\n",
              "\n",
              "    // Use a chunked sending to avoid message size limits. See b/62115660.\n",
              "    let position = 0;\n",
              "    do {\n",
              "      const length = Math.min(fileData.byteLength - position, MAX_PAYLOAD_SIZE);\n",
              "      const chunk = new Uint8Array(fileData, position, length);\n",
              "      position += length;\n",
              "\n",
              "      const base64 = btoa(String.fromCharCode.apply(null, chunk));\n",
              "      yield {\n",
              "        response: {\n",
              "          action: 'append',\n",
              "          file: file.name,\n",
              "          data: base64,\n",
              "        },\n",
              "      };\n",
              "\n",
              "      let percentDone = fileData.byteLength === 0 ?\n",
              "          100 :\n",
              "          Math.round((position / fileData.byteLength) * 100);\n",
              "      percent.textContent = `${percentDone}% done`;\n",
              "\n",
              "    } while (position < fileData.byteLength);\n",
              "  }\n",
              "\n",
              "  // All done.\n",
              "  yield {\n",
              "    response: {\n",
              "      action: 'complete',\n",
              "    }\n",
              "  };\n",
              "}\n",
              "\n",
              "scope.google = scope.google || {};\n",
              "scope.google.colab = scope.google.colab || {};\n",
              "scope.google.colab._files = {\n",
              "  _uploadFiles,\n",
              "  _uploadFilesContinue,\n",
              "};\n",
              "})(self);\n",
              "</script> "
            ]
          },
          "metadata": {}
        },
        {
          "output_type": "stream",
          "name": "stdout",
          "text": [
            "Saving Housing.csv to Housing (1).csv\n"
          ]
        }
      ],
      "source": [
        "#regression using data set\n",
        "import matplotlib \n",
        "matplotlib.use('GTK3Agg')\n",
        "\n",
        "import matplotlib.pyplot as plt\n",
        "import numpy as np\n",
        "import pandas as pd\n",
        "from sklearn import datasets, linear_model\n",
        "\n",
        "#load CSV\n",
        "from google.colab import files\n",
        "\n",
        "uploaded = files.upload()"
      ]
    },
    {
      "cell_type": "code",
      "execution_count": 45,
      "metadata": {
        "id": "H5OJ5NZickxB"
      },
      "outputs": [],
      "source": [
        "#Load CSV and columns\n",
        "df =pd.read_csv(\"Housing.csv\")\n",
        "\n",
        "X = df['lotsize']\n",
        "y =df['price']\n",
        "\n",
        "X = X.values.reshape(len(X),1)\n",
        "y = y.values.reshape(len(X),1)\n",
        "\n",
        "#Split the data into training and testing test\n",
        "X_train = X[:-250]\n",
        "X_test = X[-250:]\n",
        "\n",
        "#Splot the targets into training/testing sets\n",
        "y_train = y[:-250]\n",
        "y_test = y[-250:]\n",
        "\n"
      ]
    },
    {
      "cell_type": "code",
      "execution_count": 48,
      "metadata": {
        "id": "G0irTi9VckWA",
        "colab": {
          "base_uri": "https://localhost:8080/",
          "height": 295
        },
        "outputId": "c738265b-5b1d-4d0f-dc9b-768594a3621e"
      },
      "outputs": [
        {
          "output_type": "execute_result",
          "data": {
            "text/plain": [
              "([], <a list of 0 Text major ticklabel objects>)"
            ]
          },
          "metadata": {},
          "execution_count": 48
        },
        {
          "output_type": "display_data",
          "data": {
            "text/plain": [
              "<Figure size 432x288 with 1 Axes>"
            ],
            "image/png": "[encoded data removed]"
          },
          "metadata": {}
        }
      ],
      "source": [
        "#plotting the outputs\n",
        "plt.scatter(X_test, y_test, color ='blue')\n",
        "plt.title('Test data')\n",
        "plt.xlabel('Size')\n",
        "plt.ylabel('Price')\n",
        "plt.xticks(())\n",
        "plt.yticks(())"
      ]
    },
    {
      "cell_type": "code",
      "execution_count": 47,
      "metadata": {
        "id": "F9kFKoCDckSp",
        "colab": {
          "base_uri": "https://localhost:8080/",
          "height": 265
        },
        "outputId": "0d29f7b1-4f69-461c-cf87-ec9041b383a6"
      },
      "outputs": [
        {
          "output_type": "display_data",
          "data": {
            "text/plain": [
              "<Figure size 432x288 with 1 Axes>"
            ],
            "image/png": "[encoded data removed]"
          },
          "metadata": {
            "needs_background": "light"
          }
        }
      ],
      "source": [
        "#Create linear regression object\n",
        "regr = linear_model.LinearRegression()\n",
        "\n",
        "#Train the model using the training sets\n",
        "regr.fit(X_train,y_train)\n",
        "\n",
        "#plot outputs\n",
        "plt.plot(X_test,regr.predict(X_test),color ='red',linewidth=3)\n",
        "plt.show()"
      ]
    },
    {
      "cell_type": "code",
      "execution_count": 49,
      "metadata": {
        "id": "-L_8Fk3_ckQH",
        "colab": {
          "base_uri": "https://localhost:8080/",
          "height": 278
        },
        "outputId": "011f87d5-ef37-4b18-9b65-33aadf1d53f8"
      },
      "outputs": [
        {
          "output_type": "display_data",
          "data": {
            "text/plain": [
              "<Figure size 432x288 with 1 Axes>"
            ],
            "image/png": "[encoded data removed]"
          },
          "metadata": {}
        }
      ],
      "source": [
        "#plotting the outputs\n",
        "plt.scatter(X_test, y_test, color ='blue')\n",
        "plt.title('Test data')\n",
        "plt.xlabel('Size')\n",
        "plt.ylabel('Price')\n",
        "plt.xticks(())\n",
        "plt.yticks(())\n",
        "\n",
        "#Create linear regression object\n",
        "regr = linear_model.LinearRegression()\n",
        "\n",
        "#Train the model using the training sets\n",
        "regr.fit(X_train,y_train)\n",
        "\n",
        "#plot outputs\n",
        "plt.plot(X_test,regr.predict(X_test),color ='red',linewidth=3)\n",
        "plt.show()"
      ]
    },
    {
      "cell_type": "code",
      "execution_count": null,
      "metadata": {
        "id": "aCToM6JgckNy"
      },
      "outputs": [],
      "source": []
    },
    {
      "cell_type": "code",
      "execution_count": null,
      "metadata": {
        "id": "zMbWE_e0ckLd"
      },
      "outputs": [],
      "source": []
    },
    {
      "cell_type": "code",
      "execution_count": null,
      "metadata": {
        "id": "D3kk3JATckJc"
      },
      "outputs": [],
      "source": []
    },
    {
      "cell_type": "code",
      "execution_count": null,
      "metadata": {
        "id": "_uG6xrBTckHM"
      },
      "outputs": [],
      "source": []
    },
    {
      "cell_type": "code",
      "execution_count": null,
      "metadata": {
        "id": "jpTvxYn9ckFH"
      },
      "outputs": [],
      "source": []
    },
    {
      "cell_type": "code",
      "execution_count": null,
      "metadata": {
        "id": "j8AeIzCmcj9y"
      },
      "outputs": [],
      "source": [
        "from google.colab import files"
      ]
    },
    {
      "cell_type": "code",
      "execution_count": null,
      "metadata": {
        "id": "pqR3rj1fckC1"
      },
      "outputs": [],
      "source": [
        "uploaded = files.upload()"
      ]
    },
    {
      "cell_type": "code",
      "execution_count": null,
      "metadata": {
        "id": "FcxgSfSDckAv"
      },
      "outputs": [],
      "source": []
    }
  ],
  "metadata": {
    "colab": {
      "provenance": [],
      "authorship_tag": "ABX9TyN6WT/5OHMCZsJLvAjQr/jZ",
      "include_colab_link": true
    },
    "kernelspec": {
      "display_name": "Python 3",
      "name": "python3"
    },
    "language_info": {
      "name": "python"
    }
  },
  "nbformat": 4,
  "nbformat_minor": 0
}