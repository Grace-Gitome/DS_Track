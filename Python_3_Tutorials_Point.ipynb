{
  "nbformat": 4,
  "nbformat_minor": 0,
  "metadata": {
    "colab": {
      "provenance": [],
      "authorship_tag": "ABX9TyNJgC82X/IZZaYacA4GI3Rr",
      "include_colab_link": true
    },
    "kernelspec": {
      "name": "python3",
      "display_name": "Python 3"
    },
    "language_info": {
      "name": "python"
    }
  },
  "cells": [
    {
      "cell_type": "markdown",
      "metadata": {
        "id": "view-in-github",
        "colab_type": "text"
      },
      "source": [
        "<a href=\"https://colab.research.google.com/github/Grace-Gitome/DS_Track/blob/main/Python_3_Tutorials_Point.ipynb\" target=\"_parent\"><img src=\"https://colab.research.google.com/assets/colab-badge.svg\" alt=\"Open In Colab\"/></a>"
      ]
    },
    {
      "cell_type": "markdown",
      "source": [
        "Revisitng the basics."
      ],
      "metadata": {
        "id": "Qs5qFpvdUw-O"
      }
    },
    {
      "cell_type": "code",
      "execution_count": 6,
      "metadata": {
        "colab": {
          "base_uri": "https://localhost:8080/"
        },
        "id": "FmdgWp6cTzo8",
        "outputId": "689d02e5-8d69-4ea5-804e-eba7a3fb8395"
      },
      "outputs": [
        {
          "name": "stdout",
          "output_type": "stream",
          "text": [
            "Enter subject: English\n"
          ]
        }
      ],
      "source": [
        "#Reading input from keyboard.\n",
        "x= input (\"Enter subject: \")"
      ]
    },
    {
      "cell_type": "code",
      "source": [
        "#multiple statements on a single line\n",
        "import sys; x = 1; print(x)\n",
        "\n"
      ],
      "metadata": {
        "colab": {
          "base_uri": "https://localhost:8080/"
        },
        "id": "b3pkKNv4WLTJ",
        "outputId": "c07dbed1-a966-4ddf-b715-4b01180861ae"
      },
      "execution_count": 8,
      "outputs": [
        {
          "output_type": "stream",
          "name": "stdout",
          "text": [
            "1\n"
          ]
        }
      ]
    },
    {
      "cell_type": "code",
      "source": [
        "#Python strings\n",
        "str = 'Hello World!'\n",
        "print (str) # Prints complete string\n",
        "print (str[0]) # Prints first character of the string\n",
        "print (str[2:5]) # Prints characters starting from 3rd to 5th\n",
        "print (str[2:]) # Prints string starting from 3rd character\n",
        "print (str * 2) # Prints string two times\n",
        "print (str + \"TEST\") # Prints concatenated string"
      ],
      "metadata": {
        "colab": {
          "base_uri": "https://localhost:8080/"
        },
        "id": "-tgr8t0SXamW",
        "outputId": "8ce02357-223a-4a32-9ba8-eef86bda3ab1"
      },
      "execution_count": 10,
      "outputs": [
        {
          "output_type": "stream",
          "name": "stdout",
          "text": [
            "Hello World!\n",
            "H\n",
            "llo\n",
            "llo World!\n",
            "Hello World!Hello World!\n",
            "Hello World!TEST\n"
          ]
        }
      ]
    },
    {
      "cell_type": "code",
      "source": [
        "#Python lists\n",
        "list = [ 'abcd', 786 , 2.23, 'john', 70.2 ]\n",
        "tinylist = [123, 'john']\n",
        "print (list) # Prints complete list\n",
        "print (list[0]) # Prints first element of the list\n",
        "print (list[1:3]) # Prints elements starting from 2nd till 3rd\n",
        "print (list[2:]) # Prints elements starting from 3rd element\n",
        "print (tinylist * 2) # Prints list two times\n",
        "print (list + tinylist) # Prints concatenated lists\n"
      ],
      "metadata": {
        "colab": {
          "base_uri": "https://localhost:8080/"
        },
        "id": "jzMIumcTY8be",
        "outputId": "28ed7f23-08da-4e6d-9ee2-e97949f3d943"
      },
      "execution_count": 12,
      "outputs": [
        {
          "output_type": "stream",
          "name": "stdout",
          "text": [
            "['abcd', 786, 2.23, 'john', 70.2]\n",
            "abcd\n",
            "[786, 2.23]\n",
            "[2.23, 'john', 70.2]\n",
            "[123, 'john', 123, 'john']\n",
            "['abcd', 786, 2.23, 'john', 70.2, 123, 'john']\n"
          ]
        }
      ]
    },
    {
      "cell_type": "code",
      "source": [
        "#updating a list\n",
        "list = [ 'abcd', 786 , 2.23, 'john', 70.2 ]\n",
        "list[2] = 1000 \n",
        "list"
      ],
      "metadata": {
        "colab": {
          "base_uri": "https://localhost:8080/"
        },
        "id": "6PZhUbjCZf9U",
        "outputId": "706f48fd-08a5-4a07-9aa7-7fb060554f19"
      },
      "execution_count": 14,
      "outputs": [
        {
          "output_type": "execute_result",
          "data": {
            "text/plain": [
              "['abcd', 786, 1000, 'john', 70.2]"
            ]
          },
          "metadata": {},
          "execution_count": 14
        }
      ]
    },
    {
      "cell_type": "code",
      "source": [
        "#tuples are immutable\n",
        "tuple = ( 'abcd', 786 , 2.23, 'john', 70.2 )\n",
        "tuple[2] = 1000 # Invalid syntax with tuple"
      ],
      "metadata": {
        "colab": {
          "base_uri": "https://localhost:8080/",
          "height": 201
        },
        "id": "SJGvpbt5Z6yb",
        "outputId": "08a1832b-95fe-4b0b-e118-eba6562ead16"
      },
      "execution_count": 15,
      "outputs": [
        {
          "output_type": "error",
          "ename": "TypeError",
          "evalue": "ignored",
          "traceback": [
            "\u001b[0;31m---------------------------------------------------------------------------\u001b[0m",
            "\u001b[0;31mTypeError\u001b[0m                                 Traceback (most recent call last)",
            "\u001b[0;32m<ipython-input-15-6e493af650bd>\u001b[0m in \u001b[0;36m<module>\u001b[0;34m\u001b[0m\n\u001b[1;32m      1\u001b[0m \u001b[0;31m#tuples are immutable\u001b[0m\u001b[0;34m\u001b[0m\u001b[0;34m\u001b[0m\u001b[0;34m\u001b[0m\u001b[0m\n\u001b[1;32m      2\u001b[0m \u001b[0mtuple\u001b[0m \u001b[0;34m=\u001b[0m \u001b[0;34m(\u001b[0m \u001b[0;34m'abcd'\u001b[0m\u001b[0;34m,\u001b[0m \u001b[0;36m786\u001b[0m \u001b[0;34m,\u001b[0m \u001b[0;36m2.23\u001b[0m\u001b[0;34m,\u001b[0m \u001b[0;34m'john'\u001b[0m\u001b[0;34m,\u001b[0m \u001b[0;36m70.2\u001b[0m \u001b[0;34m)\u001b[0m\u001b[0;34m\u001b[0m\u001b[0;34m\u001b[0m\u001b[0m\n\u001b[0;32m----> 3\u001b[0;31m \u001b[0mtuple\u001b[0m\u001b[0;34m[\u001b[0m\u001b[0;36m2\u001b[0m\u001b[0;34m]\u001b[0m \u001b[0;34m=\u001b[0m \u001b[0;36m1000\u001b[0m \u001b[0;31m# Invalid syntax with tuple\u001b[0m\u001b[0;34m\u001b[0m\u001b[0;34m\u001b[0m\u001b[0m\n\u001b[0m",
            "\u001b[0;31mTypeError\u001b[0m: 'tuple' object does not support item assignment"
          ]
        }
      ]
    },
    {
      "cell_type": "code",
      "source": [
        "#Python dictionary.\n",
        "dict = {}\n",
        "dict['one'] = \"This is one\"\n",
        "dict[2] = \"This is two\"\n",
        "tinydict = {'name': 'john','code':6734, 'dept': 'sales'}\n",
        "print (dict['one']) # Prints value for 'one' key\n",
        "print (dict[2]) # Prints value for 2 key\n",
        "print (tinydict) # Prints complete dictionary\n",
        "print (tinydict.keys()) # Prints all the keys\n",
        "print (tinydict.values()) # Prints all the values"
      ],
      "metadata": {
        "colab": {
          "base_uri": "https://localhost:8080/"
        },
        "id": "7hHYNWGdZ6vH",
        "outputId": "b6721b20-f769-41d3-ab17-395202a22138"
      },
      "execution_count": 16,
      "outputs": [
        {
          "output_type": "stream",
          "name": "stdout",
          "text": [
            "This is one\n",
            "This is two\n",
            "{'name': 'john', 'code': 6734, 'dept': 'sales'}\n",
            "dict_keys(['name', 'code', 'dept'])\n",
            "dict_values(['john', 6734, 'sales'])\n"
          ]
        }
      ]
    },
    {
      "cell_type": "code",
      "source": [
        "#if function \n",
        "amount = int(input (\"Enter amount: \"))\n",
        "if (amount > 1000):\n",
        "  print(\"Fair enough!\")"
      ],
      "metadata": {
        "colab": {
          "base_uri": "https://localhost:8080/"
        },
        "id": "JqjjhwajZ6sy",
        "outputId": "15708df0-354a-4d29-b50b-98f8ea8c7cb3"
      },
      "execution_count": 17,
      "outputs": [
        {
          "output_type": "stream",
          "name": "stdout",
          "text": [
            "Enter amount: 2000\n",
            "Fair enough!\n"
          ]
        }
      ]
    },
    {
      "cell_type": "code",
      "source": [
        "#if else function\n",
        "amount = float (input(\"Enter value:\"))\n",
        "if (amount >=5.77):\n",
        "  print(\"Enough\")\n",
        "else:\n",
        "  print(\"Deficit\")"
      ],
      "metadata": {
        "colab": {
          "base_uri": "https://localhost:8080/"
        },
        "id": "LrNJbPD9Z6p7",
        "outputId": "b20dc244-06ad-4b6e-8ca7-9ab60a9353a0"
      },
      "execution_count": 19,
      "outputs": [
        {
          "output_type": "stream",
          "name": "stdout",
          "text": [
            "Enter value:2.333\n",
            "Deficit\n"
          ]
        }
      ]
    },
    {
      "cell_type": "code",
      "source": [
        "#The elif statement\n",
        "score = int(input(\"Enter Score:\"))\n",
        "\n",
        "if (score >=90):\n",
        "  print (\"A\")\n",
        "\n",
        "elif (score>=80):\n",
        "  print(\"B\")\n",
        "\n",
        "elif score (score>=70):\n",
        "  print(\"C\")\n",
        "\n",
        "else:\n",
        "  print(\"D\")"
      ],
      "metadata": {
        "colab": {
          "base_uri": "https://localhost:8080/"
        },
        "id": "pCWDMvJvZ6nX",
        "outputId": "7cb78fa4-8546-4779-aa3e-8916f441ba14"
      },
      "execution_count": 20,
      "outputs": [
        {
          "output_type": "stream",
          "name": "stdout",
          "text": [
            "Enter Score:87\n",
            "B\n"
          ]
        }
      ]
    },
    {
      "cell_type": "code",
      "source": [
        "#Nested if statement"
      ],
      "metadata": {
        "id": "W_2mZ9W7ameC"
      },
      "execution_count": null,
      "outputs": []
    },
    {
      "cell_type": "code",
      "source": [],
      "metadata": {
        "id": "bPoBPV4JamaX"
      },
      "execution_count": null,
      "outputs": []
    },
    {
      "cell_type": "code",
      "source": [],
      "metadata": {
        "id": "t7LxvrxeamX2"
      },
      "execution_count": null,
      "outputs": []
    },
    {
      "cell_type": "code",
      "source": [],
      "metadata": {
        "id": "sH7EagdeamVY"
      },
      "execution_count": null,
      "outputs": []
    },
    {
      "cell_type": "code",
      "source": [],
      "metadata": {
        "id": "3QXTghfcamTG"
      },
      "execution_count": null,
      "outputs": []
    },
    {
      "cell_type": "code",
      "source": [],
      "metadata": {
        "id": "CZDWlAVIamQc"
      },
      "execution_count": null,
      "outputs": []
    },
    {
      "cell_type": "code",
      "source": [],
      "metadata": {
        "id": "KnhVC_jkamOH"
      },
      "execution_count": null,
      "outputs": []
    }
  ]
}