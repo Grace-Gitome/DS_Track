{
  "nbformat": 4,
  "nbformat_minor": 0,
  "metadata": {
    "colab": {
      "provenance": [],
      "authorship_tag": "ABX9TyN0F37qjiDGU7T6Ru94PzWU",
      "include_colab_link": true
    },
    "kernelspec": {
      "name": "python3",
      "display_name": "Python 3"
    },
    "language_info": {
      "name": "python"
    }
  },
  "cells": [
    {
      "cell_type": "markdown",
      "metadata": {
        "id": "view-in-github",
        "colab_type": "text"
      },
      "source": [
        "<a href=\"https://colab.research.google.com/github/Grace-Gitome/DS_Track/blob/main/Python_3_Tutorials_Point.ipynb\" target=\"_parent\"><img src=\"https://colab.research.google.com/assets/colab-badge.svg\" alt=\"Open In Colab\"/></a>"
      ]
    },
    {
      "cell_type": "markdown",
      "source": [
        "Revisitng the basics."
      ],
      "metadata": {
        "id": "Qs5qFpvdUw-O"
      }
    },
    {
      "cell_type": "code",
      "execution_count": 6,
      "metadata": {
        "colab": {
          "base_uri": "https://localhost:8080/"
        },
        "id": "FmdgWp6cTzo8",
        "outputId": "689d02e5-8d69-4ea5-804e-eba7a3fb8395"
      },
      "outputs": [
        {
          "name": "stdout",
          "output_type": "stream",
          "text": [
            "Enter subject: English\n"
          ]
        }
      ],
      "source": [
        "#Reading input from keyboard.\n",
        "x= input (\"Enter subject: \")"
      ]
    },
    {
      "cell_type": "code",
      "source": [
        "#multiple statements on a single line\n",
        "import sys; x = 1; print(x)\n",
        "\n"
      ],
      "metadata": {
        "colab": {
          "base_uri": "https://localhost:8080/"
        },
        "id": "b3pkKNv4WLTJ",
        "outputId": "c07dbed1-a966-4ddf-b715-4b01180861ae"
      },
      "execution_count": 8,
      "outputs": [
        {
          "output_type": "stream",
          "name": "stdout",
          "text": [
            "1\n"
          ]
        }
      ]
    },
    {
      "cell_type": "code",
      "source": [
        "#Python strings\n",
        "str = 'Hello World!'\n",
        "print (str) # Prints complete string\n",
        "print (str[0]) # Prints first character of the string\n",
        "print (str[2:5]) # Prints characters starting from 3rd to 5th\n",
        "print (str[2:]) # Prints string starting from 3rd character\n",
        "print (str * 2) # Prints string two times\n",
        "print (str + \"TEST\") # Prints concatenated string"
      ],
      "metadata": {
        "colab": {
          "base_uri": "https://localhost:8080/"
        },
        "id": "-tgr8t0SXamW",
        "outputId": "8ce02357-223a-4a32-9ba8-eef86bda3ab1"
      },
      "execution_count": 10,
      "outputs": [
        {
          "output_type": "stream",
          "name": "stdout",
          "text": [
            "Hello World!\n",
            "H\n",
            "llo\n",
            "llo World!\n",
            "Hello World!Hello World!\n",
            "Hello World!TEST\n"
          ]
        }
      ]
    },
    {
      "cell_type": "code",
      "source": [
        "#Python lists\n",
        "list = [ 'abcd', 786 , 2.23, 'john', 70.2 ]\n",
        "tinylist = [123, 'john']\n",
        "print (list) # Prints complete list\n",
        "print (list[0]) # Prints first element of the list\n",
        "print (list[1:3]) # Prints elements starting from 2nd till 3rd\n",
        "print (list[2:]) # Prints elements starting from 3rd element\n",
        "print (tinylist * 2) # Prints list two times\n",
        "print (list + tinylist) # Prints concatenated lists\n"
      ],
      "metadata": {
        "colab": {
          "base_uri": "https://localhost:8080/"
        },
        "id": "jzMIumcTY8be",
        "outputId": "28ed7f23-08da-4e6d-9ee2-e97949f3d943"
      },
      "execution_count": 12,
      "outputs": [
        {
          "output_type": "stream",
          "name": "stdout",
          "text": [
            "['abcd', 786, 2.23, 'john', 70.2]\n",
            "abcd\n",
            "[786, 2.23]\n",
            "[2.23, 'john', 70.2]\n",
            "[123, 'john', 123, 'john']\n",
            "['abcd', 786, 2.23, 'john', 70.2, 123, 'john']\n"
          ]
        }
      ]
    },
    {
      "cell_type": "code",
      "source": [
        "#updating a list\n",
        "list = [ 'abcd', 786 , 2.23, 'john', 70.2 ]\n",
        "list[2] = 1000 \n",
        "list"
      ],
      "metadata": {
        "colab": {
          "base_uri": "https://localhost:8080/"
        },
        "id": "6PZhUbjCZf9U",
        "outputId": "706f48fd-08a5-4a07-9aa7-7fb060554f19"
      },
      "execution_count": 14,
      "outputs": [
        {
          "output_type": "execute_result",
          "data": {
            "text/plain": [
              "['abcd', 786, 1000, 'john', 70.2]"
            ]
          },
          "metadata": {},
          "execution_count": 14
        }
      ]
    },
    {
      "cell_type": "code",
      "source": [
        "#tuples are immutable\n",
        "tuple = ( 'abcd', 786 , 2.23, 'john', 70.2 )\n",
        "tuple[2] = 1000 # Invalid syntax with tuple"
      ],
      "metadata": {
        "colab": {
          "base_uri": "https://localhost:8080/",
          "height": 201
        },
        "id": "SJGvpbt5Z6yb",
        "outputId": "08a1832b-95fe-4b0b-e118-eba6562ead16"
      },
      "execution_count": 15,
      "outputs": [
        {
          "output_type": "error",
          "ename": "TypeError",
          "evalue": "ignored",
          "traceback": [
            "\u001b[0;31m---------------------------------------------------------------------------\u001b[0m",
            "\u001b[0;31mTypeError\u001b[0m                                 Traceback (most recent call last)",
            "\u001b[0;32m<ipython-input-15-6e493af650bd>\u001b[0m in \u001b[0;36m<module>\u001b[0;34m\u001b[0m\n\u001b[1;32m      1\u001b[0m \u001b[0;31m#tuples are immutable\u001b[0m\u001b[0;34m\u001b[0m\u001b[0;34m\u001b[0m\u001b[0;34m\u001b[0m\u001b[0m\n\u001b[1;32m      2\u001b[0m \u001b[0mtuple\u001b[0m \u001b[0;34m=\u001b[0m \u001b[0;34m(\u001b[0m \u001b[0;34m'abcd'\u001b[0m\u001b[0;34m,\u001b[0m \u001b[0;36m786\u001b[0m \u001b[0;34m,\u001b[0m \u001b[0;36m2.23\u001b[0m\u001b[0;34m,\u001b[0m \u001b[0;34m'john'\u001b[0m\u001b[0;34m,\u001b[0m \u001b[0;36m70.2\u001b[0m \u001b[0;34m)\u001b[0m\u001b[0;34m\u001b[0m\u001b[0;34m\u001b[0m\u001b[0m\n\u001b[0;32m----> 3\u001b[0;31m \u001b[0mtuple\u001b[0m\u001b[0;34m[\u001b[0m\u001b[0;36m2\u001b[0m\u001b[0;34m]\u001b[0m \u001b[0;34m=\u001b[0m \u001b[0;36m1000\u001b[0m \u001b[0;31m# Invalid syntax with tuple\u001b[0m\u001b[0;34m\u001b[0m\u001b[0;34m\u001b[0m\u001b[0m\n\u001b[0m",
            "\u001b[0;31mTypeError\u001b[0m: 'tuple' object does not support item assignment"
          ]
        }
      ]
    },
    {
      "cell_type": "code",
      "source": [
        "#Numbers\n",
        "print(abs(-45)) #return absolute value"
      ],
      "metadata": {
        "colab": {
          "base_uri": "https://localhost:8080/"
        },
        "id": "unaWyUMBbOsR",
        "outputId": "8020a7f9-49ac-4805-f170-8dd29dcbe933"
      },
      "execution_count": 1,
      "outputs": [
        {
          "output_type": "stream",
          "name": "stdout",
          "text": [
            "45\n"
          ]
        }
      ]
    },
    {
      "cell_type": "code",
      "source": [
        "#returns the largest integer greater than the initial value\n",
        "import math\n",
        "print(math.ceil(-45.17))\n",
        "print(math.ceil(100.12))\n",
        "print(math.ceil(-100.72))"
      ],
      "metadata": {
        "colab": {
          "base_uri": "https://localhost:8080/"
        },
        "id": "J2GsZuSfbOo0",
        "outputId": "99b90bc8-fa6d-45d2-a4d2-7ce40f1048f7"
      },
      "execution_count": 8,
      "outputs": [
        {
          "output_type": "stream",
          "name": "stdout",
          "text": [
            "-45\n",
            "101\n",
            "-100\n"
          ]
        }
      ]
    },
    {
      "cell_type": "code",
      "source": [
        "#returns the largest integer not greater than the initial value\n",
        "print(math.floor(-45.17))\n",
        "print(math.floor(100.12))\n",
        "print(math.floor(-100.72))"
      ],
      "metadata": {
        "colab": {
          "base_uri": "https://localhost:8080/"
        },
        "id": "mgOlsEYKc4i9",
        "outputId": "0e6e7c50-437f-4c32-d1a0-3a3014a7b56e"
      },
      "execution_count": 7,
      "outputs": [
        {
          "output_type": "stream",
          "name": "stdout",
          "text": [
            "-46\n",
            "100\n",
            "-101\n"
          ]
        }
      ]
    },
    {
      "cell_type": "code",
      "source": [
        "#exponential\n",
        "print(math.exp(-100.72))"
      ],
      "metadata": {
        "colab": {
          "base_uri": "https://localhost:8080/"
        },
        "id": "6thZH4zHbOmc",
        "outputId": "3f586e5e-32a6-49fb-8207-549b2f0ccbc5"
      },
      "execution_count": 4,
      "outputs": [
        {
          "output_type": "stream",
          "name": "stdout",
          "text": [
            "1.8107553736706374e-44\n"
          ]
        }
      ]
    },
    {
      "cell_type": "code",
      "source": [
        "#absolute values\n",
        "print(math.fabs(-1.345))"
      ],
      "metadata": {
        "colab": {
          "base_uri": "https://localhost:8080/"
        },
        "id": "eVy0EUnkbOj5",
        "outputId": "572948b2-5a37-48b5-d2a6-02efc1b02912"
      },
      "execution_count": 6,
      "outputs": [
        {
          "output_type": "stream",
          "name": "stdout",
          "text": [
            "1.345\n"
          ]
        }
      ]
    },
    {
      "cell_type": "code",
      "source": [
        "#log()\n",
        "print(math.log(45.17))\n",
        "print(math.log(100.12))\n",
        "print(math.log(100.72))"
      ],
      "metadata": {
        "colab": {
          "base_uri": "https://localhost:8080/"
        },
        "id": "_1LOnUHNbOhs",
        "outputId": "20a55e2e-2cf4-44ff-e1f8-5d73be63d6b3"
      },
      "execution_count": 10,
      "outputs": [
        {
          "output_type": "stream",
          "name": "stdout",
          "text": [
            "3.8104331496665127\n",
            "4.6063694665635735\n",
            "4.612344389736092\n"
          ]
        }
      ]
    },
    {
      "cell_type": "code",
      "source": [
        "#log10()\n",
        "print(math.log10(45.17))\n",
        "print(math.log10(100.12))\n",
        "print(math.log10(100.72))"
      ],
      "metadata": {
        "colab": {
          "base_uri": "https://localhost:8080/"
        },
        "id": "FNvF2VpSbOfd",
        "outputId": "c21c4f2e-931c-478e-a29c-59984a2f6cb6"
      },
      "execution_count": 11,
      "outputs": [
        {
          "output_type": "stream",
          "name": "stdout",
          "text": [
            "1.654850090561394\n",
            "2.0005208409361854\n",
            "2.003115717099806\n"
          ]
        }
      ]
    },
    {
      "cell_type": "code",
      "source": [],
      "metadata": {
        "id": "kLXP3AgSbOdO"
      },
      "execution_count": null,
      "outputs": []
    },
    {
      "cell_type": "code",
      "source": [],
      "metadata": {
        "id": "sSoaBaVUbOaz"
      },
      "execution_count": null,
      "outputs": []
    },
    {
      "cell_type": "code",
      "source": [
        "#Python dictionary.\n",
        "dict = {}\n",
        "dict['one'] = \"This is one\"\n",
        "dict[2] = \"This is two\"\n",
        "tinydict = {'name': 'john','code':6734, 'dept': 'sales'}\n",
        "print (dict['one']) # Prints value for 'one' key\n",
        "print (dict[2]) # Prints value for 2 key\n",
        "print (tinydict) # Prints complete dictionary\n",
        "print (tinydict.keys()) # Prints all the keys\n",
        "print (tinydict.values()) # Prints all the values"
      ],
      "metadata": {
        "colab": {
          "base_uri": "https://localhost:8080/"
        },
        "id": "7hHYNWGdZ6vH",
        "outputId": "b6721b20-f769-41d3-ab17-395202a22138"
      },
      "execution_count": 16,
      "outputs": [
        {
          "output_type": "stream",
          "name": "stdout",
          "text": [
            "This is one\n",
            "This is two\n",
            "{'name': 'john', 'code': 6734, 'dept': 'sales'}\n",
            "dict_keys(['name', 'code', 'dept'])\n",
            "dict_values(['john', 6734, 'sales'])\n"
          ]
        }
      ]
    },
    {
      "cell_type": "code",
      "source": [
        "#if function \n",
        "amount = int(input (\"Enter amount: \"))\n",
        "if (amount > 1000):\n",
        "  print(\"Fair enough!\")"
      ],
      "metadata": {
        "colab": {
          "base_uri": "https://localhost:8080/"
        },
        "id": "JqjjhwajZ6sy",
        "outputId": "15708df0-354a-4d29-b50b-98f8ea8c7cb3"
      },
      "execution_count": 17,
      "outputs": [
        {
          "output_type": "stream",
          "name": "stdout",
          "text": [
            "Enter amount: 2000\n",
            "Fair enough!\n"
          ]
        }
      ]
    },
    {
      "cell_type": "code",
      "source": [
        "#if else function\n",
        "amount = float (input(\"Enter value:\"))\n",
        "if (amount >=5.77):\n",
        "  print(\"Enough\")\n",
        "else:\n",
        "  print(\"Deficit\")"
      ],
      "metadata": {
        "colab": {
          "base_uri": "https://localhost:8080/"
        },
        "id": "LrNJbPD9Z6p7",
        "outputId": "b20dc244-06ad-4b6e-8ca7-9ab60a9353a0"
      },
      "execution_count": 19,
      "outputs": [
        {
          "output_type": "stream",
          "name": "stdout",
          "text": [
            "Enter value:2.333\n",
            "Deficit\n"
          ]
        }
      ]
    },
    {
      "cell_type": "code",
      "source": [
        "#The elif statement\n",
        "score = int(input(\"Enter Score:\"))\n",
        "\n",
        "if (score >=90):\n",
        "  print (\"A\")\n",
        "\n",
        "elif (score>=80):\n",
        "  print(\"B\")\n",
        "\n",
        "elif score (score>=70):\n",
        "  print(\"C\")\n",
        "\n",
        "else:\n",
        "  print(\"D\")"
      ],
      "metadata": {
        "colab": {
          "base_uri": "https://localhost:8080/"
        },
        "id": "pCWDMvJvZ6nX",
        "outputId": "7cb78fa4-8546-4779-aa3e-8916f441ba14"
      },
      "execution_count": 20,
      "outputs": [
        {
          "output_type": "stream",
          "name": "stdout",
          "text": [
            "Enter Score:87\n",
            "B\n"
          ]
        }
      ]
    },
    {
      "cell_type": "code",
      "source": [
        "#Nested if statement\n",
        "num = int (input (\"Enter a number: \"))\n",
        "if (num % 2 == 0):\n",
        "  if (num % 3 == 0):\n",
        "    print(\"Divisible by both 2 & 3\")\n",
        "\n",
        "  elif (num % 2 == 0):\n",
        "      print (\"Only disible by 2 not 3\")\n",
        "\n",
        "else:\n",
        "  if( num % 3 == 0):\n",
        "    print(\"Only divisible by 3 not 2\")\n",
        "  else:\n",
        "   print(\"not divisible by either 2 or 3\")\n",
        "\n"
      ],
      "metadata": {
        "colab": {
          "base_uri": "https://localhost:8080/"
        },
        "id": "W_2mZ9W7ameC",
        "outputId": "0f826c3e-4c7b-4f55-d3b9-f241f8aab448"
      },
      "execution_count": 27,
      "outputs": [
        {
          "output_type": "stream",
          "name": "stdout",
          "text": [
            "Enter a number: 7\n",
            "not divisible by either 2 or 3\n"
          ]
        }
      ]
    },
    {
      "cell_type": "code",
      "source": [
        "#Loops\n",
        "#while loop - repeats a group of statements while a given condition is true. It tests the condition first before executing the loop body.\n",
        "#for loop -\n",
        "#nested loop.\n",
        "\n",
        "#while loop\n",
        "count = 0\n",
        "while (count < 9 ):\n",
        "  print(count)\n",
        "  count+=1\n",
        "\n",
        "print (\"Goodbye\")"
      ],
      "metadata": {
        "colab": {
          "base_uri": "https://localhost:8080/"
        },
        "id": "bPoBPV4JamaX",
        "outputId": "7a9d3cf4-97df-41bb-8db1-6c90c2459703"
      },
      "execution_count": 28,
      "outputs": [
        {
          "output_type": "stream",
          "name": "stdout",
          "text": [
            "0\n",
            "1\n",
            "2\n",
            "3\n",
            "4\n",
            "5\n",
            "6\n",
            "7\n",
            "8\n",
            "Goodbye\n"
          ]
        }
      ]
    },
    {
      "cell_type": "code",
      "source": [
        "#infinite loop - if a condition never becomes false\n",
        "count = 11\n",
        "while (count > 9 ):\n",
        "  print(count)\n",
        "  count+=1\n",
        "\n",
        "print (\"Goodbye\")"
      ],
      "metadata": {
        "id": "t7LxvrxeamX2"
      },
      "execution_count": 30,
      "outputs": []
    },
    {
      "cell_type": "code",
      "source": [
        "#using else statement with loops\n",
        "count = 0\n",
        "while (count< 9 ):\n",
        "  print(count)\n",
        "  count+=1\n",
        "else:\n",
        "  print(\"Goodbye\")"
      ],
      "metadata": {
        "colab": {
          "base_uri": "https://localhost:8080/"
        },
        "id": "sH7EagdeamVY",
        "outputId": "870f1747-90a8-4bfd-e0eb-44c8ce56ee08"
      },
      "execution_count": 33,
      "outputs": [
        {
          "output_type": "stream",
          "name": "stdout",
          "text": [
            "0\n",
            "1\n",
            "2\n",
            "3\n",
            "4\n",
            "5\n",
            "6\n",
            "7\n",
            "8\n",
            "Goodbye\n"
          ]
        }
      ]
    },
    {
      "cell_type": "code",
      "source": [
        "#for loop\n",
        "numbers = [0,1,2,3,4 ]\n",
        "for i in numbers:\n",
        "  print (i)"
      ],
      "metadata": {
        "colab": {
          "base_uri": "https://localhost:8080/"
        },
        "id": "3QXTghfcamTG",
        "outputId": "1a8728e3-e3e1-4dd4-c5c6-d6faa879f782"
      },
      "execution_count": 50,
      "outputs": [
        {
          "output_type": "stream",
          "name": "stdout",
          "text": [
            "0\n",
            "1\n",
            "2\n",
            "3\n",
            "4\n"
          ]
        }
      ]
    },
    {
      "cell_type": "code",
      "source": [
        "numbers = [0,1,2,3,4 ]\n",
        "\n",
        "sum = 0;\n",
        "for i in numbers:\n",
        "  sum  += i\n",
        "  print (sum)"
      ],
      "metadata": {
        "colab": {
          "base_uri": "https://localhost:8080/"
        },
        "id": "CZDWlAVIamQc",
        "outputId": "1ab932bd-3b18-4c0a-89a6-f1b4d04fd137"
      },
      "execution_count": 53,
      "outputs": [
        {
          "output_type": "stream",
          "name": "stdout",
          "text": [
            "0\n",
            "1\n",
            "3\n",
            "6\n",
            "10\n"
          ]
        }
      ]
    },
    {
      "cell_type": "code",
      "source": [
        "#Program to display student's mark from record\n",
        "studentName = \"Andrew\"\n",
        "\n",
        "records = {\"James\": 100 , \"Julia\": 570, \"Andrew\":600}\n",
        "\n",
        "for student in records:\n",
        "  if student == studentName:\n",
        "    print(records[student])\n"
      ],
      "metadata": {
        "colab": {
          "base_uri": "https://localhost:8080/"
        },
        "id": "KnhVC_jkamOH",
        "outputId": "39ececed-b936-47ca-fb46-d87410e2ee6c"
      },
      "execution_count": 55,
      "outputs": [
        {
          "output_type": "stream",
          "name": "stdout",
          "text": [
            "600\n"
          ]
        }
      ]
    },
    {
      "cell_type": "code",
      "source": [
        "list = [\"geeks\", \"for\", \"geeks\"]\n",
        "for index in range(len(list)):\n",
        "  print(list[index])"
      ],
      "metadata": {
        "colab": {
          "base_uri": "https://localhost:8080/"
        },
        "id": "5xGTKm56w3f5",
        "outputId": "4a87887e-a299-4614-803b-dbe68868037c"
      },
      "execution_count": 56,
      "outputs": [
        {
          "output_type": "stream",
          "name": "stdout",
          "text": [
            "geeks\n",
            "for\n",
            "geeks\n"
          ]
        }
      ]
    },
    {
      "cell_type": "code",
      "source": [
        "#nested loop\n",
        "for i in range (6):\n",
        "  for j in range (i):\n",
        "    print (i, end = '')\n",
        "  print()"
      ],
      "metadata": {
        "colab": {
          "base_uri": "https://localhost:8080/"
        },
        "id": "ZdxzP_D1w3cf",
        "outputId": "7f365d81-eb51-4e3d-e248-7acd5aa97ab0"
      },
      "execution_count": 58,
      "outputs": [
        {
          "output_type": "stream",
          "name": "stdout",
          "text": [
            "\n",
            "1\n",
            "22\n",
            "333\n",
            "4444\n",
            "55555\n"
          ]
        }
      ]
    },
    {
      "cell_type": "code",
      "source": [
        "for i in range(1,11):\n",
        "  for j in range(1,11): \n",
        "    k = i * j\n",
        "    print (k, end = '   ')\n",
        "\n",
        "  print()\n",
        "\n",
        "# end = '' appears as a space instead of default newline hence numbers will appear in a row"
      ],
      "metadata": {
        "colab": {
          "base_uri": "https://localhost:8080/"
        },
        "id": "w4FaWEOzw3Z2",
        "outputId": "b01cbde8-4a2e-47da-98b4-a57823d61c73"
      },
      "execution_count": 63,
      "outputs": [
        {
          "output_type": "stream",
          "name": "stdout",
          "text": [
            "1   2   3   4   5   6   7   8   9   10   \n",
            "2   4   6   8   10   12   14   16   18   20   \n",
            "3   6   9   12   15   18   21   24   27   30   \n",
            "4   8   12   16   20   24   28   32   36   40   \n",
            "5   10   15   20   25   30   35   40   45   50   \n",
            "6   12   18   24   30   36   42   48   54   60   \n",
            "7   14   21   28   35   42   49   56   63   70   \n",
            "8   16   24   32   40   48   56   64   72   80   \n",
            "9   18   27   36   45   54   63   72   81   90   \n",
            "10   20   30   40   50   60   70   80   90   100   \n"
          ]
        }
      ]
    },
    {
      "cell_type": "code",
      "source": [],
      "metadata": {
        "id": "X7S7EArsw3XR"
      },
      "execution_count": null,
      "outputs": []
    }
  ]
}