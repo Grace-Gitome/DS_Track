{
  "nbformat": 4,
  "nbformat_minor": 0,
  "metadata": {
    "colab": {
      "provenance": [],
      "authorship_tag": "ABX9TyN9ijuyG0FEBNwlurgBNLic",
      "include_colab_link": true
    },
    "kernelspec": {
      "name": "python3",
      "display_name": "Python 3"
    },
    "language_info": {
      "name": "python"
    }
  },
  "cells": [
    {
      "cell_type": "markdown",
      "metadata": {
        "id": "view-in-github",
        "colab_type": "text"
      },
      "source": [
        "<a href=\"https://colab.research.google.com/github/Grace-Gitome/DS_Track/blob/main/Python_Basics.ipynb\" target=\"_parent\"><img src=\"https://colab.research.google.com/assets/colab-badge.svg\" alt=\"Open In Colab\"/></a>"
      ]
    },
    {
      "cell_type": "markdown",
      "source": [
        "VARIABLES"
      ],
      "metadata": {
        "id": "06DbVoYlZikK"
      }
    },
    {
      "cell_type": "code",
      "source": [
        "#Basics refresher on python variables\n",
        "#Resource used is learnpython.com"
      ],
      "metadata": {
        "id": "52Cit3wlT90m"
      },
      "execution_count": 17,
      "outputs": []
    },
    {
      "cell_type": "code",
      "source": [
        "#Function to check object type\n",
        "mynum = 44\n",
        "print(type(mynum))\n",
        "\n",
        "\n",
        "mynum = 44.67\n",
        "print(type(mynum))"
      ],
      "metadata": {
        "colab": {
          "base_uri": "https://localhost:8080/"
        },
        "id": "IGGLbYCyXR8t",
        "outputId": "9485c03a-a84b-40da-f126-e233e9c868eb"
      },
      "execution_count": 14,
      "outputs": [
        {
          "output_type": "stream",
          "name": "stdout",
          "text": [
            "<class 'int'>\n",
            "<class 'float'>\n"
          ]
        }
      ]
    },
    {
      "cell_type": "code",
      "source": [
        "## Data Types\n",
        "#simultaneous variable assignment\n",
        "\n",
        "a,b = 3,4;\n",
        "print (a,b)"
      ],
      "metadata": {
        "colab": {
          "base_uri": "https://localhost:8080/"
        },
        "id": "pEUpbpOhNeFU",
        "outputId": "15d8e411-1a4d-4a87-a38c-2092a5bc6db4"
      },
      "execution_count": 2,
      "outputs": [
        {
          "output_type": "stream",
          "name": "stdout",
          "text": [
            "3 4\n"
          ]
        }
      ]
    },
    {
      "cell_type": "markdown",
      "source": [
        "##isinstance() function\n",
        "It is used to check if number is either int or float"
      ],
      "metadata": {
        "id": "eJ7dy81qVkaL"
      }
    },
    {
      "cell_type": "code",
      "source": [
        "#isinstance() function\n",
        "#It returns true or false since it is a boolean function.\n",
        "print(isinstance(400,int))\n",
        "print(isinstance(400,float))"
      ],
      "metadata": {
        "colab": {
          "base_uri": "https://localhost:8080/"
        },
        "id": "u8ckPn3mWuO_",
        "outputId": "ace6390f-6baf-4d51-d480-06ee1d3ec577"
      },
      "execution_count": 11,
      "outputs": [
        {
          "output_type": "stream",
          "name": "stdout",
          "text": [
            "True\n",
            "False\n"
          ]
        }
      ]
    },
    {
      "cell_type": "code",
      "source": [
        "#isinstance() function\n",
        "mynum = 7.77\n",
        "\n",
        "if isinstance(mynum, int):\n",
        "  print(\"Number is an integer\")\n",
        "\n",
        "if isinstance(mynum, float):\n",
        "  print(\"Number is  a float variable.\")\n",
        "\n",
        "  #alternatively, simultaneous variable check\n",
        "if isinstance(mynum,(int,float)):\n",
        "  print('Number is either an integer or a float variable')\n",
        "\n",
        "\n"
      ],
      "metadata": {
        "colab": {
          "base_uri": "https://localhost:8080/"
        },
        "id": "fILLqY3GUG3G",
        "outputId": "143ba2ef-7cad-42f8-a862-9b29717c9759"
      },
      "execution_count": 9,
      "outputs": [
        {
          "output_type": "stream",
          "name": "stdout",
          "text": [
            "Number is  a float variable.\n",
            "Number is either an integer or a float variable\n"
          ]
        }
      ]
    },
    {
      "cell_type": "code",
      "source": [
        "# Exercise on variables.\n",
        "mystring = \"Hello\"\n",
        "myfloat  =  10.0\n",
        "myint    =  20\n",
        "\n",
        "#test script\n",
        "if mystring ==\"Hello\":\n",
        "  print(\"String: %s\" % mystring)\n",
        "\n",
        "#the function checks the variable datatype and the assigned value\n",
        "if isinstance(myfloat,float) and myfloat== 10.0: \n",
        "  print(\"Float %f\" %myfloat)    \n",
        "\n",
        "if isinstance(myint,int) and myint == 20:\n",
        "  print(\"Integer: %d\" %myint)         \n",
        "\n"
      ],
      "metadata": {
        "colab": {
          "base_uri": "https://localhost:8080/"
        },
        "id": "ItHmxfJTNheq",
        "outputId": "416da46c-41e9-4470-cccb-e1dd0c3f66b6"
      },
      "execution_count": 16,
      "outputs": [
        {
          "output_type": "stream",
          "name": "stdout",
          "text": [
            "String: Hello\n",
            "Float 10.000000\n",
            "Integer: 20\n"
          ]
        }
      ]
    },
    {
      "cell_type": "markdown",
      "source": [
        "## PYTHON COLLECTIONS(arrays)\n",
        "There are four collection data types<br>\n",
        "LIST - a collection which is ordered and mutable, it allows duplicate members.<br>\n",
        "\n",
        "TUPLE - a collection which is ordered and immutable. It allows duplicate members <br>\n",
        "\n",
        "SET - collection which is unordered,immutable and unindexed. It has no duplicate members.<br>\n",
        "\n",
        "DICTIONARY- a collection which is ordered and mutable. It does not allow duplicate members."
      ],
      "metadata": {
        "id": "YAMPbvy4dlnz"
      }
    },
    {
      "cell_type": "markdown",
      "source": [
        "### LISTS\n",
        "A list is used to store multiple items in a variable. <br>\n",
        "Lists are ordered, changeable(mutable) and allow duplicate values.<br>\n",
        "Ordered means that items have a defined order, if you add new items to a list they are placed at the end of the list. There is use of indexes.<br>\n",
        "Changable/mutable means than we can perform CRUD operations on the lists items."
      ],
      "metadata": {
        "id": "njzpGkYKbLQw"
      }
    },
    {
      "cell_type": "code",
      "source": [
        "#List manipulation.\n",
        "mylist = [\"data\", \"mathematics\", \"statistics\"]\n",
        "#determine list length\n",
        "print(len(mylist))    #len()\n",
        "\n",
        "#determine object type\n",
        "print(type(mylist))    #type()\n",
        "\n",
        "#list construction\n",
        "mylist = list((\"data\", \"mathematics\", \"statistics\"))  #list()\n",
        "print(mylist)\n",
        "\n",
        "#add values to the list\n",
        "mylist.append(\"ML\")      #append()\n",
        "print(mylist)\n",
        "\n",
        "#insert item to list\n",
        "mylist.insert(3,\"Visualization\")      #insert() at a specified index\n",
        "print(mylist)\n",
        "\n",
        "#add value at end of list ..separate the words into single characters\n",
        "mylist.extend(\"Cleaning\")\n",
        "print(mylist)\n",
        "\n"
      ],
      "metadata": {
        "colab": {
          "base_uri": "https://localhost:8080/"
        },
        "id": "ejlrTzt_Y9oU",
        "outputId": "4cec3023-8506-48c0-88a6-1db659b4aa27"
      },
      "execution_count": 68,
      "outputs": [
        {
          "output_type": "stream",
          "name": "stdout",
          "text": [
            "3\n",
            "<class 'list'>\n",
            "['data', 'mathematics', 'statistics']\n",
            "['data', 'mathematics', 'statistics', 'ML']\n",
            "['data', 'mathematics', 'statistics', 'Visualization', 'ML']\n",
            "['data', 'mathematics', 'statistics', 'Visualization', 'ML', 'C', 'l', 'e', 'a', 'n', 'i', 'n', 'g']\n"
          ]
        }
      ]
    },
    {
      "cell_type": "code",
      "source": [
        "mylist = [\"history\", \"science\", \"english\"]\n",
        "print(mylist)\n",
        "\n",
        "#removing specified item\n",
        "mylist.remove(\"history\")   \n",
        "print(mylist)\n",
        "\n",
        "#remove specified index\n",
        "mylist.pop(1)\n",
        "print(mylist)\n",
        "\n",
        "#remove last index\n",
        "mylist.pop()\n",
        "print(mylist)\n"
      ],
      "metadata": {
        "colab": {
          "base_uri": "https://localhost:8080/"
        },
        "id": "ag7sqN0H6olI",
        "outputId": "48ae08f2-1f8f-4f0b-d40c-a20a033bba88"
      },
      "execution_count": 74,
      "outputs": [
        {
          "output_type": "stream",
          "name": "stdout",
          "text": [
            "['history', 'science', 'english']\n",
            "['science', 'english']\n",
            "['science']\n",
            "[]\n"
          ]
        }
      ]
    },
    {
      "cell_type": "code",
      "source": [
        "mylist = [\"history\", \"science\", \"english\", \"aviation\", \"theology\"]\n",
        "print(mylist)\n",
        "\n",
        "#removing specified item\n",
        "mylist.remove(\"history\")   \n",
        "print(mylist)\n",
        "\n",
        "#remove specified index\n",
        "mylist.pop(1)\n",
        "print(mylist)\n",
        "\n",
        "#remove last index  ****unsure\n",
        "mylist.pop()\n",
        "print(mylist)\n",
        "\n",
        "#clear list\n",
        "mylist.clear()  #list remains but with no content\n",
        "\n",
        "\n",
        "print(mylist)\n",
        "#delete list completely\n",
        "del mylist\n"
      ],
      "metadata": {
        "colab": {
          "base_uri": "https://localhost:8080/"
        },
        "id": "EcT77KEp707-",
        "outputId": "1008518e-6e6a-4bc0-ae43-15ebc912c43b"
      },
      "execution_count": 81,
      "outputs": [
        {
          "output_type": "stream",
          "name": "stdout",
          "text": [
            "['history', 'science', 'english', 'aviation', 'theology']\n",
            "['science', 'english', 'aviation', 'theology']\n",
            "['science', 'aviation', 'theology']\n",
            "['science', 'aviation']\n",
            "[]\n"
          ]
        }
      ]
    },
    {
      "cell_type": "markdown",
      "source": [
        "### CONDITIONS"
      ],
      "metadata": {
        "id": "gtg_ra6l9Wje"
      }
    },
    {
      "cell_type": "code",
      "source": [],
      "metadata": {
        "id": "KAwNVcoG9Mtp"
      },
      "execution_count": null,
      "outputs": []
    },
    {
      "cell_type": "code",
      "source": [],
      "metadata": {
        "id": "-CY7GDkI9HSd"
      },
      "execution_count": null,
      "outputs": []
    },
    {
      "cell_type": "code",
      "source": [],
      "metadata": {
        "id": "VhccBRcc871O"
      },
      "execution_count": null,
      "outputs": []
    },
    {
      "cell_type": "code",
      "source": [],
      "metadata": {
        "id": "9AXnjGDy84Nk"
      },
      "execution_count": null,
      "outputs": []
    },
    {
      "cell_type": "code",
      "source": [],
      "metadata": {
        "id": "P-Iq0jgx8zWB"
      },
      "execution_count": null,
      "outputs": []
    },
    {
      "cell_type": "code",
      "source": [],
      "metadata": {
        "id": "lFQRPZ4k8t-F"
      },
      "execution_count": null,
      "outputs": []
    },
    {
      "cell_type": "code",
      "source": [],
      "metadata": {
        "id": "zfYzBb0S8Q-W"
      },
      "execution_count": null,
      "outputs": []
    },
    {
      "cell_type": "code",
      "source": [],
      "metadata": {
        "id": "U4DjnooZ7utC"
      },
      "execution_count": null,
      "outputs": []
    },
    {
      "cell_type": "code",
      "source": [],
      "metadata": {
        "id": "R9zK8Sgu7i60"
      },
      "execution_count": null,
      "outputs": []
    },
    {
      "cell_type": "code",
      "source": [],
      "metadata": {
        "id": "E0JOaOSX7gYV"
      },
      "execution_count": null,
      "outputs": []
    },
    {
      "cell_type": "code",
      "source": [],
      "metadata": {
        "id": "IoXKekcE7W0S"
      },
      "execution_count": null,
      "outputs": []
    },
    {
      "cell_type": "code",
      "source": [],
      "metadata": {
        "id": "yx6s0hjw7NrP"
      },
      "execution_count": null,
      "outputs": []
    },
    {
      "cell_type": "code",
      "source": [],
      "metadata": {
        "id": "oj-QnL2J6iie"
      },
      "execution_count": null,
      "outputs": []
    },
    {
      "cell_type": "code",
      "source": [],
      "metadata": {
        "id": "-9Wgq-K66d72"
      },
      "execution_count": null,
      "outputs": []
    },
    {
      "cell_type": "code",
      "source": [],
      "metadata": {
        "id": "JFhWIHRH6Kx8"
      },
      "execution_count": null,
      "outputs": []
    },
    {
      "cell_type": "code",
      "source": [
        "print([1,2,3] * 3)  #repeat the values in the list three times by multiplying it with 3"
      ],
      "metadata": {
        "colab": {
          "base_uri": "https://localhost:8080/"
        },
        "id": "sBXHeGnGhKc4",
        "outputId": "e3ff92c4-cc99-46a4-a267-cb5b538b3678"
      },
      "execution_count": 26,
      "outputs": [
        {
          "output_type": "stream",
          "name": "stdout",
          "text": [
            "[1, 2, 3, 1, 2, 3, 1, 2, 3]\n"
          ]
        }
      ]
    },
    {
      "cell_type": "code",
      "source": [
        "print([\"x\"] * 10) #list multiplication"
      ],
      "metadata": {
        "colab": {
          "base_uri": "https://localhost:8080/"
        },
        "id": "_iF78C-viovM",
        "outputId": "36c03815-275b-48e5-c434-8d60e5bbc927"
      },
      "execution_count": 32,
      "outputs": [
        {
          "output_type": "stream",
          "name": "stdout",
          "text": [
            "['x', 'x', 'x', 'x', 'x', 'x', 'x', 'x', 'x', 'x']\n"
          ]
        }
      ]
    },
    {
      "cell_type": "code",
      "source": [
        "#Exercise on lists\n",
        "numbers = [1,2,3]\n",
        "strings = [\"Collab\", \"Github\", \"Clickup\"]\n",
        "\n",
        "second_platform = strings[1]\n",
        "\n",
        "print(numbers)\n",
        "print(strings)\n",
        "print(\"The second SAAS on the strings list is %s\" %second_platform)"
      ],
      "metadata": {
        "colab": {
          "base_uri": "https://localhost:8080/"
        },
        "id": "M3L1eVR-fFXi",
        "outputId": "d3cef70e-1a2a-4b1c-fa6e-090cc3912d1f"
      },
      "execution_count": 23,
      "outputs": [
        {
          "output_type": "stream",
          "name": "stdout",
          "text": [
            "[1, 2, 3]\n",
            "['Collab', 'Github', 'Clickup']\n",
            "The second SAAS on the strings list is Github\n"
          ]
        }
      ]
    },
    {
      "cell_type": "code",
      "source": [
        "#Exercise on Basic operators\n",
        "x_list  = [\"x\"]*10  #contains 10 instances of x\n",
        "y_list  = [\"y\"]*10\n",
        "\n",
        "big_list =x_list +y_list   #concancet the two lists\n",
        "\n",
        "#length check\n",
        "print(\"x_list contains %d objects\" %len(x_list))\n",
        "print(\"y_list contains %d objects\" %len(y_list))\n",
        "print(\"big_list contains %d objects\" %len(big_list))\n",
        "\n"
      ],
      "metadata": {
        "colab": {
          "base_uri": "https://localhost:8080/"
        },
        "id": "bzUL4zqegn2S",
        "outputId": "f1524c23-032e-4009-9b51-64de7be66a82"
      },
      "execution_count": 36,
      "outputs": [
        {
          "output_type": "stream",
          "name": "stdout",
          "text": [
            "x_list contains 10 objects\n",
            "y_list contains 10 objects\n",
            "big_list contains 20 objects\n"
          ]
        }
      ]
    },
    {
      "cell_type": "markdown",
      "source": [
        "## STRING FORMATTING\n",
        "Basic argument operators:<br>\n",
        "%s - string <br>\n",
        "%d - integers <br>\n",
        "%f - floating point numbers <br>\n",
        "%.<number of digits>f - floating point numbers with specified digits to the right of the dot <br>\n",
        "%x/%X -integers in hex representation (Lowercase/Uppercase)"
      ],
      "metadata": {
        "id": "2xcGx7BxwSU2"
      }
    },
    {
      "cell_type": "code",
      "source": [
        "Game = \"Baseball\"\n",
        "Score = 4\n",
        "\n",
        "print(\"%s score is %d\" %(Game,Score))"
      ],
      "metadata": {
        "colab": {
          "base_uri": "https://localhost:8080/"
        },
        "id": "mCoFr9k2x5Se",
        "outputId": "0dae7a90-d6ab-475f-ba93-05e2cafd3eee"
      },
      "execution_count": 42,
      "outputs": [
        {
          "output_type": "stream",
          "name": "stdout",
          "text": [
            "Baseball score is 4\n"
          ]
        }
      ]
    },
    {
      "cell_type": "code",
      "source": [],
      "metadata": {
        "id": "dX9nseAHyTyX"
      },
      "execution_count": null,
      "outputs": []
    },
    {
      "cell_type": "code",
      "source": [
        "#Exercise on string formatting"
      ],
      "metadata": {
        "id": "BA0mCNp9kJy1"
      },
      "execution_count": 37,
      "outputs": []
    },
    {
      "cell_type": "code",
      "source": [
        "data = (\"Grace\", \"Gitome\", 700)\n",
        "format_string = \"Hello %s %s. Your current balance is $%s\"\n",
        "\n",
        "print(format_string % data)"
      ],
      "metadata": {
        "colab": {
          "base_uri": "https://localhost:8080/"
        },
        "id": "ZYKYu7ZLxIiC",
        "outputId": "31dff422-5dd7-45cd-9f37-dd3669111cea"
      },
      "execution_count": 40,
      "outputs": [
        {
          "output_type": "stream",
          "name": "stdout",
          "text": [
            "Hello Grace Gitome. Your current balance is $700\n"
          ]
        }
      ]
    },
    {
      "cell_type": "code",
      "source": [
        "#string modification\n",
        "string = \"Ring On\"\n",
        "print(string.index(\"O\"))  #index of a character index()\n",
        "\n",
        "print(string.count(\"g\"))  #count number of times a character appears count()\n",
        "\n",
        "print(string[2:4])  #prints character on second and third index\n",
        "\n",
        "print(string[2:])   #second character to end\n",
        "\n",
        "print(string[:5])   #all values before index 4\n",
        "\n",
        "print(string[-5:-2]) #values on index -4 to index -3"
      ],
      "metadata": {
        "colab": {
          "base_uri": "https://localhost:8080/"
        },
        "id": "Pk9bEX07kDb6",
        "outputId": "8307a52b-ca4a-4629-a771-62188e11b251"
      },
      "execution_count": 52,
      "outputs": [
        {
          "output_type": "stream",
          "name": "stdout",
          "text": [
            "5\n",
            "1\n",
            "ng\n",
            "ng On\n",
            "Ring \n",
            "ng \n"
          ]
        }
      ]
    },
    {
      "cell_type": "code",
      "source": [
        "string =\"Intermediary\"\n",
        "print(string[3:7])\n",
        "print(string[3:7:1])  #[start:stop:step]\n",
        "print(string[3:9:2]) \n",
        "print(string[3:12:3]) \n"
      ],
      "metadata": {
        "colab": {
          "base_uri": "https://localhost:8080/"
        },
        "id": "QpvfkCYC011V",
        "outputId": "4ea63b2e-5223-4103-eed9-b0a36d69d742"
      },
      "execution_count": 58,
      "outputs": [
        {
          "output_type": "stream",
          "name": "stdout",
          "text": [
            "erme\n",
            "erme\n",
            "emd\n",
            "eea\n"
          ]
        }
      ]
    },
    {
      "cell_type": "code",
      "source": [
        "#reverse a string\n",
        "string =\"Intermediary\"\n",
        "print(string[::-1])\n",
        "\n",
        "print(string.lower())\n",
        "print(string.upper())\n",
        "\n",
        "#split a string\n",
        "strz = \"The rodeo with a stereo\"\n",
        "print(strz.split())\n"
      ],
      "metadata": {
        "colab": {
          "base_uri": "https://localhost:8080/"
        },
        "id": "8ZvsTxzD2xs2",
        "outputId": "1d633b4e-9e20-4207-9071-d2b0c98abf2b"
      },
      "execution_count": 64,
      "outputs": [
        {
          "output_type": "stream",
          "name": "stdout",
          "text": [
            "yraidemretnI\n",
            "intermediary\n",
            "INTERMEDIARY\n",
            "['The', 'rodeo', 'with', 'a', 'stereo']\n"
          ]
        }
      ]
    },
    {
      "cell_type": "markdown",
      "source": [
        "## CONDITIONS"
      ],
      "metadata": {
        "id": "f2MROaLL9yIb"
      }
    },
    {
      "cell_type": "code",
      "source": [],
      "metadata": {
        "id": "N7w4a2Q74ksa"
      },
      "execution_count": null,
      "outputs": []
    },
    {
      "cell_type": "code",
      "source": [],
      "metadata": {
        "id": "AGTSpZwS4hZq"
      },
      "execution_count": null,
      "outputs": []
    },
    {
      "cell_type": "code",
      "source": [],
      "metadata": {
        "id": "9W6rZPxL4e8W"
      },
      "execution_count": null,
      "outputs": []
    },
    {
      "cell_type": "code",
      "source": [],
      "metadata": {
        "id": "bu69iYeQ4UKA"
      },
      "execution_count": null,
      "outputs": []
    },
    {
      "cell_type": "code",
      "source": [],
      "metadata": {
        "id": "tnndA0RX375A"
      },
      "execution_count": null,
      "outputs": []
    },
    {
      "cell_type": "code",
      "source": [],
      "metadata": {
        "id": "lstx0tVX3yoG"
      },
      "execution_count": null,
      "outputs": []
    },
    {
      "cell_type": "code",
      "source": [],
      "metadata": {
        "id": "zi8mFct52myM"
      },
      "execution_count": null,
      "outputs": []
    },
    {
      "cell_type": "code",
      "source": [],
      "metadata": {
        "id": "2VJNseZb2Yex"
      },
      "execution_count": null,
      "outputs": []
    },
    {
      "cell_type": "code",
      "source": [],
      "metadata": {
        "id": "Hd5MH1Tw2Umc"
      },
      "execution_count": null,
      "outputs": []
    },
    {
      "cell_type": "code",
      "source": [],
      "metadata": {
        "id": "o4l7h1A22Phk"
      },
      "execution_count": null,
      "outputs": []
    },
    {
      "cell_type": "code",
      "source": [],
      "metadata": {
        "id": "17BhslER2MhP"
      },
      "execution_count": null,
      "outputs": []
    },
    {
      "cell_type": "code",
      "source": [],
      "metadata": {
        "id": "4DnWBPfw0jVj"
      },
      "execution_count": null,
      "outputs": []
    },
    {
      "cell_type": "code",
      "source": [],
      "metadata": {
        "id": "PkeP_-Ro0Pho"
      },
      "execution_count": null,
      "outputs": []
    },
    {
      "cell_type": "code",
      "source": [],
      "metadata": {
        "id": "cxInCwnv0A8A"
      },
      "execution_count": null,
      "outputs": []
    },
    {
      "cell_type": "code",
      "source": [],
      "metadata": {
        "id": "ZaIc1SzOzveU"
      },
      "execution_count": null,
      "outputs": []
    },
    {
      "cell_type": "code",
      "source": [],
      "metadata": {
        "id": "7S2TcTfSztq9"
      },
      "execution_count": null,
      "outputs": []
    },
    {
      "cell_type": "code",
      "source": [],
      "metadata": {
        "id": "Iauzo1fBzXdS"
      },
      "execution_count": null,
      "outputs": []
    },
    {
      "cell_type": "code",
      "source": [],
      "metadata": {
        "id": "h0uaGGAwzTCP"
      },
      "execution_count": null,
      "outputs": []
    },
    {
      "cell_type": "code",
      "source": [],
      "metadata": {
        "id": "QXwvochozIrW"
      },
      "execution_count": null,
      "outputs": []
    },
    {
      "cell_type": "code",
      "source": [],
      "metadata": {
        "id": "Lu7d9UhUzC62"
      },
      "execution_count": null,
      "outputs": []
    },
    {
      "cell_type": "code",
      "source": [],
      "metadata": {
        "id": "hQKw8ZQojt2s"
      },
      "execution_count": null,
      "outputs": []
    },
    {
      "cell_type": "code",
      "source": [],
      "metadata": {
        "id": "2gsNDuCCi5N1"
      },
      "execution_count": null,
      "outputs": []
    },
    {
      "cell_type": "code",
      "source": [],
      "metadata": {
        "id": "q6wcTVnfgmtb"
      },
      "execution_count": null,
      "outputs": []
    },
    {
      "cell_type": "code",
      "source": [],
      "metadata": {
        "id": "hADHxJWwdcb3"
      },
      "execution_count": null,
      "outputs": []
    },
    {
      "cell_type": "code",
      "source": [],
      "metadata": {
        "id": "efUZn2s7dZwf"
      },
      "execution_count": null,
      "outputs": []
    },
    {
      "cell_type": "code",
      "source": [],
      "metadata": {
        "id": "vCIggXDbc-ph"
      },
      "execution_count": null,
      "outputs": []
    },
    {
      "cell_type": "code",
      "source": [],
      "metadata": {
        "id": "oZ1ZECixcrh-"
      },
      "execution_count": null,
      "outputs": []
    },
    {
      "cell_type": "code",
      "source": [],
      "metadata": {
        "id": "ybtOOpzbYyhl"
      },
      "execution_count": null,
      "outputs": []
    },
    {
      "cell_type": "code",
      "source": [],
      "metadata": {
        "id": "2COGGsGLXs4D"
      },
      "execution_count": null,
      "outputs": []
    },
    {
      "cell_type": "code",
      "source": [],
      "metadata": {
        "id": "ZW0I7TypVqj7"
      },
      "execution_count": null,
      "outputs": []
    },
    {
      "cell_type": "code",
      "source": [],
      "metadata": {
        "id": "DzaSteXKXV9e"
      },
      "execution_count": null,
      "outputs": []
    },
    {
      "cell_type": "code",
      "source": [],
      "metadata": {
        "id": "su0mUPBTVi11"
      },
      "execution_count": null,
      "outputs": []
    },
    {
      "cell_type": "code",
      "source": [],
      "metadata": {
        "id": "N6xstDX-UDJC"
      },
      "execution_count": null,
      "outputs": []
    }
  ]
}