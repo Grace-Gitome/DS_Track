{
  "nbformat": 4,
  "nbformat_minor": 0,
  "metadata": {
    "colab": {
      "provenance": [],
      "authorship_tag": "ABX9TyOc2aT0dgk+NooQOk6jemaZ",
      "include_colab_link": true
    },
    "kernelspec": {
      "name": "python3",
      "display_name": "Python 3"
    },
    "language_info": {
      "name": "python"
    }
  },
  "cells": [
    {
      "cell_type": "markdown",
      "metadata": {
        "id": "view-in-github",
        "colab_type": "text"
      },
      "source": [
        "<a href=\"https://colab.research.google.com/github/Grace-Gitome/DS_Track/blob/PythonBasics/Python_Basics.ipynb\" target=\"_parent\"><img src=\"https://colab.research.google.com/assets/colab-badge.svg\" alt=\"Open In Colab\"/></a>"
      ]
    },
    {
      "cell_type": "markdown",
      "source": [
        "VARIABLES"
      ],
      "metadata": {
        "id": "06DbVoYlZikK"
      }
    },
    {
      "cell_type": "code",
      "source": [
        "#Basics refresher on python variables\n",
        "#Resource used is pythonlearning.com"
      ],
      "metadata": {
        "id": "52Cit3wlT90m"
      },
      "execution_count": 17,
      "outputs": []
    },
    {
      "cell_type": "code",
      "source": [
        "#Function to check object type\n",
        "mynum = 44\n",
        "print(type(mynum))\n",
        "\n",
        "\n",
        "mynum = 44.67\n",
        "print(type(mynum))"
      ],
      "metadata": {
        "colab": {
          "base_uri": "https://localhost:8080/"
        },
        "id": "IGGLbYCyXR8t",
        "outputId": "9485c03a-a84b-40da-f126-e233e9c868eb"
      },
      "execution_count": 14,
      "outputs": [
        {
          "output_type": "stream",
          "name": "stdout",
          "text": [
            "<class 'int'>\n",
            "<class 'float'>\n"
          ]
        }
      ]
    },
    {
      "cell_type": "code",
      "source": [
        "## Data Types\n",
        "#simultaneous variable assignment\n",
        "\n",
        "a,b = 3,4;\n",
        "print (a,b)"
      ],
      "metadata": {
        "colab": {
          "base_uri": "https://localhost:8080/"
        },
        "id": "pEUpbpOhNeFU",
        "outputId": "15d8e411-1a4d-4a87-a38c-2092a5bc6db4"
      },
      "execution_count": 2,
      "outputs": [
        {
          "output_type": "stream",
          "name": "stdout",
          "text": [
            "3 4\n"
          ]
        }
      ]
    },
    {
      "cell_type": "markdown",
      "source": [
        "##isinstance() function\n",
        "It is used to check if number is either int or float"
      ],
      "metadata": {
        "id": "eJ7dy81qVkaL"
      }
    },
    {
      "cell_type": "code",
      "source": [
        "#isinstance() function\n",
        "#It returns true or false since it is a boolean function.\n",
        "print(isinstance(400,int))\n",
        "print(isinstance(400,float))"
      ],
      "metadata": {
        "colab": {
          "base_uri": "https://localhost:8080/"
        },
        "id": "u8ckPn3mWuO_",
        "outputId": "ace6390f-6baf-4d51-d480-06ee1d3ec577"
      },
      "execution_count": 11,
      "outputs": [
        {
          "output_type": "stream",
          "name": "stdout",
          "text": [
            "True\n",
            "False\n"
          ]
        }
      ]
    },
    {
      "cell_type": "code",
      "source": [
        "#isinstance() function\n",
        "mynum = 7.77\n",
        "\n",
        "if isinstance(mynum, int):\n",
        "  print(\"Number is an integer\")\n",
        "\n",
        "if isinstance(mynum, float):\n",
        "  print(\"Number is  a float variable.\")\n",
        "\n",
        "  #alternatively, simultaneous variable check\n",
        "if isinstance(mynum,(int,float)):\n",
        "  print('Number is either an integer or a float variable')\n",
        "\n",
        "\n"
      ],
      "metadata": {
        "colab": {
          "base_uri": "https://localhost:8080/"
        },
        "id": "fILLqY3GUG3G",
        "outputId": "143ba2ef-7cad-42f8-a862-9b29717c9759"
      },
      "execution_count": 9,
      "outputs": [
        {
          "output_type": "stream",
          "name": "stdout",
          "text": [
            "Number is  a float variable.\n",
            "Number is either an integer or a float variable\n"
          ]
        }
      ]
    },
    {
      "cell_type": "code",
      "source": [
        "# Exercise on variables.\n",
        "mystring = \"Hello\"\n",
        "myfloat  =  10.0\n",
        "myint    =  20\n",
        "\n",
        "#test script\n",
        "if mystring ==\"Hello\":\n",
        "  print(\"String: %s\" % mystring)\n",
        "\n",
        "#the function checks the variable datatype and the assigned value\n",
        "if isinstance(myfloat,float) and myfloat== 10.0: \n",
        "  print(\"Float %f\" %myfloat)    \n",
        "\n",
        "if isinstance(myint,int) and myint == 20:\n",
        "  print(\"Integer: %d\" %myint)         \n",
        "\n"
      ],
      "metadata": {
        "colab": {
          "base_uri": "https://localhost:8080/"
        },
        "id": "ItHmxfJTNheq",
        "outputId": "416da46c-41e9-4470-cccb-e1dd0c3f66b6"
      },
      "execution_count": 16,
      "outputs": [
        {
          "output_type": "stream",
          "name": "stdout",
          "text": [
            "String: Hello\n",
            "Float 10.000000\n",
            "Integer: 20\n"
          ]
        }
      ]
    },
    {
      "cell_type": "markdown",
      "source": [
        "### PYTHON COLLECTIONS(arrays)\n",
        "There are four collection data types<br>\n",
        "LIST - a collection which is ordered and mutable, it allows duplicate members.<br>\n",
        "\n",
        "TUPLE - a collection which is ordered and immutable. It allows duplicate members <br>\n",
        "\n",
        "SET - collection which is unordered,immutable and unindexed. It has no duplicate members.<br>\n",
        "\n",
        "DICTIONARY- a collection which is ordered and mutable. It does not allow duplicate members."
      ],
      "metadata": {
        "id": "YAMPbvy4dlnz"
      }
    },
    {
      "cell_type": "markdown",
      "source": [
        "### LISTS\n",
        "A list is used to store multiple items in a variable. <br>\n",
        "Lists are ordered, changeable(mutable) and allow duplicate values.<br>\n",
        "Ordered means that items have a defined order, if you add new items to a list they are placed at the end of the list. There is use of indexes.<br>\n",
        "Changable/mutable means than we can perform CRUD operations on the lists items."
      ],
      "metadata": {
        "id": "njzpGkYKbLQw"
      }
    },
    {
      "cell_type": "code",
      "source": [
        "#List manipulation.\n",
        "mylist = [\"data\", \"mathematics\", \"statistics\"]\n",
        "#determine list length\n",
        "print(len(mylist))    #len()\n",
        "\n",
        "#determine object type\n",
        "print(type(mylist))    #type()\n",
        "\n",
        "#list construction\n",
        "mylist = list((\"data\", \"mathematics\", \"statistics\"))  #list()\n",
        "print(mylist)\n",
        "\n",
        "#add values to the list\n",
        "mylist.append(\"ML\")      #append()\n",
        "print(mylist)\n"
      ],
      "metadata": {
        "colab": {
          "base_uri": "https://localhost:8080/"
        },
        "id": "ejlrTzt_Y9oU",
        "outputId": "2c75e617-ef12-41b4-857c-2f5008f0a566"
      },
      "execution_count": 22,
      "outputs": [
        {
          "output_type": "stream",
          "name": "stdout",
          "text": [
            "3\n",
            "<class 'list'>\n",
            "['data', 'mathematics', 'statistics']\n",
            "['data', 'mathematics', 'statistics', 'ML']\n"
          ]
        }
      ]
    },
    {
      "cell_type": "code",
      "source": [
        "#Exercise on lists\n",
        "numbers = [1,2,3]\n",
        "strings = [\"Collab\", \"Github\", \"Clickup\"]\n",
        "\n",
        "second_platform = strings[1]\n",
        "\n",
        "print(numbers)\n",
        "print(strings)\n",
        "print(\"The second SAAS on the strings list is %s\" %second_platform)"
      ],
      "metadata": {
        "colab": {
          "base_uri": "https://localhost:8080/"
        },
        "id": "M3L1eVR-fFXi",
        "outputId": "d3cef70e-1a2a-4b1c-fa6e-090cc3912d1f"
      },
      "execution_count": 23,
      "outputs": [
        {
          "output_type": "stream",
          "name": "stdout",
          "text": [
            "[1, 2, 3]\n",
            "['Collab', 'Github', 'Clickup']\n",
            "The second SAAS on the strings list is Github\n"
          ]
        }
      ]
    },
    {
      "cell_type": "code",
      "source": [
        "#Exercise on Basic operators\n",
        "x_list  = [\"x\"]*10  #contains 10 instances of x\n",
        "y_list  = [\"y\"]*10\n",
        "\n",
        "big_list =x_list +y_list   #concancet the two lists\n",
        "\n",
        "#length check\n",
        "print(\"x_list contains %d objects\" %len(x_list))\n",
        "print(\"y_list contains %d objects\" %len(y_list))\n",
        "print(\"big_list contains %d objects\" %len(big_list))\n",
        "\n"
      ],
      "metadata": {
        "colab": {
          "base_uri": "https://localhost:8080/"
        },
        "id": "bzUL4zqegn2S",
        "outputId": "f1524c23-032e-4009-9b51-64de7be66a82"
      },
      "execution_count": 36,
      "outputs": [
        {
          "output_type": "stream",
          "name": "stdout",
          "text": [
            "x_list contains 10 objects\n",
            "y_list contains 10 objects\n",
            "big_list contains 20 objects\n"
          ]
        }
      ]
    },
    {
      "cell_type": "code",
      "source": [],
      "metadata": {
        "id": "BA0mCNp9kJy1"
      },
      "execution_count": null,
      "outputs": []
    },
    {
      "cell_type": "code",
      "source": [],
      "metadata": {
        "id": "Pk9bEX07kDb6"
      },
      "execution_count": null,
      "outputs": []
    },
    {
      "cell_type": "code",
      "source": [],
      "metadata": {
        "id": "hQKw8ZQojt2s"
      },
      "execution_count": null,
      "outputs": []
    },
    {
      "cell_type": "code",
      "source": [
        "print([1,2,3] * 3)"
      ],
      "metadata": {
        "colab": {
          "base_uri": "https://localhost:8080/"
        },
        "id": "sBXHeGnGhKc4",
        "outputId": "e3ff92c4-cc99-46a4-a267-cb5b538b3678"
      },
      "execution_count": 26,
      "outputs": [
        {
          "output_type": "stream",
          "name": "stdout",
          "text": [
            "[1, 2, 3, 1, 2, 3, 1, 2, 3]\n"
          ]
        }
      ]
    },
    {
      "cell_type": "code",
      "source": [
        "print([\"x\"] * 10)"
      ],
      "metadata": {
        "colab": {
          "base_uri": "https://localhost:8080/"
        },
        "id": "_iF78C-viovM",
        "outputId": "36c03815-275b-48e5-c434-8d60e5bbc927"
      },
      "execution_count": 32,
      "outputs": [
        {
          "output_type": "stream",
          "name": "stdout",
          "text": [
            "['x', 'x', 'x', 'x', 'x', 'x', 'x', 'x', 'x', 'x']\n"
          ]
        }
      ]
    },
    {
      "cell_type": "code",
      "source": [],
      "metadata": {
        "id": "2gsNDuCCi5N1"
      },
      "execution_count": null,
      "outputs": []
    },
    {
      "cell_type": "code",
      "source": [],
      "metadata": {
        "id": "q6wcTVnfgmtb"
      },
      "execution_count": null,
      "outputs": []
    },
    {
      "cell_type": "code",
      "source": [],
      "metadata": {
        "id": "hADHxJWwdcb3"
      },
      "execution_count": null,
      "outputs": []
    },
    {
      "cell_type": "code",
      "source": [],
      "metadata": {
        "id": "efUZn2s7dZwf"
      },
      "execution_count": null,
      "outputs": []
    },
    {
      "cell_type": "code",
      "source": [],
      "metadata": {
        "id": "vCIggXDbc-ph"
      },
      "execution_count": null,
      "outputs": []
    },
    {
      "cell_type": "code",
      "source": [],
      "metadata": {
        "id": "oZ1ZECixcrh-"
      },
      "execution_count": null,
      "outputs": []
    },
    {
      "cell_type": "code",
      "source": [],
      "metadata": {
        "id": "ybtOOpzbYyhl"
      },
      "execution_count": null,
      "outputs": []
    },
    {
      "cell_type": "code",
      "source": [],
      "metadata": {
        "id": "2COGGsGLXs4D"
      },
      "execution_count": null,
      "outputs": []
    },
    {
      "cell_type": "code",
      "source": [],
      "metadata": {
        "id": "ZW0I7TypVqj7"
      },
      "execution_count": null,
      "outputs": []
    },
    {
      "cell_type": "code",
      "source": [],
      "metadata": {
        "id": "DzaSteXKXV9e"
      },
      "execution_count": null,
      "outputs": []
    },
    {
      "cell_type": "code",
      "source": [],
      "metadata": {
        "id": "su0mUPBTVi11"
      },
      "execution_count": null,
      "outputs": []
    },
    {
      "cell_type": "code",
      "source": [],
      "metadata": {
        "id": "N6xstDX-UDJC"
      },
      "execution_count": null,
      "outputs": []
    }
  ]
}