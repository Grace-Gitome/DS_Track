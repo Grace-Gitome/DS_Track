{
  "nbformat": 4,
  "nbformat_minor": 0,
  "metadata": {
    "colab": {
      "provenance": [],
      "collapsed_sections": [
        "2xcGx7BxwSU2",
        "f2MROaLL9yIb"
      ],
      "authorship_tag": "ABX9TyOqZkQmBCcW96FTsCO7uqLH",
      "include_colab_link": true
    },
    "kernelspec": {
      "name": "python3",
      "display_name": "Python 3"
    },
    "language_info": {
      "name": "python"
    }
  },
  "cells": [
    {
      "cell_type": "markdown",
      "metadata": {
        "id": "view-in-github",
        "colab_type": "text"
      },
      "source": [
        "<a href=\"https://colab.research.google.com/github/Grace-Gitome/DS_Track/blob/main/Python_Basics.ipynb\" target=\"_parent\"><img src=\"https://colab.research.google.com/assets/colab-badge.svg\" alt=\"Open In Colab\"/></a>"
      ]
    },
    {
      "cell_type": "markdown",
      "source": [
        "### VARIABLES"
      ],
      "metadata": {
        "id": "06DbVoYlZikK"
      }
    },
    {
      "cell_type": "code",
      "source": [
        "#Basics refresher on python variables\n",
        "#Resource used is learnpython.com"
      ],
      "metadata": {
        "id": "52Cit3wlT90m"
      },
      "execution_count": null,
      "outputs": []
    },
    {
      "cell_type": "markdown",
      "source": [],
      "metadata": {
        "id": "SlBlh3221l5j"
      }
    },
    {
      "cell_type": "code",
      "source": [
        "#Function to check object type\n",
        "mynum = 44\n",
        "print(type(mynum))\n",
        "\n",
        "\n",
        "mynum = 44.67\n",
        "print(type(mynum))"
      ],
      "metadata": {
        "colab": {
          "base_uri": "https://localhost:8080/"
        },
        "id": "IGGLbYCyXR8t",
        "outputId": "9485c03a-a84b-40da-f126-e233e9c868eb"
      },
      "execution_count": null,
      "outputs": [
        {
          "output_type": "stream",
          "name": "stdout",
          "text": [
            "<class 'int'>\n",
            "<class 'float'>\n"
          ]
        }
      ]
    },
    {
      "cell_type": "code",
      "source": [
        "## Data Types\n",
        "#simultaneous variable assignment\n",
        "\n",
        "a,b = 3,4;\n",
        "print (a,b)"
      ],
      "metadata": {
        "colab": {
          "base_uri": "https://localhost:8080/"
        },
        "id": "pEUpbpOhNeFU",
        "outputId": "15d8e411-1a4d-4a87-a38c-2092a5bc6db4"
      },
      "execution_count": null,
      "outputs": [
        {
          "output_type": "stream",
          "name": "stdout",
          "text": [
            "3 4\n"
          ]
        }
      ]
    },
    {
      "cell_type": "code",
      "source": [
        "print([1,2,3] * 3)  #repeat the values in the list three times by multiplying it with 3"
      ],
      "metadata": {
        "colab": {
          "base_uri": "https://localhost:8080/"
        },
        "id": "sBXHeGnGhKc4",
        "outputId": "e3ff92c4-cc99-46a4-a267-cb5b538b3678"
      },
      "execution_count": null,
      "outputs": [
        {
          "output_type": "stream",
          "name": "stdout",
          "text": [
            "[1, 2, 3, 1, 2, 3, 1, 2, 3]\n"
          ]
        }
      ]
    },
    {
      "cell_type": "code",
      "source": [
        "#Exercise on Basic operators\n",
        "x_list  = [\"x\"]*10  #contains 10 instances of x\n",
        "y_list  = [\"y\"]*10\n",
        "\n",
        "big_list =x_list +y_list   #concancet the two lists\n",
        "\n",
        "#length check\n",
        "print(\"x_list contains %d objects\" %len(x_list))\n",
        "print(\"y_list contains %d objects\" %len(y_list))\n",
        "print(\"big_list contains %d objects\" %len(big_list))\n"
      ],
      "metadata": {
        "colab": {
          "base_uri": "https://localhost:8080/"
        },
        "id": "1UWGz4LXzrz1",
        "outputId": "443b8006-4a22-4f30-8341-bdeb96ad0e70"
      },
      "execution_count": 50,
      "outputs": [
        {
          "output_type": "stream",
          "name": "stdout",
          "text": [
            "x_list contains 10 objects\n",
            "y_list contains 10 objects\n",
            "big_list contains 20 objects\n"
          ]
        }
      ]
    },
    {
      "cell_type": "markdown",
      "source": [
        "###isinstance() function\n",
        "It is used to check if number is either int or float"
      ],
      "metadata": {
        "id": "eJ7dy81qVkaL"
      }
    },
    {
      "cell_type": "code",
      "source": [
        "#isinstance() function\n",
        "#It returns true or false since it is a boolean function.\n",
        "print(isinstance(400,int))\n",
        "print(isinstance(400,float))"
      ],
      "metadata": {
        "colab": {
          "base_uri": "https://localhost:8080/"
        },
        "id": "u8ckPn3mWuO_",
        "outputId": "ace6390f-6baf-4d51-d480-06ee1d3ec577"
      },
      "execution_count": null,
      "outputs": [
        {
          "output_type": "stream",
          "name": "stdout",
          "text": [
            "True\n",
            "False\n"
          ]
        }
      ]
    },
    {
      "cell_type": "code",
      "source": [
        "#isinstance() function\n",
        "mynum = 7.77\n",
        "\n",
        "if isinstance(mynum, int):\n",
        "  print(\"Number is an integer\")\n",
        "\n",
        "if isinstance(mynum, float):\n",
        "  print(\"Number is  a float variable.\")\n",
        "\n",
        "  #alternatively, simultaneous variable check\n",
        "if isinstance(mynum,(int,float)):\n",
        "  print('Number is either an integer or a float variable')\n",
        "\n",
        "\n"
      ],
      "metadata": {
        "colab": {
          "base_uri": "https://localhost:8080/"
        },
        "id": "fILLqY3GUG3G",
        "outputId": "143ba2ef-7cad-42f8-a862-9b29717c9759"
      },
      "execution_count": null,
      "outputs": [
        {
          "output_type": "stream",
          "name": "stdout",
          "text": [
            "Number is  a float variable.\n",
            "Number is either an integer or a float variable\n"
          ]
        }
      ]
    },
    {
      "cell_type": "code",
      "source": [
        "# Exercise on variables.\n",
        "mystring = \"Hello\"\n",
        "myfloat  =  10.0\n",
        "myint    =  20\n",
        "\n",
        "#test script\n",
        "if mystring ==\"Hello\":\n",
        "  print(\"String: %s\" % mystring)\n",
        "\n",
        "#the function checks the variable datatype and the assigned value\n",
        "if isinstance(myfloat,float) and myfloat== 10.0: \n",
        "  print(\"Float %f\" %myfloat)    \n",
        "\n",
        "if isinstance(myint,int) and myint == 20:\n",
        "  print(\"Integer: %d\" %myint)         \n",
        "\n"
      ],
      "metadata": {
        "colab": {
          "base_uri": "https://localhost:8080/"
        },
        "id": "ItHmxfJTNheq",
        "outputId": "416da46c-41e9-4470-cccb-e1dd0c3f66b6"
      },
      "execution_count": null,
      "outputs": [
        {
          "output_type": "stream",
          "name": "stdout",
          "text": [
            "String: Hello\n",
            "Float 10.000000\n",
            "Integer: 20\n"
          ]
        }
      ]
    },
    {
      "cell_type": "markdown",
      "source": [
        "### PYTHON COLLECTIONS(arrays)\n",
        "There are four collection data types<br>\n",
        "LIST - a collection which is ordered and mutable, it allows duplicate members.<br>\n",
        "\n",
        "TUPLE - a collection which is ordered and immutable. It allows duplicate members <br>\n",
        "\n",
        "SET - collection which is unordered,immutable and unindexed. It has no duplicate members.<br>\n",
        "\n",
        "DICTIONARY- a collection which is ordered and mutable. It does not allow duplicate members."
      ],
      "metadata": {
        "id": "YAMPbvy4dlnz"
      }
    },
    {
      "cell_type": "markdown",
      "source": [
        "### LISTS\n",
        "A list is used to store multiple items in a variable. <br>\n",
        "Lists are ordered, changeable(mutable) and allow duplicate values.<br>\n",
        "Ordered means that items have a defined order, if you add new items to a list they are placed at the end of the list. There is use of indexes.<br>\n",
        "Changable/mutable means than we can perform CRUD operations on the lists items."
      ],
      "metadata": {
        "id": "njzpGkYKbLQw"
      }
    },
    {
      "cell_type": "code",
      "source": [
        "#List manipulation.\n",
        "mylist = [\"data\", \"mathematics\", \"statistics\"]\n",
        "#determine list length\n",
        "print(len(mylist))    #len()\n",
        "\n",
        "#determine object type\n",
        "print(type(mylist))    #type()\n",
        "\n",
        "#list construction\n",
        "mylist = list((\"data\", \"mathematics\", \"statistics\"))  #list()\n",
        "print(mylist)\n",
        "\n",
        "#add values to the list\n",
        "mylist.append(\"ML\")      #append()\n",
        "print(mylist)\n",
        "\n",
        "#insert item to list\n",
        "mylist.insert(3,\"Visualization\")      #insert() at a specified index\n",
        "print(mylist)\n",
        "\n",
        "#add value at end of list ..separate the words into single characters\n",
        "mylist.extend(\"Cleaning\")\n",
        "print(mylist)\n",
        "\n"
      ],
      "metadata": {
        "colab": {
          "base_uri": "https://localhost:8080/"
        },
        "id": "ejlrTzt_Y9oU",
        "outputId": "4cec3023-8506-48c0-88a6-1db659b4aa27"
      },
      "execution_count": null,
      "outputs": [
        {
          "output_type": "stream",
          "name": "stdout",
          "text": [
            "3\n",
            "<class 'list'>\n",
            "['data', 'mathematics', 'statistics']\n",
            "['data', 'mathematics', 'statistics', 'ML']\n",
            "['data', 'mathematics', 'statistics', 'Visualization', 'ML']\n",
            "['data', 'mathematics', 'statistics', 'Visualization', 'ML', 'C', 'l', 'e', 'a', 'n', 'i', 'n', 'g']\n"
          ]
        }
      ]
    },
    {
      "cell_type": "code",
      "source": [
        "mylist = [\"history\", \"science\", \"english\"]\n",
        "print(mylist)\n",
        "\n",
        "#removing specified item\n",
        "mylist.remove(\"history\")   \n",
        "print(mylist)\n",
        "\n",
        "#remove specified index\n",
        "mylist.pop(1)\n",
        "print(mylist)\n",
        "\n",
        "#remove last index\n",
        "mylist.pop()\n",
        "print(mylist)\n"
      ],
      "metadata": {
        "colab": {
          "base_uri": "https://localhost:8080/"
        },
        "id": "ag7sqN0H6olI",
        "outputId": "09f35030-153d-46f8-e51a-611cb35276db"
      },
      "execution_count": null,
      "outputs": [
        {
          "output_type": "stream",
          "name": "stdout",
          "text": [
            "['history', 'science', 'english']\n",
            "['science', 'english']\n",
            "['science']\n",
            "[]\n"
          ]
        }
      ]
    },
    {
      "cell_type": "code",
      "source": [
        "mylist = [\"history\", \"science\", \"english\", \"aviation\", \"theology\"]\n",
        "print(mylist)\n",
        "\n",
        "#removing specified item\n",
        "mylist.remove(\"history\")   \n",
        "print(mylist)\n",
        "\n",
        "#remove specified index\n",
        "mylist.pop(1)\n",
        "print(mylist)\n",
        "\n",
        "#remove last index  ****unsure\n",
        "mylist.pop()\n",
        "print(mylist)\n",
        "\n",
        "#clear list\n",
        "mylist.clear()  #list remains but with no content\n",
        "\n",
        "\n",
        "print(mylist)\n",
        "#delete list completely\n",
        "del mylist\n"
      ],
      "metadata": {
        "colab": {
          "base_uri": "https://localhost:8080/"
        },
        "id": "EcT77KEp707-",
        "outputId": "1008518e-6e6a-4bc0-ae43-15ebc912c43b"
      },
      "execution_count": null,
      "outputs": [
        {
          "output_type": "stream",
          "name": "stdout",
          "text": [
            "['history', 'science', 'english', 'aviation', 'theology']\n",
            "['science', 'english', 'aviation', 'theology']\n",
            "['science', 'aviation', 'theology']\n",
            "['science', 'aviation']\n",
            "[]\n"
          ]
        }
      ]
    },
    {
      "cell_type": "code",
      "source": [],
      "metadata": {
        "id": "iBZxH27bzTX9"
      },
      "execution_count": null,
      "outputs": []
    },
    {
      "cell_type": "code",
      "source": [
        "print([\"x\"] * 10) #list multiplication"
      ],
      "metadata": {
        "colab": {
          "base_uri": "https://localhost:8080/"
        },
        "id": "_iF78C-viovM",
        "outputId": "4a3f1e80-008b-47c8-d7d1-06dc8108a7cb"
      },
      "execution_count": 48,
      "outputs": [
        {
          "output_type": "stream",
          "name": "stdout",
          "text": [
            "['x', 'x', 'x', 'x', 'x', 'x', 'x', 'x', 'x', 'x']\n"
          ]
        }
      ]
    },
    {
      "cell_type": "code",
      "source": [
        "#Exercise on lists\n",
        "numbers = [1,2,3]\n",
        "strings = [\"Collab\", \"Github\", \"Clickup\"]\n",
        "\n",
        "second_platform = strings[1]\n",
        "\n",
        "print(numbers)\n",
        "print(strings)\n",
        "print(\"The second SAAS on the strings list is %s\" %second_platform)"
      ],
      "metadata": {
        "colab": {
          "base_uri": "https://localhost:8080/"
        },
        "id": "Tfe5xyrDze0h",
        "outputId": "3a4be56f-d5b2-4c57-86b7-2940e5ae7cab"
      },
      "execution_count": 49,
      "outputs": [
        {
          "output_type": "stream",
          "name": "stdout",
          "text": [
            "[1, 2, 3]\n",
            "['Collab', 'Github', 'Clickup']\n",
            "The second SAAS on the strings list is Github\n"
          ]
        }
      ]
    },
    {
      "cell_type": "markdown",
      "source": [
        "### LOOPS"
      ],
      "metadata": {
        "id": "xYtckhocgbov"
      }
    },
    {
      "cell_type": "code",
      "source": [
        "primes = [2,3,5,7]  #iteration over a list\n",
        "for prime in primes:\n",
        "  print(prime)"
      ],
      "metadata": {
        "colab": {
          "base_uri": "https://localhost:8080/"
        },
        "id": "SdqzaCBxgelg",
        "outputId": "4c2205b4-f2c6-42de-de11-f61b82270876"
      },
      "execution_count": 32,
      "outputs": [
        {
          "output_type": "stream",
          "name": "stdout",
          "text": [
            "2\n",
            "3\n",
            "5\n",
            "7\n"
          ]
        }
      ]
    },
    {
      "cell_type": "code",
      "source": [
        " #iteration over a string\n",
        "for x in \"banana\":\n",
        "  print(x)"
      ],
      "metadata": {
        "colab": {
          "base_uri": "https://localhost:8080/"
        },
        "id": "-dolzVrlsGls",
        "outputId": "4608acc9-a222-4e88-b693-5d60d178dff1"
      },
      "execution_count": 33,
      "outputs": [
        {
          "output_type": "stream",
          "name": "stdout",
          "text": [
            "b\n",
            "a\n",
            "n\n",
            "a\n",
            "n\n",
            "a\n"
          ]
        }
      ]
    },
    {
      "cell_type": "code",
      "source": [
        "for x in range (5):\n",
        "  print(x)\n",
        "else:\n",
        "  print(\"The end!\")  #else statement will only be executed after the for loop is completed"
      ],
      "metadata": {
        "colab": {
          "base_uri": "https://localhost:8080/"
        },
        "id": "V946UgdHr6IT",
        "outputId": "37ee52c1-a13e-49e2-c8fe-d05d0ef34214"
      },
      "execution_count": 34,
      "outputs": [
        {
          "output_type": "stream",
          "name": "stdout",
          "text": [
            "0\n",
            "1\n",
            "2\n",
            "3\n",
            "4\n",
            "The end!\n"
          ]
        }
      ]
    },
    {
      "cell_type": "code",
      "source": [
        "for x in range (5):\n",
        "  if x == 3:\n",
        "    break\n",
        "  print(x)\n",
        "else:\n",
        "  print(\"The end!\")   #else function will not be executed since the loop is broken"
      ],
      "metadata": {
        "colab": {
          "base_uri": "https://localhost:8080/"
        },
        "id": "4gaz6FCNsz5w",
        "outputId": "b9d0631d-a121-4cbd-f562-fbe448671591"
      },
      "execution_count": 35,
      "outputs": [
        {
          "output_type": "stream",
          "name": "stdout",
          "text": [
            "0\n",
            "1\n",
            "2\n"
          ]
        }
      ]
    },
    {
      "cell_type": "code",
      "source": [
        "for x in range(5):\n",
        "  print(x)"
      ],
      "metadata": {
        "colab": {
          "base_uri": "https://localhost:8080/"
        },
        "id": "yBIfd80pgfru",
        "outputId": "56ba7a67-5576-4e44-f395-9e7831b2eec0"
      },
      "execution_count": 2,
      "outputs": [
        {
          "output_type": "stream",
          "name": "stdout",
          "text": [
            "0\n",
            "1\n",
            "2\n",
            "3\n",
            "4\n"
          ]
        }
      ]
    },
    {
      "cell_type": "code",
      "source": [
        "for x in range(3,6):\n",
        "  print(x)"
      ],
      "metadata": {
        "colab": {
          "base_uri": "https://localhost:8080/"
        },
        "id": "nmhBZwwMg1lo",
        "outputId": "ace167fe-6101-4198-8e21-3df4f74ad12c"
      },
      "execution_count": 3,
      "outputs": [
        {
          "output_type": "stream",
          "name": "stdout",
          "text": [
            "3\n",
            "4\n",
            "5\n"
          ]
        }
      ]
    },
    {
      "cell_type": "code",
      "source": [
        "for x in range (3,10,2):\n",
        "  print(x)"
      ],
      "metadata": {
        "colab": {
          "base_uri": "https://localhost:8080/"
        },
        "id": "BGYsgXGXg81Q",
        "outputId": "8e67cbf0-354a-4a7d-de07-d811e7b25771"
      },
      "execution_count": 4,
      "outputs": [
        {
          "output_type": "stream",
          "name": "stdout",
          "text": [
            "3\n",
            "5\n",
            "7\n",
            "9\n"
          ]
        }
      ]
    },
    {
      "cell_type": "code",
      "source": [
        "#while loop\n",
        "\n",
        "count = 10\n",
        "while count < 20:\n",
        "  print(count)\n",
        "  count +=1"
      ],
      "metadata": {
        "colab": {
          "base_uri": "https://localhost:8080/"
        },
        "id": "UTIydW8KhEUr",
        "outputId": "650a0c3b-a5bb-4198-9ec8-9bf05607be75"
      },
      "execution_count": 6,
      "outputs": [
        {
          "output_type": "stream",
          "name": "stdout",
          "text": [
            "10\n",
            "11\n",
            "12\n",
            "13\n",
            "14\n",
            "15\n",
            "16\n",
            "17\n",
            "18\n",
            "19\n"
          ]
        }
      ]
    },
    {
      "cell_type": "code",
      "source": [
        "#break and continue statements\n",
        "#break exits a loop  wheares continue is used to skip the  current block and return to the for or while statement\n",
        "count = 10\n",
        "while count < 20:\n",
        "  print(count)\n",
        "  count +=1\n",
        "  if count >15:\n",
        "    break"
      ],
      "metadata": {
        "colab": {
          "base_uri": "https://localhost:8080/"
        },
        "id": "E5-L7lvGhW6a",
        "outputId": "b0b04d49-debc-4a24-c00a-5044a7a0bb96"
      },
      "execution_count": 7,
      "outputs": [
        {
          "output_type": "stream",
          "name": "stdout",
          "text": [
            "10\n",
            "11\n",
            "12\n",
            "13\n",
            "14\n",
            "15\n"
          ]
        }
      ]
    },
    {
      "cell_type": "code",
      "source": [
        "#break and continue statements\n",
        "count = 10\n",
        "while count < 20:\n",
        "  print(count)\n",
        "  count +=1\n",
        "  if count >15:\n",
        "    continue"
      ],
      "metadata": {
        "colab": {
          "base_uri": "https://localhost:8080/"
        },
        "id": "CxhVTzQ5iKsX",
        "outputId": "b50fc15d-ee74-4637-b8c1-d0f5078c3632"
      },
      "execution_count": 8,
      "outputs": [
        {
          "output_type": "stream",
          "name": "stdout",
          "text": [
            "10\n",
            "11\n",
            "12\n",
            "13\n",
            "14\n",
            "15\n",
            "16\n",
            "17\n",
            "18\n",
            "19\n"
          ]
        }
      ]
    },
    {
      "cell_type": "code",
      "source": [
        "#break and continue statements\n",
        "for x in range(10):\n",
        "  if x % 2 ==0:\n",
        "       continue\n",
        "  print(x)\n",
        "    "
      ],
      "metadata": {
        "colab": {
          "base_uri": "https://localhost:8080/"
        },
        "id": "1UQ8N2i5iPMl",
        "outputId": "f6201cee-77f7-4c53-cd66-f94c394217fe"
      },
      "execution_count": 16,
      "outputs": [
        {
          "output_type": "stream",
          "name": "stdout",
          "text": [
            "1\n",
            "3\n",
            "5\n",
            "7\n",
            "9\n"
          ]
        }
      ]
    },
    {
      "cell_type": "code",
      "source": [
        "#Exercise\n",
        "#Print all even numbers and stop if loop comes across 237\n",
        "numbers = [700,900,457,567,234,789,456,237,46,1,38,97]\n",
        "for number in numbers:\n",
        "  if number == 237:\n",
        "    break\n",
        "\n",
        "  if number % 2 == 1: #odd number\n",
        "    continue\n",
        "\n",
        "  print(number)"
      ],
      "metadata": {
        "colab": {
          "base_uri": "https://localhost:8080/"
        },
        "id": "un8IXtVhi5i_",
        "outputId": "1c816405-7b1f-423b-9aed-cace4d475edd"
      },
      "execution_count": 17,
      "outputs": [
        {
          "output_type": "stream",
          "name": "stdout",
          "text": [
            "700\n",
            "900\n",
            "234\n",
            "456\n"
          ]
        }
      ]
    },
    {
      "cell_type": "code",
      "source": [],
      "metadata": {
        "id": "u6Ba8YBxmXkN"
      },
      "execution_count": null,
      "outputs": []
    },
    {
      "cell_type": "code",
      "source": [
        "#Nested loop\n",
        "adj = [\"mazda\", \"ford\",\"range\"]\n",
        "owners = [\"Jill\",\"Jac\",\"Joe\"]\n",
        "\n",
        "for x in owners:\n",
        "  for y in adj:\n",
        "    print (x,y)"
      ],
      "metadata": {
        "colab": {
          "base_uri": "https://localhost:8080/"
        },
        "id": "hSIdkhohij-x",
        "outputId": "594e0d79-9e4d-4d0f-abc1-a23d9c3bc867"
      },
      "execution_count": 37,
      "outputs": [
        {
          "output_type": "stream",
          "name": "stdout",
          "text": [
            "Jill mazda\n",
            "Jill ford\n",
            "Jill range\n",
            "Jac mazda\n",
            "Jac ford\n",
            "Jac range\n",
            "Joe mazda\n",
            "Joe ford\n",
            "Joe range\n"
          ]
        }
      ]
    },
    {
      "cell_type": "code",
      "source": [],
      "metadata": {
        "id": "ED7ymWW8uWb1"
      },
      "execution_count": null,
      "outputs": []
    },
    {
      "cell_type": "markdown",
      "source": [
        "### FUNCTIONS"
      ],
      "metadata": {
        "id": "gtg_ra6l9Wje"
      }
    },
    {
      "cell_type": "code",
      "source": [
        "#Function with no argument\n",
        "def func():\n",
        "  print(\"Function with no argument\")\n",
        "\n",
        "func()"
      ],
      "metadata": {
        "id": "KAwNVcoG9Mtp",
        "colab": {
          "base_uri": "https://localhost:8080/"
        },
        "outputId": "a46762c9-ee2b-446f-862f-abf0f08f15c1"
      },
      "execution_count": null,
      "outputs": [
        {
          "output_type": "stream",
          "name": "stdout",
          "text": [
            "Function with no argument\n"
          ]
        }
      ]
    },
    {
      "cell_type": "code",
      "source": [
        "#Function with arguments\n",
        "#An argument is information passed into a function when it is called.\n",
        "#Parameter is the variable listed inside the parentheses in the function definition.\n"
      ],
      "metadata": {
        "id": "K3wtyMkgDYW5"
      },
      "execution_count": null,
      "outputs": []
    },
    {
      "cell_type": "code",
      "source": [
        "def func_with_args(username, greeting):\n",
        "    print(\"Hello, %s , %s\"%(username, greeting))\n",
        "func_with_args(\"John\",\"Have a good day\")"
      ],
      "metadata": {
        "colab": {
          "base_uri": "https://localhost:8080/"
        },
        "id": "98iPctVcmiu0",
        "outputId": "cd18ce75-b58b-4c3b-c28b-c07713a68333"
      },
      "execution_count": 21,
      "outputs": [
        {
          "output_type": "stream",
          "name": "stdout",
          "text": [
            "Hello, John , Have a good day\n"
          ]
        }
      ]
    },
    {
      "cell_type": "code",
      "source": [
        "def func (username, classes):\n",
        "  print(\"%s attend %s class\" %(username, classes))\n",
        "\n",
        "func(\"Josphat\",\"Telecommunications\")"
      ],
      "metadata": {
        "colab": {
          "base_uri": "https://localhost:8080/"
        },
        "id": "zImymmaYnHjN",
        "outputId": "70731683-e444-429c-8c5b-8c41d444f0a8"
      },
      "execution_count": 23,
      "outputs": [
        {
          "output_type": "stream",
          "name": "stdout",
          "text": [
            "Josphat attend Telecommunications class\n"
          ]
        }
      ]
    },
    {
      "cell_type": "code",
      "source": [
        "def addition (a,d):\n",
        "  c = a+ d\n",
        "  print(c)\n",
        "\n",
        "addition(1,2)"
      ],
      "metadata": {
        "colab": {
          "base_uri": "https://localhost:8080/"
        },
        "id": "2BUUlTW0ntv-",
        "outputId": "3ad686d3-6d88-485f-92cc-9979f0a28cd2"
      },
      "execution_count": 25,
      "outputs": [
        {
          "output_type": "stream",
          "name": "stdout",
          "text": [
            "3\n"
          ]
        }
      ]
    },
    {
      "cell_type": "code",
      "source": [
        "def my_function(**kid):\n",
        "  print(\"His last name is \" + kid[\"lname\"])\n",
        "\n",
        "my_function(fname = \"Tobias\", lname = \"Refsnes\")"
      ],
      "metadata": {
        "colab": {
          "base_uri": "https://localhost:8080/"
        },
        "id": "kaJ2gDj0x8jw",
        "outputId": "89945d68-ca8a-4f6b-c408-2451ca6c56e4"
      },
      "execution_count": 46,
      "outputs": [
        {
          "output_type": "stream",
          "name": "stdout",
          "text": [
            "His last name is Refsnes\n"
          ]
        }
      ]
    },
    {
      "cell_type": "code",
      "source": [
        "#keyword arguments **kwargs\n",
        "#arguments are passed onto a dictionary unlike *args which are passed onto a list\n",
        "def func (**tour):\n",
        "  print(\"She will be travelling to %s\" % (tour[\"city\"]))\n",
        "\n",
        "func(city = \"Nairobi\", animals = \"zebras\")"
      ],
      "metadata": {
        "colab": {
          "base_uri": "https://localhost:8080/"
        },
        "id": "c9hcL3YVwFAU",
        "outputId": "bacaec32-29dd-4c35-c1ba-5827f19ab20b"
      },
      "execution_count": 47,
      "outputs": [
        {
          "output_type": "stream",
          "name": "stdout",
          "text": [
            "She will be travelling to Nairobi\n"
          ]
        }
      ]
    },
    {
      "cell_type": "code",
      "source": [
        "#passing a list as an argument\n",
        "def func (units):\n",
        "  for x in units:\n",
        "    print(x)\n",
        "\n",
        "values = [1,2,3]\n",
        "\n",
        "func(values)"
      ],
      "metadata": {
        "colab": {
          "base_uri": "https://localhost:8080/"
        },
        "id": "e4SpwqDXwuPs",
        "outputId": "8fc98b81-b004-47c5-aac3-646d815b7180"
      },
      "execution_count": 51,
      "outputs": [
        {
          "output_type": "stream",
          "name": "stdout",
          "text": [
            "1\n",
            "2\n",
            "3\n"
          ]
        }
      ]
    },
    {
      "cell_type": "code",
      "source": [
        "#use of return statement\n",
        "\n",
        "def func (maths):\n",
        "  return 5 * maths\n",
        "\n",
        "print(func(3))"
      ],
      "metadata": {
        "colab": {
          "base_uri": "https://localhost:8080/"
        },
        "id": "xsXc0xpKwCQC",
        "outputId": "a47b4060-e923-4b2c-e3ac-44b98f0f0797"
      },
      "execution_count": 52,
      "outputs": [
        {
          "output_type": "stream",
          "name": "stdout",
          "text": [
            "15\n"
          ]
        }
      ]
    },
    {
      "cell_type": "code",
      "source": [
        "#use of return statement\n",
        "\n",
        "def func (x):\n",
        "  return 5 * x\n",
        "\n",
        "print(func(3))"
      ],
      "metadata": {
        "id": "-CY7GDkI9HSd",
        "colab": {
          "base_uri": "https://localhost:8080/"
        },
        "outputId": "442403ef-6f03-4721-db3f-b40acfe5c943"
      },
      "execution_count": 53,
      "outputs": [
        {
          "output_type": "stream",
          "name": "stdout",
          "text": [
            "15\n"
          ]
        }
      ]
    },
    {
      "cell_type": "markdown",
      "source": [
        "## STRING FORMATTING\n",
        "Basic argument operators:<br>\n",
        "%s - string <br>\n",
        "%d - integers <br>\n",
        "%f - floating point numbers <br>\n",
        "%.<number of digits>f - floating point numbers with specified digits to the right of the dot <br>\n",
        "%x/%X -integers in hex representation (Lowercase/Uppercase)"
      ],
      "metadata": {
        "id": "2xcGx7BxwSU2"
      }
    },
    {
      "cell_type": "code",
      "source": [
        "Game = \"Baseball\"\n",
        "Score = 4\n",
        "\n",
        "print(\"%s score is %d\" %(Game,Score))"
      ],
      "metadata": {
        "colab": {
          "base_uri": "https://localhost:8080/"
        },
        "id": "mCoFr9k2x5Se",
        "outputId": "0dae7a90-d6ab-475f-ba93-05e2cafd3eee"
      },
      "execution_count": null,
      "outputs": [
        {
          "output_type": "stream",
          "name": "stdout",
          "text": [
            "Baseball score is 4\n"
          ]
        }
      ]
    },
    {
      "cell_type": "code",
      "source": [],
      "metadata": {
        "id": "dX9nseAHyTyX"
      },
      "execution_count": null,
      "outputs": []
    },
    {
      "cell_type": "code",
      "source": [
        "#Exercise on string formatting"
      ],
      "metadata": {
        "id": "BA0mCNp9kJy1"
      },
      "execution_count": null,
      "outputs": []
    },
    {
      "cell_type": "code",
      "source": [
        "data = (\"Grace\", \"Gitome\", 700)\n",
        "format_string = \"Hello %s %s. Your current balance is $%s\"\n",
        "\n",
        "print(format_string % data)"
      ],
      "metadata": {
        "colab": {
          "base_uri": "https://localhost:8080/"
        },
        "id": "ZYKYu7ZLxIiC",
        "outputId": "31dff422-5dd7-45cd-9f37-dd3669111cea"
      },
      "execution_count": null,
      "outputs": [
        {
          "output_type": "stream",
          "name": "stdout",
          "text": [
            "Hello Grace Gitome. Your current balance is $700\n"
          ]
        }
      ]
    },
    {
      "cell_type": "code",
      "source": [
        "#string modification\n",
        "string = \"Ring On\"\n",
        "print(string.index(\"O\"))  #index of a character index()\n",
        "\n",
        "print(string.count(\"g\"))  #count number of times a character appears count()\n",
        "\n",
        "print(string[2:4])  #prints character on second and third index\n",
        "\n",
        "print(string[2:])   #second character to end\n",
        "\n",
        "print(string[:5])   #all values before index 4\n",
        "\n",
        "print(string[-5:-2]) #values on index -4 to index -3"
      ],
      "metadata": {
        "colab": {
          "base_uri": "https://localhost:8080/"
        },
        "id": "Pk9bEX07kDb6",
        "outputId": "8307a52b-ca4a-4629-a771-62188e11b251"
      },
      "execution_count": null,
      "outputs": [
        {
          "output_type": "stream",
          "name": "stdout",
          "text": [
            "5\n",
            "1\n",
            "ng\n",
            "ng On\n",
            "Ring \n",
            "ng \n"
          ]
        }
      ]
    },
    {
      "cell_type": "code",
      "source": [
        "string =\"Intermediary\"\n",
        "print(string[3:7])\n",
        "print(string[3:7:1])  #[start:stop:step]\n",
        "print(string[3:9:2]) \n",
        "print(string[3:12:3]) \n"
      ],
      "metadata": {
        "colab": {
          "base_uri": "https://localhost:8080/"
        },
        "id": "QpvfkCYC011V",
        "outputId": "4ea63b2e-5223-4103-eed9-b0a36d69d742"
      },
      "execution_count": null,
      "outputs": [
        {
          "output_type": "stream",
          "name": "stdout",
          "text": [
            "erme\n",
            "erme\n",
            "emd\n",
            "eea\n"
          ]
        }
      ]
    },
    {
      "cell_type": "code",
      "source": [
        "#reverse a string\n",
        "string =\"Intermediary\"\n",
        "print(string[::-1])\n",
        "\n",
        "print(string.lower())\n",
        "print(string.upper())\n",
        "\n",
        "#split a string\n",
        "strz = \"The rodeo with a stereo\"\n",
        "print(strz.split())\n"
      ],
      "metadata": {
        "colab": {
          "base_uri": "https://localhost:8080/"
        },
        "id": "8ZvsTxzD2xs2",
        "outputId": "1d633b4e-9e20-4207-9071-d2b0c98abf2b"
      },
      "execution_count": null,
      "outputs": [
        {
          "output_type": "stream",
          "name": "stdout",
          "text": [
            "yraidemretnI\n",
            "intermediary\n",
            "INTERMEDIARY\n",
            "['The', 'rodeo', 'with', 'a', 'stereo']\n"
          ]
        }
      ]
    },
    {
      "cell_type": "markdown",
      "source": [
        "## CONDITIONS"
      ],
      "metadata": {
        "id": "f2MROaLL9yIb"
      }
    },
    {
      "cell_type": "code",
      "source": [],
      "metadata": {
        "id": "N7w4a2Q74ksa"
      },
      "execution_count": null,
      "outputs": []
    },
    {
      "cell_type": "code",
      "source": [],
      "metadata": {
        "id": "AGTSpZwS4hZq"
      },
      "execution_count": null,
      "outputs": []
    },
    {
      "cell_type": "code",
      "source": [],
      "metadata": {
        "id": "9W6rZPxL4e8W"
      },
      "execution_count": null,
      "outputs": []
    },
    {
      "cell_type": "code",
      "source": [],
      "metadata": {
        "id": "bu69iYeQ4UKA"
      },
      "execution_count": null,
      "outputs": []
    },
    {
      "cell_type": "code",
      "source": [],
      "metadata": {
        "id": "tnndA0RX375A"
      },
      "execution_count": null,
      "outputs": []
    },
    {
      "cell_type": "code",
      "source": [],
      "metadata": {
        "id": "lstx0tVX3yoG"
      },
      "execution_count": null,
      "outputs": []
    },
    {
      "cell_type": "code",
      "source": [],
      "metadata": {
        "id": "zi8mFct52myM"
      },
      "execution_count": null,
      "outputs": []
    },
    {
      "cell_type": "code",
      "source": [],
      "metadata": {
        "id": "2VJNseZb2Yex"
      },
      "execution_count": null,
      "outputs": []
    },
    {
      "cell_type": "code",
      "source": [],
      "metadata": {
        "id": "Hd5MH1Tw2Umc"
      },
      "execution_count": null,
      "outputs": []
    },
    {
      "cell_type": "code",
      "source": [],
      "metadata": {
        "id": "o4l7h1A22Phk"
      },
      "execution_count": null,
      "outputs": []
    },
    {
      "cell_type": "code",
      "source": [],
      "metadata": {
        "id": "17BhslER2MhP"
      },
      "execution_count": null,
      "outputs": []
    },
    {
      "cell_type": "code",
      "source": [],
      "metadata": {
        "id": "4DnWBPfw0jVj"
      },
      "execution_count": null,
      "outputs": []
    },
    {
      "cell_type": "code",
      "source": [],
      "metadata": {
        "id": "PkeP_-Ro0Pho"
      },
      "execution_count": null,
      "outputs": []
    },
    {
      "cell_type": "code",
      "source": [],
      "metadata": {
        "id": "cxInCwnv0A8A"
      },
      "execution_count": null,
      "outputs": []
    },
    {
      "cell_type": "code",
      "source": [],
      "metadata": {
        "id": "ZaIc1SzOzveU"
      },
      "execution_count": null,
      "outputs": []
    },
    {
      "cell_type": "code",
      "source": [],
      "metadata": {
        "id": "7S2TcTfSztq9"
      },
      "execution_count": null,
      "outputs": []
    },
    {
      "cell_type": "code",
      "source": [],
      "metadata": {
        "id": "Iauzo1fBzXdS"
      },
      "execution_count": null,
      "outputs": []
    },
    {
      "cell_type": "code",
      "source": [],
      "metadata": {
        "id": "h0uaGGAwzTCP"
      },
      "execution_count": null,
      "outputs": []
    },
    {
      "cell_type": "code",
      "source": [],
      "metadata": {
        "id": "QXwvochozIrW"
      },
      "execution_count": null,
      "outputs": []
    },
    {
      "cell_type": "code",
      "source": [],
      "metadata": {
        "id": "Lu7d9UhUzC62"
      },
      "execution_count": null,
      "outputs": []
    },
    {
      "cell_type": "code",
      "source": [],
      "metadata": {
        "id": "hQKw8ZQojt2s"
      },
      "execution_count": null,
      "outputs": []
    },
    {
      "cell_type": "code",
      "source": [],
      "metadata": {
        "id": "2gsNDuCCi5N1"
      },
      "execution_count": null,
      "outputs": []
    },
    {
      "cell_type": "code",
      "source": [],
      "metadata": {
        "id": "q6wcTVnfgmtb"
      },
      "execution_count": null,
      "outputs": []
    },
    {
      "cell_type": "code",
      "source": [],
      "metadata": {
        "id": "hADHxJWwdcb3"
      },
      "execution_count": null,
      "outputs": []
    },
    {
      "cell_type": "code",
      "source": [],
      "metadata": {
        "id": "efUZn2s7dZwf"
      },
      "execution_count": null,
      "outputs": []
    },
    {
      "cell_type": "code",
      "source": [],
      "metadata": {
        "id": "vCIggXDbc-ph"
      },
      "execution_count": null,
      "outputs": []
    },
    {
      "cell_type": "code",
      "source": [],
      "metadata": {
        "id": "oZ1ZECixcrh-"
      },
      "execution_count": null,
      "outputs": []
    },
    {
      "cell_type": "code",
      "source": [],
      "metadata": {
        "id": "ybtOOpzbYyhl"
      },
      "execution_count": null,
      "outputs": []
    },
    {
      "cell_type": "code",
      "source": [],
      "metadata": {
        "id": "2COGGsGLXs4D"
      },
      "execution_count": null,
      "outputs": []
    },
    {
      "cell_type": "code",
      "source": [],
      "metadata": {
        "id": "ZW0I7TypVqj7"
      },
      "execution_count": null,
      "outputs": []
    },
    {
      "cell_type": "code",
      "source": [],
      "metadata": {
        "id": "DzaSteXKXV9e"
      },
      "execution_count": null,
      "outputs": []
    },
    {
      "cell_type": "code",
      "source": [],
      "metadata": {
        "id": "su0mUPBTVi11"
      },
      "execution_count": null,
      "outputs": []
    },
    {
      "cell_type": "code",
      "source": [],
      "metadata": {
        "id": "N6xstDX-UDJC"
      },
      "execution_count": null,
      "outputs": []
    }
  ]
}