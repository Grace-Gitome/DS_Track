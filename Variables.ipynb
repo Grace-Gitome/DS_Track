{
  "nbformat": 4,
  "nbformat_minor": 0,
  "metadata": {
    "colab": {
      "provenance": [],
      "authorship_tag": "ABX9TyMu5oODsk+939poUN4iCppw",
      "include_colab_link": true
    },
    "kernelspec": {
      "name": "python3",
      "display_name": "Python 3"
    },
    "language_info": {
      "name": "python"
    }
  },
  "cells": [
    {
      "cell_type": "markdown",
      "metadata": {
        "id": "view-in-github",
        "colab_type": "text"
      },
      "source": [
        "<a href=\"https://colab.research.google.com/github/Grace-Gitome/DS_Track/blob/main/Variables.ipynb\" target=\"_parent\"><img src=\"https://colab.research.google.com/assets/colab-badge.svg\" alt=\"Open In Colab\"/></a>"
      ]
    },
    {
      "cell_type": "code",
      "source": [
        "## Data Types\n",
        "#simultaneous variable assignment\n",
        "\n",
        "a,b = 3,4;\n",
        "print (a,b)"
      ],
      "metadata": {
        "colab": {
          "base_uri": "https://localhost:8080/"
        },
        "id": "pEUpbpOhNeFU",
        "outputId": "15d8e411-1a4d-4a87-a38c-2092a5bc6db4"
      },
      "execution_count": 2,
      "outputs": [
        {
          "output_type": "stream",
          "name": "stdout",
          "text": [
            "3 4\n"
          ]
        }
      ]
    },
    {
      "cell_type": "code",
      "source": [
        "# Exercise\n",
        "mystring = \"Hello\"\n",
        "myfloat  =  10.0\n",
        "myint    =  20\n",
        "\n",
        "#test script\n",
        "if mystring ==\"hello\":\n",
        "  print(\"String: %s\" % mystring)\n"
      ],
      "metadata": {
        "id": "ItHmxfJTNheq"
      },
      "execution_count": 3,
      "outputs": []
    }
  ]
}